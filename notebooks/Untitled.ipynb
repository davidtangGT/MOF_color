{
 "cells": [
  {
   "cell_type": "markdown",
   "metadata": {},
   "source": [
    "# Analyze the model performance"
   ]
  },
  {
   "cell_type": "code",
   "execution_count": 2,
   "metadata": {},
   "outputs": [],
   "source": [
    "import matplotlib.pyplot as plt\n",
    "%matplotlib inline\n",
    "\n",
    "from colour.models import RGB_to_XYZ, XYZ_to_xy, XYZ_to_Lab, XYZ_to_RGB, Lab_to_XYZ, RGB_to_HSL, HSL_to_RGB\n",
    "from sklearn.model_selection import train_test_split\n",
    "import sys\n",
    "sys.path.append('../')\n",
    "import dill \n",
    "import pandas as pd \n",
    "import numpy as np \n",
    "import joblib\n",
    "from descriptornames import *"
   ]
  },
  {
   "cell_type": "code",
   "execution_count": 139,
   "metadata": {},
   "outputs": [],
   "source": [
    "with open('model.dill', 'rb') as fh: \n",
    "    model = dill.load(fh)"
   ]
  },
  {
   "cell_type": "code",
   "execution_count": 96,
   "metadata": {},
   "outputs": [],
   "source": [
    "# -*- coding: utf-8 -*-\n",
    "\"\"\"\n",
    "Filename: /home/kevin/Dropbox (LSMO)/proj75_mofcolor/ml/code/utils.py\n",
    "Path: /home/kevin/Dropbox (LSMO)/proj75_mofcolor/ml/code\n",
    "Created Date: Monday, February 24th 2020, 4:42:56 pm\n",
    "Author: Kevin Jablonka\n",
    "\n",
    "Copyright (c) 2020 Kevin Jablonka\n",
    "\"\"\"\n",
    "\n",
    "import os\n",
    "import collections\n",
    "import pickle\n",
    "import random\n",
    "import numpy as np\n",
    "import matplotlib.patches as mpatch\n",
    "from webcolors import rgb_to_hex\n",
    "import matplotlib.pyplot as plt\n",
    "from comet_ml import Experiment\n",
    "import time\n",
    "import tensorflow as tf\n",
    "from sklearn.preprocessing import StandardScaler, MinMaxScaler\n",
    "from keras import backend as BK\n",
    "import pandas as pd\n",
    "import ruamel.yaml as yaml\n",
    "from descriptornames import *\n",
    "from numpy.random import seed\n",
    "import joblib\n",
    "\n",
    "\n",
    "def augment_data(\n",
    "    df, augment_dict, r_col=\"r\", g_col=\"g\", b_col=\"b\", name_col=\"color_cleaned\"\n",
    "):\n",
    "    df_ = df.copy()\n",
    "\n",
    "    new_rows = []\n",
    "    for i, row in df.iterrows():\n",
    "        color = row[name_col]\n",
    "        r_ = row.copy()\n",
    "        for rgb in augment_dict[color]:\n",
    "            r_[r_col] = rgb[0]\n",
    "            r_[g_col] = rgb[1]\n",
    "            r_[b_col] = rgb[2]\n",
    "            new_rows.append(r_)\n",
    "\n",
    "    new_df = pd.concat([df, pd.DataFrame(new_rows)])\n",
    "    return new_df\n",
    "\n",
    "\n",
    "def augment_random(colorname, augment_dict):\n",
    "    possible_colors = augment_dict[colorname]\n",
    "    chosen_color = random.choice(possible_colors)\n",
    "    return np.array(chosen_color)\n",
    "\n",
    "\n",
    "def tf_augment_random():\n",
    "    raise NotImplementedError\n",
    "\n",
    "\n",
    "def read_pickle(file):\n",
    "    with open(file, \"rb\") as fh:\n",
    "        result = pickle.load(fh)\n",
    "    return result\n",
    "\n",
    "\n",
    "def huber_fn(y_true, y_pred):\n",
    "    error = y_true - y_pred\n",
    "    is_small_error = (\n",
    "        tf.abs(error) < 1\n",
    "    )  # replace `tf` with `K` where `K = keras.backend`\n",
    "    squared_loss = tf.square(error) / 2  # replace `tf` with `K`\n",
    "    linear_loss = tf.abs(error) - 0.5  # replace `tf` with `K`\n",
    "    return tf.where(is_small_error, squared_loss, linear_loss)\n",
    "\n",
    "\n",
    "def get_timestamp_string():\n",
    "    t = time.localtime()\n",
    "    timestamp = time.strftime(\"%b-%d-%Y_%H%M\", t)\n",
    "    return timestamp\n",
    "\n",
    "\n",
    "def mapping_to_target_range(x, target_min=0, target_max=1):\n",
    "    \"\"\"Linear activation function that constrains output to a range\n",
    "    \n",
    "    Arguments:\n",
    "        x {tensor} -- input tensor\n",
    "    \n",
    "    Keyword Arguments:\n",
    "        target_min {float} -- minimum output (default: {0})\n",
    "        target_max {float} -- maximum output (default: {1})\n",
    "    \n",
    "    Returns:\n",
    "        tensor -- constrained linear activation\n",
    "    \"\"\"\n",
    "    x02 = x + 1  # x in range(0,2)\n",
    "    scale = (target_max - target_min) / 2.0\n",
    "    return x02 * scale + target_min\n",
    "\n",
    "\n",
    "def mapping_to_target_range_sig(x, target_min=0, target_max=255):\n",
    "    \"\"\"Sigmoid activation function that constrains output to a range\n",
    "    \n",
    "    Arguments:\n",
    "        x {tensor} -- input tensor\n",
    "    \n",
    "    Keyword Arguments:\n",
    "        target_min {float} -- minimum output (default: {0})\n",
    "        target_max {float} -- maximum output (default: {255})\n",
    "    \n",
    "    Returns:\n",
    "        tensor -- constrained Sigmoid activation\n",
    "    \"\"\"\n",
    "    x02 = BK.sigmoid(x) + 1  # x in range(0,2)\n",
    "    scale = (target_max - target_min) / 2.0\n",
    "    return x02 * scale + target_min\n",
    "\n",
    "\n",
    "def plot_predictions(predictions, labels, names, sample=100, outname=None):\n",
    "    \"\"\"Plot figure that compares color of predictions versus acutal colors.\n",
    "    \n",
    "    Arguments:\n",
    "        predictions {iterable} -- iterable of rgb colors\n",
    "        labels {iterable} -- iterable of rgb colors\n",
    "        names {iterable} -- iterable of strings\n",
    "    \n",
    "    Keyword Arguments:\n",
    "        sample {int} -- how many samples to plot (default: {100})\n",
    "        outname {string} -- path to which figure is saved (default: {None})\n",
    "    \"\"\"\n",
    "    fig = plt.figure(figsize=[4.8, 16])\n",
    "    ax = fig.add_axes([0, 0, 1, 1])\n",
    "\n",
    "    predictions = predictions[:sample]\n",
    "    names = names[:sample]\n",
    "    labels = labels[:sample]\n",
    "\n",
    "    predictions = [rgb_to_hex((int(c[0]), int(c[1]), int(c[2]))) for c in predictions]\n",
    "    true = [rgb_to_hex((int(c[0]), int(c[1]), int(c[2]))) for c in labels]\n",
    "\n",
    "    for i in range(len(predictions)):\n",
    "        r1 = mpatch.Rectangle((0, i), 1, 1, color=predictions[i])\n",
    "        r2 = mpatch.Rectangle((1, i), 1, 1, color=true[i])\n",
    "        txt = ax.text(2, i + 0.5, \"  \" + names[i], va=\"center\", fontsize=10)\n",
    "\n",
    "        ax.add_patch(r1)\n",
    "        ax.add_patch(r2)\n",
    "        ax.axhline(i, color=\"k\")\n",
    "\n",
    "    ax.text(0.5, i + 1.5, \"prediction\", ha=\"center\", va=\"center\")\n",
    "    ax.text(1.5, i + 1.5, \"median RGB for label\", ha=\"center\", va=\"center\")\n",
    "    ax.set_xlim(0, 3)\n",
    "    ax.set_ylim(0, i + 2)\n",
    "    ax.axis(\"off\")\n",
    "\n",
    "    fig.tight_layout()\n",
    "\n",
    "    if outname is not None:\n",
    "        fig.savefig(outname, bbox_inches=\"tight\")\n",
    "\n",
    "\n",
    "def flatten(d, parent_key=\"\", sep=\"_\"):\n",
    "    items = []\n",
    "    for k, v in d.items():\n",
    "        new_key = parent_key + sep + k if parent_key else k\n",
    "        if isinstance(v, collections.MutableMapping):\n",
    "            items.extend(flatten(v, new_key, sep=sep).items())\n",
    "        else:\n",
    "            items.append((new_key, v))\n",
    "    return dict(items)\n",
    "\n",
    "\n",
    "def parse_config(yml_file):\n",
    "    with open(yml_file, \"r\") as stream:\n",
    "        try:\n",
    "            config = yaml.safe_load(stream)\n",
    "        except yaml.YAMLError as exc:\n",
    "            print(exc)\n",
    "    return config\n",
    "\n",
    "\n",
    "def make_if_not_exists(path):\n",
    "    if not os.path.exists(path):\n",
    "        os.makedirs(path)\n",
    "\n",
    "\n",
    "def select_features(selection: list):\n",
    "    selected_features = []\n",
    "    for feature in selection:\n",
    "        selected_features.extend(descriptor_dict[feature])\n",
    "\n",
    "    return selected_features\n",
    "\n",
    "    "
   ]
  },
  {
   "cell_type": "code",
   "execution_count": 140,
   "metadata": {},
   "outputs": [],
   "source": [
    "scaler = joblib.load(\"scaler.joblib\")"
   ]
  },
  {
   "cell_type": "code",
   "execution_count": 141,
   "metadata": {},
   "outputs": [],
   "source": [
    "df = pd.read_csv(\"../data/color_feat_merged.csv\")"
   ]
  },
  {
   "cell_type": "code",
   "execution_count": 99,
   "metadata": {},
   "outputs": [
    {
     "data": {
      "text/html": [
       "<div>\n",
       "<style scoped>\n",
       "    .dataframe tbody tr th:only-of-type {\n",
       "        vertical-align: middle;\n",
       "    }\n",
       "\n",
       "    .dataframe tbody tr th {\n",
       "        vertical-align: top;\n",
       "    }\n",
       "\n",
       "    .dataframe thead th {\n",
       "        text-align: right;\n",
       "    }\n",
       "</style>\n",
       "<table border=\"1\" class=\"dataframe\">\n",
       "  <thead>\n",
       "    <tr style=\"text-align: right;\">\n",
       "      <th></th>\n",
       "      <th>Unnamed: 0</th>\n",
       "      <th>mc_CRY-chi-0-all</th>\n",
       "      <th>mc_CRY-chi-1-all</th>\n",
       "      <th>mc_CRY-chi-2-all</th>\n",
       "      <th>mc_CRY-chi-3-all</th>\n",
       "      <th>mc_CRY-Z-0-all</th>\n",
       "      <th>mc_CRY-Z-1-all</th>\n",
       "      <th>mc_CRY-Z-2-all</th>\n",
       "      <th>mc_CRY-Z-3-all</th>\n",
       "      <th>mc_CRY-I-0-all</th>\n",
       "      <th>...</th>\n",
       "      <th>sum-D_func-alpha-0-all</th>\n",
       "      <th>sum-D_func-alpha-1-all</th>\n",
       "      <th>sum-D_func-alpha-2-all</th>\n",
       "      <th>sum-D_func-alpha-3-all</th>\n",
       "      <th>color_cleaned</th>\n",
       "      <th>color_string</th>\n",
       "      <th>delta_t_seconds</th>\n",
       "      <th>r</th>\n",
       "      <th>g</th>\n",
       "      <th>b</th>\n",
       "    </tr>\n",
       "  </thead>\n",
       "  <tbody>\n",
       "    <tr>\n",
       "      <th>6395</th>\n",
       "      <td>6395</td>\n",
       "      <td>5.108425</td>\n",
       "      <td>34.7784</td>\n",
       "      <td>20.158675</td>\n",
       "      <td>86.624362</td>\n",
       "      <td>4659.25</td>\n",
       "      <td>2482.00</td>\n",
       "      <td>17679.375</td>\n",
       "      <td>6179.75</td>\n",
       "      <td>1.0</td>\n",
       "      <td>...</td>\n",
       "      <td>0.0</td>\n",
       "      <td>-52.8</td>\n",
       "      <td>-37.333333</td>\n",
       "      <td>-95.2</td>\n",
       "      <td>wheat</td>\n",
       "      <td>wheat</td>\n",
       "      <td>18.112884</td>\n",
       "      <td>224.0</td>\n",
       "      <td>201.0</td>\n",
       "      <td>104.0</td>\n",
       "    </tr>\n",
       "    <tr>\n",
       "      <th>6396</th>\n",
       "      <td>6396</td>\n",
       "      <td>3.145975</td>\n",
       "      <td>29.3170</td>\n",
       "      <td>32.018275</td>\n",
       "      <td>79.484200</td>\n",
       "      <td>864.75</td>\n",
       "      <td>1114.75</td>\n",
       "      <td>1947.500</td>\n",
       "      <td>2588.00</td>\n",
       "      <td>1.0</td>\n",
       "      <td>...</td>\n",
       "      <td>0.0</td>\n",
       "      <td>650.1</td>\n",
       "      <td>0.000000</td>\n",
       "      <td>0.0</td>\n",
       "      <td>ruby red</td>\n",
       "      <td>ruby red</td>\n",
       "      <td>20.483727</td>\n",
       "      <td>197.5</td>\n",
       "      <td>9.0</td>\n",
       "      <td>22.5</td>\n",
       "    </tr>\n",
       "    <tr>\n",
       "      <th>6397</th>\n",
       "      <td>6397</td>\n",
       "      <td>3.610000</td>\n",
       "      <td>21.6600</td>\n",
       "      <td>28.462000</td>\n",
       "      <td>50.730000</td>\n",
       "      <td>841.00</td>\n",
       "      <td>3480.00</td>\n",
       "      <td>2436.000</td>\n",
       "      <td>4524.00</td>\n",
       "      <td>1.0</td>\n",
       "      <td>...</td>\n",
       "      <td>0.0</td>\n",
       "      <td>0.0</td>\n",
       "      <td>0.000000</td>\n",
       "      <td>0.0</td>\n",
       "      <td>black brown</td>\n",
       "      <td>black brown</td>\n",
       "      <td>32.576774</td>\n",
       "      <td>62.5</td>\n",
       "      <td>40.5</td>\n",
       "      <td>13.0</td>\n",
       "    </tr>\n",
       "    <tr>\n",
       "      <th>6398</th>\n",
       "      <td>6398</td>\n",
       "      <td>2.656900</td>\n",
       "      <td>33.6432</td>\n",
       "      <td>19.282900</td>\n",
       "      <td>39.054800</td>\n",
       "      <td>529.00</td>\n",
       "      <td>1104.00</td>\n",
       "      <td>1081.000</td>\n",
       "      <td>1288.00</td>\n",
       "      <td>1.0</td>\n",
       "      <td>...</td>\n",
       "      <td>0.0</td>\n",
       "      <td>0.0</td>\n",
       "      <td>0.000000</td>\n",
       "      <td>0.0</td>\n",
       "      <td>black brown</td>\n",
       "      <td>black brown</td>\n",
       "      <td>32.576774</td>\n",
       "      <td>62.5</td>\n",
       "      <td>40.5</td>\n",
       "      <td>13.0</td>\n",
       "    </tr>\n",
       "    <tr>\n",
       "      <th>6399</th>\n",
       "      <td>6399</td>\n",
       "      <td>3.534400</td>\n",
       "      <td>37.2992</td>\n",
       "      <td>28.764000</td>\n",
       "      <td>45.308000</td>\n",
       "      <td>729.00</td>\n",
       "      <td>1242.00</td>\n",
       "      <td>972.000</td>\n",
       "      <td>1080.00</td>\n",
       "      <td>1.0</td>\n",
       "      <td>...</td>\n",
       "      <td>0.0</td>\n",
       "      <td>-21.8</td>\n",
       "      <td>-35.400000</td>\n",
       "      <td>-54.0</td>\n",
       "      <td>red purple</td>\n",
       "      <td>red purple</td>\n",
       "      <td>21.367428</td>\n",
       "      <td>198.0</td>\n",
       "      <td>20.5</td>\n",
       "      <td>96.0</td>\n",
       "    </tr>\n",
       "  </tbody>\n",
       "</table>\n",
       "<p>5 rows × 341 columns</p>\n",
       "</div>"
      ],
      "text/plain": [
       "      Unnamed: 0  mc_CRY-chi-0-all  mc_CRY-chi-1-all  mc_CRY-chi-2-all  \\\n",
       "6395        6395          5.108425           34.7784         20.158675   \n",
       "6396        6396          3.145975           29.3170         32.018275   \n",
       "6397        6397          3.610000           21.6600         28.462000   \n",
       "6398        6398          2.656900           33.6432         19.282900   \n",
       "6399        6399          3.534400           37.2992         28.764000   \n",
       "\n",
       "      mc_CRY-chi-3-all  mc_CRY-Z-0-all  mc_CRY-Z-1-all  mc_CRY-Z-2-all  \\\n",
       "6395         86.624362         4659.25         2482.00       17679.375   \n",
       "6396         79.484200          864.75         1114.75        1947.500   \n",
       "6397         50.730000          841.00         3480.00        2436.000   \n",
       "6398         39.054800          529.00         1104.00        1081.000   \n",
       "6399         45.308000          729.00         1242.00         972.000   \n",
       "\n",
       "      mc_CRY-Z-3-all  mc_CRY-I-0-all  ...  sum-D_func-alpha-0-all  \\\n",
       "6395         6179.75             1.0  ...                     0.0   \n",
       "6396         2588.00             1.0  ...                     0.0   \n",
       "6397         4524.00             1.0  ...                     0.0   \n",
       "6398         1288.00             1.0  ...                     0.0   \n",
       "6399         1080.00             1.0  ...                     0.0   \n",
       "\n",
       "      sum-D_func-alpha-1-all  sum-D_func-alpha-2-all  sum-D_func-alpha-3-all  \\\n",
       "6395                   -52.8              -37.333333                   -95.2   \n",
       "6396                   650.1                0.000000                     0.0   \n",
       "6397                     0.0                0.000000                     0.0   \n",
       "6398                     0.0                0.000000                     0.0   \n",
       "6399                   -21.8              -35.400000                   -54.0   \n",
       "\n",
       "      color_cleaned  color_string  delta_t_seconds      r      g      b  \n",
       "6395          wheat         wheat        18.112884  224.0  201.0  104.0  \n",
       "6396       ruby red      ruby red        20.483727  197.5    9.0   22.5  \n",
       "6397    black brown   black brown        32.576774   62.5   40.5   13.0  \n",
       "6398    black brown   black brown        32.576774   62.5   40.5   13.0  \n",
       "6399     red purple    red purple        21.367428  198.0   20.5   96.0  \n",
       "\n",
       "[5 rows x 341 columns]"
      ]
     },
     "execution_count": 99,
     "metadata": {},
     "output_type": "execute_result"
    }
   ],
   "source": [
    "df.tail()"
   ]
  },
  {
   "cell_type": "code",
   "execution_count": 142,
   "metadata": {},
   "outputs": [],
   "source": [
    "df_train, df_test = train_test_split(\n",
    "        df, train_size=0.7, random_state=int(821996)\n",
    "    )"
   ]
  },
  {
   "cell_type": "code",
   "execution_count": 143,
   "metadata": {},
   "outputs": [],
   "source": [
    "features = [\"metalcenter_descriptors\",\n",
    "    \"functionalgroup_descriptors\",\n",
    "    \"linker_descriptors\",\n",
    "    \"mol_desc\",\n",
    "    \"summed_linker_descriptors\",\n",
    "    \"summed_metalcenter_descriptors\",\n",
    "    \"summed_functionalgroup_descriptors\"]"
   ]
  },
  {
   "cell_type": "code",
   "execution_count": 144,
   "metadata": {},
   "outputs": [],
   "source": [
    "F = select_features(features)"
   ]
  },
  {
   "cell_type": "code",
   "execution_count": 145,
   "metadata": {},
   "outputs": [],
   "source": [
    "X_train = df_train[F].values\n",
    "y_train = df_train[[\"r\", \"g\", \"b\"]] / 255"
   ]
  },
  {
   "cell_type": "code",
   "execution_count": 146,
   "metadata": {},
   "outputs": [],
   "source": [
    "from colour.models import (\n",
    "    RGB_to_XYZ,\n",
    "    XYZ_to_xy,\n",
    "    XYZ_to_Lab,\n",
    "    XYZ_to_RGB,\n",
    "    Lab_to_XYZ,\n",
    "    RGB_to_HSL,\n",
    "    RGB_to_HSV,\n",
    "    Lab_to_LCHab,\n",
    "    HSL_to_RGB,\n",
    ")\n",
    "from colour.plotting import filter_RGB_colourspaces\n",
    "from colour.utilities import first_item\n",
    "\n",
    "colourspace = first_item(filter_RGB_colourspaces(\"sRGB\").values())"
   ]
  },
  {
   "cell_type": "code",
   "execution_count": 84,
   "metadata": {},
   "outputs": [],
   "source": [
    "train_xyz = RGB_to_XYZ(\n",
    "            y_train,\n",
    "            colourspace.whitepoint,\n",
    "            colourspace.whitepoint,\n",
    "            colourspace.RGB_to_XYZ_matrix,\n",
    "    chromatic_adaptation_transform='XYZ Scaling'\n",
    "        )"
   ]
  },
  {
   "cell_type": "code",
   "execution_count": 85,
   "metadata": {},
   "outputs": [],
   "source": [
    "lab = XYZ_to_Lab(train_xyz)"
   ]
  },
  {
   "cell_type": "code",
   "execution_count": 94,
   "metadata": {},
   "outputs": [
    {
     "data": {
      "text/plain": [
       "1.0"
      ]
     },
     "execution_count": 94,
     "metadata": {},
     "output_type": "execute_result"
    }
   ],
   "source": [
    "((lab + [0, 100, 100])/[100, 200, 200]).max()"
   ]
  },
  {
   "cell_type": "code",
   "execution_count": 87,
   "metadata": {},
   "outputs": [],
   "source": [
    "lchab = Lab_to_LCHab(lab) / [100.0, 100.0, 360.0]"
   ]
  },
  {
   "cell_type": "code",
   "execution_count": 88,
   "metadata": {},
   "outputs": [
    {
     "data": {
      "text/plain": [
       "60713"
      ]
     },
     "execution_count": 88,
     "metadata": {},
     "output_type": "execute_result"
    }
   ],
   "source": [
    "np.argmax(lchab[:,1])"
   ]
  },
  {
   "cell_type": "code",
   "execution_count": 89,
   "metadata": {},
   "outputs": [
    {
     "data": {
      "text/plain": [
       "array([ 100.5133,   47.2084,  212.8976])"
      ]
     },
     "execution_count": 89,
     "metadata": {},
     "output_type": "execute_result"
    }
   ],
   "source": [
    "train_xyz[60713] * 255"
   ]
  },
  {
   "cell_type": "code",
   "execution_count": 13,
   "metadata": {},
   "outputs": [],
   "source": [
    "augment_dict = read_pickle('../data/augment_dict.pkl')\n",
    "df_train = augment_data(df_train, augment_dict)"
   ]
  },
  {
   "cell_type": "code",
   "execution_count": 157,
   "metadata": {},
   "outputs": [],
   "source": [
    "X_train = df_train[F].values\n",
    "y_train = df_train[[\"r\", \"g\", \"b\"]] / 255\n",
    "\n",
    "X_test = df_test[F].values\n",
    "y_test = df_test[[\"r\", \"g\", \"b\"]] / 255\n",
    "\n",
    "name_train = df_train[\"color_cleaned\"]\n",
    "name_test = df_test[\"color_cleaned\"]"
   ]
  },
  {
   "cell_type": "code",
   "execution_count": 158,
   "metadata": {},
   "outputs": [],
   "source": [
    "X_train = scaler.transform(X_train)\n",
    "X_test = scaler.transform(X_test)\n",
    "\n",
    "y_train = y_train.values\n",
    "y_test = y_test.values"
   ]
  },
  {
   "cell_type": "code",
   "execution_count": 159,
   "metadata": {},
   "outputs": [],
   "source": [
    "X_test, X_valid, y_test, y_valid, names_test, names_valid = train_test_split(\n",
    "        X_test,\n",
    "        y_test,\n",
    "        name_test.values,\n",
    "        train_size=0.9,\n",
    "        random_state=int(821996),\n",
    "    )"
   ]
  },
  {
   "cell_type": "code",
   "execution_count": 174,
   "metadata": {},
   "outputs": [],
   "source": [
    "y_predict = model.predict(X_train)"
   ]
  },
  {
   "cell_type": "code",
   "execution_count": 161,
   "metadata": {},
   "outputs": [
    {
     "data": {
      "text/plain": [
       "0.47729868"
      ]
     },
     "execution_count": 161,
     "metadata": {},
     "output_type": "execute_result"
    }
   ],
   "source": [
    "y_predict.std()"
   ]
  },
  {
   "cell_type": "code",
   "execution_count": 162,
   "metadata": {},
   "outputs": [],
   "source": [
    "xyz = Lab_to_XYZ((y_predict  * [100, 200, 200]) - [0, 100, 100])\n",
    "\n",
    "\n",
    "rgb_predict = XYZ_to_RGB(\n",
    "            xyz,\n",
    "            colourspace.whitepoint,\n",
    "            colourspace.whitepoint,\n",
    "            colourspace.RGB_to_XYZ_matrix,\n",
    "        )\n",
    "\n",
    "\n"
   ]
  },
  {
   "cell_type": "code",
   "execution_count": 164,
   "metadata": {},
   "outputs": [
    {
     "data": {
      "text/plain": [
       "array([[ 188.71027852,  237.09116435,  219.85390272],\n",
       "       [ 251.00226756,  244.35522425,  252.30964971],\n",
       "       [ 158.64479633,  158.12139156,  230.83212135],\n",
       "       ..., \n",
       "       [ 253.89987427,  250.56160373,  252.42224426],\n",
       "       [  72.52337728,  190.09895249,   49.57060294],\n",
       "       [ 253.77050706,  251.35386417,  249.87589947]])"
      ]
     },
     "execution_count": 164,
     "metadata": {},
     "output_type": "execute_result"
    }
   ],
   "source": [
    "HSL_to_RGB(y_predict)"
   ]
  },
  {
   "cell_type": "code",
   "execution_count": 178,
   "metadata": {},
   "outputs": [],
   "source": [
    "from scipy import stats"
   ]
  },
  {
   "cell_type": "code",
   "execution_count": 181,
   "metadata": {},
   "outputs": [
    {
     "data": {
      "text/plain": [
       "(-0.068641987300288615, 4.2545632304695262e-06)"
      ]
     },
     "execution_count": 181,
     "metadata": {},
     "output_type": "execute_result"
    }
   ],
   "source": [
    "stats.pearsonr(y_predict[:,1], y_train[:,1])"
   ]
  },
  {
   "cell_type": "code",
   "execution_count": 177,
   "metadata": {},
   "outputs": [
    {
     "data": {
      "text/plain": [
       "(0.0, 1.0)"
      ]
     },
     "execution_count": 177,
     "metadata": {},
     "output_type": "execute_result"
    },
    {
     "data": {
      "image/png": "[encoded data removed]",
      "text/plain": [
       "<Figure size 432x288 with 1 Axes>"
      ]
     },
     "metadata": {
      "needs_background": "light"
     },
     "output_type": "display_data"
    }
   ],
   "source": [
    "plt.scatter(HSL_to_RGB(y_predict)[:,1], y_train[:,1])\n",
    "plt.xlim(0,1)"
   ]
  },
  {
   "cell_type": "code",
   "execution_count": 168,
   "metadata": {},
   "outputs": [
    {
     "name": "stderr",
     "output_type": "stream",
     "text": [
      "/Users/kevinmaikjablonka/opt/miniconda3/envs/colorml/lib/python3.7/site-packages/ipykernel_launcher.py:155: UserWarning: This figure includes Axes that are not compatible with tight_layout, so results might be incorrect.\n"
     ]
    },
    {
     "data": {
      "image/png": "[encoded data removed]",
      "text/plain": [
       "<Figure size 345.6x1152 with 1 Axes>"
      ]
     },
     "metadata": {
      "needs_background": "light"
     },
     "output_type": "display_data"
    }
   ],
   "source": [
    "plot_predictions(HSL_to_RGB(y_predict) * 255 , y_test * 255, name_test.values, 200) "
   ]
  },
  {
   "cell_type": "code",
   "execution_count": null,
   "metadata": {},
   "outputs": [],
   "source": []
  }
 ],
 "metadata": {
  "kernelspec": {
   "display_name": "Python [conda env:colorml] *",
   "language": "python",
   "name": "conda-env-colorml-py"
  },
  "language_info": {
   "codemirror_mode": {
    "name": "ipython",
    "version": 3
   },
   "file_extension": ".py",
   "mimetype": "text/x-python",
   "name": "python",
   "nbconvert_exporter": "python",
   "pygments_lexer": "ipython3",
   "version": "3.7.6"
  }
 },
 "nbformat": 4,
 "nbformat_minor": 4
}
