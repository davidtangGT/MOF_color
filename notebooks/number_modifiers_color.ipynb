{
 "cells": [
  {
   "cell_type": "code",
   "execution_count": 1,
   "metadata": {},
   "outputs": [
    {
     "name": "stderr",
     "output_type": "stream",
     "text": [
      "Using TensorFlow backend.\n"
     ]
    }
   ],
   "source": [
    "from colorml.utils.utils import read_pickle"
   ]
  },
  {
   "cell_type": "code",
   "execution_count": 8,
   "metadata": {},
   "outputs": [],
   "source": [
    "augmentation_dict = read_pickle('../data/augment_dict.pkl')"
   ]
  },
  {
   "cell_type": "code",
   "execution_count": 2,
   "metadata": {},
   "outputs": [],
   "source": [
    "import matplotlib.pyplot as plt\n",
    "%matplotlib inline "
   ]
  },
  {
   "cell_type": "code",
   "execution_count": 3,
   "metadata": {},
   "outputs": [],
   "source": [
    "import pandas as pd"
   ]
  },
  {
   "cell_type": "code",
   "execution_count": 4,
   "metadata": {},
   "outputs": [],
   "source": [
    "df = pd.read_csv('../data/annotated_df.csv')"
   ]
  },
  {
   "cell_type": "code",
   "execution_count": 5,
   "metadata": {},
   "outputs": [
    {
     "data": {
      "text/html": [
       "<div>\n",
       "<style scoped>\n",
       "    .dataframe tbody tr th:only-of-type {\n",
       "        vertical-align: middle;\n",
       "    }\n",
       "\n",
       "    .dataframe tbody tr th {\n",
       "        vertical-align: top;\n",
       "    }\n",
       "\n",
       "    .dataframe thead th {\n",
       "        text-align: right;\n",
       "    }\n",
       "</style>\n",
       "<table border=\"1\" class=\"dataframe\">\n",
       "  <thead>\n",
       "    <tr style=\"text-align: right;\">\n",
       "      <th></th>\n",
       "      <th>refcode</th>\n",
       "      <th>chemical_name</th>\n",
       "      <th>color</th>\n",
       "      <th>doi</th>\n",
       "      <th>authors</th>\n",
       "      <th>journal</th>\n",
       "      <th>first_page</th>\n",
       "      <th>volume</th>\n",
       "      <th>date</th>\n",
       "      <th>simplified_color</th>\n",
       "    </tr>\n",
       "  </thead>\n",
       "  <tbody>\n",
       "    <tr>\n",
       "      <th>0</th>\n",
       "      <td>ABETAE</td>\n",
       "      <td>catena-(Pentane-1,5-diammonium tetrakis(μ5-pho...</td>\n",
       "      <td>colorless</td>\n",
       "      <td>10.1021/ic200345j</td>\n",
       "      <td>L.Jouffret, M.Rivenet, F.Abraham</td>\n",
       "      <td>Inorganic Chemistry</td>\n",
       "      <td>4619</td>\n",
       "      <td>50</td>\n",
       "      <td>2011-11-29</td>\n",
       "      <td>colorless</td>\n",
       "    </tr>\n",
       "    <tr>\n",
       "      <th>1</th>\n",
       "      <td>ABIYIV</td>\n",
       "      <td>catena-(bis((μ3-Imidazole-5,6-dicarboxylato)-(...</td>\n",
       "      <td>pink</td>\n",
       "      <td>NaN</td>\n",
       "      <td>Li Yuan, Wen-Guan Lu</td>\n",
       "      <td>Jiegou Huaxue</td>\n",
       "      <td>1207</td>\n",
       "      <td>30</td>\n",
       "      <td>2012-01-09</td>\n",
       "      <td>pink</td>\n",
       "    </tr>\n",
       "    <tr>\n",
       "      <th>2</th>\n",
       "      <td>ACAJOF</td>\n",
       "      <td>catena-[bis(μ4-Glutarato)-(μ3-1,3-bis(4-pyridy...</td>\n",
       "      <td>blue</td>\n",
       "      <td>10.1039/c2dt31427d</td>\n",
       "      <td>In Hong Hwang, Jeong Mi Bae, Wan-Seok Kim, You...</td>\n",
       "      <td>Dalton Transactions</td>\n",
       "      <td>12759</td>\n",
       "      <td>41</td>\n",
       "      <td>2013-02-22</td>\n",
       "      <td>blue</td>\n",
       "    </tr>\n",
       "    <tr>\n",
       "      <th>3</th>\n",
       "      <td>ACAKUM</td>\n",
       "      <td>catena-[bis(μ4-5,5'-(1H-1,2,3-Triazole-1,4-diy...</td>\n",
       "      <td>colorless</td>\n",
       "      <td>10.1039/c2dt31717f</td>\n",
       "      <td>Libo Sun, Yi Li, Zhiqiang Liang, Jihong Yu, Ru...</td>\n",
       "      <td>Dalton Transactions</td>\n",
       "      <td>12790</td>\n",
       "      <td>41</td>\n",
       "      <td>2013-02-22</td>\n",
       "      <td>colorless</td>\n",
       "    </tr>\n",
       "    <tr>\n",
       "      <th>4</th>\n",
       "      <td>ACIBIY</td>\n",
       "      <td>catena-(bis(Hexatriacontakis(μ3-formato)-octad...</td>\n",
       "      <td>pink</td>\n",
       "      <td>10.1016/j.micromeso.2005.11.049</td>\n",
       "      <td>Jianghua He, Yuetao Zhang, Qinhe Pan, Jihong Y...</td>\n",
       "      <td>Microporous and Mesoporous Materials</td>\n",
       "      <td>145</td>\n",
       "      <td>90</td>\n",
       "      <td>2006-07-27</td>\n",
       "      <td>pink</td>\n",
       "    </tr>\n",
       "  </tbody>\n",
       "</table>\n",
       "</div>"
      ],
      "text/plain": [
       "  refcode                                      chemical_name      color  \\\n",
       "0  ABETAE  catena-(Pentane-1,5-diammonium tetrakis(μ5-pho...  colorless   \n",
       "1  ABIYIV  catena-(bis((μ3-Imidazole-5,6-dicarboxylato)-(...       pink   \n",
       "2  ACAJOF  catena-[bis(μ4-Glutarato)-(μ3-1,3-bis(4-pyridy...       blue   \n",
       "3  ACAKUM  catena-[bis(μ4-5,5'-(1H-1,2,3-Triazole-1,4-diy...  colorless   \n",
       "4  ACIBIY  catena-(bis(Hexatriacontakis(μ3-formato)-octad...       pink   \n",
       "\n",
       "                               doi  \\\n",
       "0                10.1021/ic200345j   \n",
       "1                              NaN   \n",
       "2               10.1039/c2dt31427d   \n",
       "3               10.1039/c2dt31717f   \n",
       "4  10.1016/j.micromeso.2005.11.049   \n",
       "\n",
       "                                             authors  \\\n",
       "0                   L.Jouffret, M.Rivenet, F.Abraham   \n",
       "1                               Li Yuan, Wen-Guan Lu   \n",
       "2  In Hong Hwang, Jeong Mi Bae, Wan-Seok Kim, You...   \n",
       "3  Libo Sun, Yi Li, Zhiqiang Liang, Jihong Yu, Ru...   \n",
       "4  Jianghua He, Yuetao Zhang, Qinhe Pan, Jihong Y...   \n",
       "\n",
       "                                journal first_page volume        date  \\\n",
       "0                   Inorganic Chemistry       4619     50  2011-11-29   \n",
       "1                         Jiegou Huaxue       1207     30  2012-01-09   \n",
       "2                   Dalton Transactions      12759     41  2013-02-22   \n",
       "3                   Dalton Transactions      12790     41  2013-02-22   \n",
       "4  Microporous and Mesoporous Materials        145     90  2006-07-27   \n",
       "\n",
       "  simplified_color  \n",
       "0        colorless  \n",
       "1             pink  \n",
       "2             blue  \n",
       "3        colorless  \n",
       "4             pink  "
      ]
     },
     "execution_count": 5,
     "metadata": {},
     "output_type": "execute_result"
    }
   ],
   "source": [
    "df.head()"
   ]
  },
  {
   "cell_type": "code",
   "execution_count": 6,
   "metadata": {},
   "outputs": [],
   "source": [
    "modifiers = ['pale', 'light', 'dark', 'intense', 'slightly', 'deep']"
   ]
  },
  {
   "cell_type": "code",
   "execution_count": 27,
   "metadata": {},
   "outputs": [
    {
     "data": {
      "text/plain": [
       "array(['colorless', 'pink', 'blue', nan, 'white', 'red', 'grey', 'green',\n",
       "       'dark green', 'light yellow', 'blue green', 'purple', 'orange',\n",
       "       'yellow', 'violet', 'black', 'orange-red', 'reddish', 'dark brown',\n",
       "       'cyan', 'light green', 'pale yellow', 'red-yellow',\n",
       "       'greenish blue', 'yellowish', 'brown', 'light brown', 'light blue',\n",
       "       'faint pink', 'beige', 'pale brown', 'deep red', 'dark orange',\n",
       "       'cherry red', 'deep brown', 'yellow-green', 'red/purple',\n",
       "       'crimson', 'dark red', 'white powder', 'light purple', 'pale blue',\n",
       "       'pale green', 'azure', 'dark blue', 'black red', 'bluish violet',\n",
       "       'yellowish white', 'green blue', 'bright yellow', 'rose',\n",
       "       'red-brown', 'light pink', 'jasmine', 'pale red', 'purple-blue',\n",
       "       'pink-purple', 'deep green', 'pale straw', 'light red',\n",
       "       'pinkish colorless', 'pale pink', 'aubergine', 'yellowish yellow',\n",
       "       'pale-yellow', 'gold', 'green-black', 'dark purple',\n",
       "       'whiteish colorless', 'deep yellow', 'yellow green', 'brown-red',\n",
       "       'red brown', 'turquoise', 'navy blue', 'plate', 'gray',\n",
       "       'slightly pink', 'reddish brown', 'purple-red', 'pink-violet',\n",
       "       'buff', 'blackish purple', 'reddish purple', 'light',\n",
       "       'green yellow', 'turquoise blue', 'greenish-yellow', 'deep blue',\n",
       "       'mauve', 'orange-yellow', 'primrose yellow', 'dark violet',\n",
       "       'translucent', 'magenta', 'orange brown', 'yellow-orange',\n",
       "       'pink-red', 'greenish cyan', 'deep blue-black', 'light orange',\n",
       "       'green-blue', 'orange red', 'green-yellow', 'pale violet',\n",
       "       'dark yellow', 'orange yellow', 'claybank', 'pink/purple',\n",
       "       'glaucous', 'greenish green', 'dark pink', 'green-brown',\n",
       "       'violet red', 'yellow-red', 'greenish-blue', 'light colorless',\n",
       "       'brown yellow', 'dark turquiose', 'golden yellow', 'deep purple',\n",
       "       'red-black', 'teal', 'intense purple', 'peach', 'scarlet',\n",
       "       'dull dark black', 'violet-red', 'dark rose', 'blue violet',\n",
       "       'amaranthine', 'light-brown', 'dark-blue', 'purple red',\n",
       "       'brown-yellow', 'grass green', 'jonquil', 'yellowish green',\n",
       "       'red-violet', 'pale purple', 'black green', 'flavescens',\n",
       "       'intense violet', 'deep-blue', 'lilac', 'courless', 'dark-violet',\n",
       "       'blue purple', 'amber', 'sky blue', 'lavender', 'straw yellow',\n",
       "       'purple black', 'black purple', 'brown orange', 'light-purple',\n",
       "       'light violet', 'aquamarine', 'wheat', 'ruby red', 'tan',\n",
       "       'dark-red', 'green/brown', 'red-orange', 'black-brown',\n",
       "       'red purple', 'dark purplish-red', 'black brown'], dtype=object)"
      ]
     },
     "execution_count": 27,
     "metadata": {},
     "output_type": "execute_result"
    }
   ],
   "source": [
    "df['color'].unique()"
   ]
  },
  {
   "cell_type": "code",
   "execution_count": 28,
   "metadata": {},
   "outputs": [
    {
     "name": "stdout",
     "output_type": "stream",
     "text": [
      "dark green\n",
      "light yellow\n",
      "dark brown\n",
      "light green\n",
      "pale yellow\n",
      "light brown\n",
      "light blue\n",
      "pale brown\n",
      "deep red\n",
      "dark orange\n",
      "deep brown\n",
      "dark red\n",
      "light purple\n",
      "pale blue\n",
      "pale green\n",
      "dark blue\n",
      "light pink\n",
      "pale red\n",
      "deep green\n",
      "pale straw\n",
      "light red\n",
      "pale pink\n",
      "pale-yellow\n",
      "dark purple\n",
      "deep yellow\n",
      "slightly pink\n",
      "light\n",
      "deep blue\n",
      "dark violet\n",
      "deep blue-black\n",
      "light orange\n",
      "pale violet\n",
      "dark yellow\n",
      "dark pink\n",
      "light colorless\n",
      "dark turquiose\n",
      "deep purple\n",
      "intense purple\n",
      "dull dark black\n",
      "dark rose\n",
      "light-brown\n",
      "dark-blue\n",
      "pale purple\n",
      "intense violet\n",
      "deep-blue\n",
      "dark-violet\n",
      "light-purple\n",
      "light violet\n",
      "dark-red\n",
      "dark purplish-red\n"
     ]
    }
   ],
   "source": [
    "has_modifier = 0\n",
    "\n",
    "for color in list(df['color'].unique()):\n",
    "    try:\n",
    "        for modifier in modifiers:\n",
    "            if modifier in color:\n",
    "                print(color)\n",
    "                has_modifier += 1\n",
    "                break\n",
    "    except Exception:\n",
    "        pass"
   ]
  },
  {
   "cell_type": "code",
   "execution_count": 29,
   "metadata": {},
   "outputs": [
    {
     "data": {
      "text/plain": [
       "0.2976190476190476"
      ]
     },
     "execution_count": 29,
     "metadata": {},
     "output_type": "execute_result"
    }
   ],
   "source": [
    "has_modifier / len(df['color'].unique())"
   ]
  },
  {
   "cell_type": "code",
   "execution_count": null,
   "metadata": {},
   "outputs": [],
   "source": []
  }
 ],
 "metadata": {
  "kernelspec": {
   "display_name": "Python [conda env:colorml2] *",
   "language": "python",
   "name": "conda-env-colorml2-py"
  },
  "language_info": {
   "codemirror_mode": {
    "name": "ipython",
    "version": 3
   },
   "file_extension": ".py",
   "mimetype": "text/x-python",
   "name": "python",
   "nbconvert_exporter": "python",
   "pygments_lexer": "ipython3",
   "version": "3.7.6"
  }
 },
 "nbformat": 4,
 "nbformat_minor": 4
}
