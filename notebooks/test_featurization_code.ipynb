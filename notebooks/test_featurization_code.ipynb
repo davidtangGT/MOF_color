{
 "cells": [
  {
   "cell_type": "code",
   "execution_count": 1,
   "metadata": {},
   "outputs": [
    {
     "output_type": "stream",
     "name": "stderr",
     "text": "Using TensorFlow backend.\n"
    }
   ],
   "source": [
    "from colorml.featurize import get_color_descriptors"
   ]
  },
  {
   "cell_type": "code",
   "execution_count": 2,
   "metadata": {},
   "outputs": [
    {
     "output_type": "stream",
     "name": "stdout",
     "text": "('cell vectors: ', 'alpha, beta, gamma = 89.99975933, 120.0001 ,120.00041684')\n[18.5949, 0, 0]\n[-9.297584317777133, 16.103617861180716, 0]\n[-9.297528106318486, -5.367930352512864, 15.18273097445874]\nMaking the SBU RACs worked\n176 176\n"
    }
   ],
   "source": [
    "desc = get_color_descriptors(os.path.abspath('hkust1.cif'))"
   ]
  },
  {
   "cell_type": "code",
   "execution_count": 3,
   "metadata": {},
   "outputs": [
    {
     "output_type": "stream",
     "name": "stderr",
     "text": "==============================\n*** Open Babel Error  in unwrapFragmentUC\n  More than one fragment found.  Behavior is undefined.\n==============================\n*** Open Babel Warning  in PerceiveBondOrders\n  Failed to kekulize aromatic bonds in OBMol::PerceiveBondOrders\n\n==============================\n*** Open Babel Error  in WriteSystre\n  Found two neighboring 2-c sites.  Flagging the cgd output to get an error instead of the incorrect topology.\nNote: Rerun ExportSystre() with simplify_two_conn=false if an unsimplified net is useful.\n==============================\n*** Open Babel Warning  in InChI code\n  #0 :Accepted unusual valence(s): H(2); C(3); C(2); C(1); O(1); O(5);\n==============================\n*** Open Babel Warning  in InChI code\n  #0 :Accepted unusual valence(s): C(2); C(1); C(3); O(1)\n==============================\n*** Open Babel Warning  in InChI code\n  #0 :Accepted unusual valence(s): C(3)\n==============================\n*** Open Babel Warning  in InChI code\n  #0 :Accepted unusual valence(s): H(2); C(3); C(2); C(1); O(1); O(5);\n==============================\n*** Open Babel Warning  in InChI code\n  #0 :Accepted unusual valence(s): C(2); C(1); C(3); O(1)\n==============================\n*** Open Babel Warning  in InChI code\n  #0 :Accepted unusual valence(s): C(3)\n==============================\n*** Open Babel Warning  in InChI code\n  #0 :Accepted unusual valence(s): C(2); C(1); C(3); O(1)\n==============================\n*** Open Babel Warning  in InChI code\n  #0 :Accepted unusual valence(s): C(2); C(1); C(3); O(1)\n==============================\n*** Open Babel Warning  in InChI code\n  #0 :Accepted unusual valence(s): C(2); C(1); C(3); O(1)\n==============================\n*** Open Babel Warning  in InChI code\n  #0 :Accepted unusual valence(s): C(3)\n==============================\n*** Open Babel Warning  in InChI code\n  #0 :Accepted unusual valence(s): C(3)\n==============================\n*** Open Babel Warning  in InChI code\n  #0 :Accepted unusual valence(s): C(3)\n==============================\n*** Open Babel Warning  in InChI code\n  #0 :Accepted unusual valence(s): H(2); C(3); C(2); C(1); O(1); O(5);\n==============================\n*** Open Babel Warning  in InChI code\n  #0 :Accepted unusual valence(s): H(2); C(3); C(2); C(1); O(1); O(5);\n==============================\n*** Open Babel Warning  in InChI code\n  #0 :Accepted unusual valence(s): H(2); C(3); C(2); C(1); O(1); O(5);\n==============================\n*** Open Babel Error  in DetectInitialNodesAndLinkers\n  Found a metal-bound oxygen with multiple carbon neighbors!  Results may have inconsistencies.\n==============================\n*** Open Babel Error  in DetectInitialNodesAndLinkers\n  Found a metal-bound oxygen with multiple carbon neighbors!  Results may have inconsistencies.\n==============================\n*** Open Babel Error  in DetectInitialNodesAndLinkers\n  Found a metal-bound oxygen with multiple carbon neighbors!  Results may have inconsistencies.\n==============================\n*** Open Babel Error  in DetectInitialNodesAndLinkers\n  Found a metal-bound oxygen with multiple carbon neighbors!  Results may have inconsistencies.\n==============================\n*** Open Babel Error  in DetectInitialNodesAndLinkers\n  Found a metal-bound oxygen with multiple carbon neighbors!  Results may have inconsistencies.\n==============================\n*** Open Babel Error  in DetectInitialNodesAndLinkers\n  Found a metal-bound oxygen with multiple carbon neighbors!  Results may have inconsistencies.\n==============================\n*** Open Babel Error  in DetectInitialNodesAndLinkers\n  Found a metal-bound oxygen with multiple carbon neighbors!  Results may have inconsistencies.\n==============================\n*** Open Babel Error  in DetectInitialNodesAndLinkers\n  Found a metal-bound oxygen with multiple carbon neighbors!  Results may have inconsistencies.\n==============================\n*** Open Babel Error  in DetectInitialNodesAndLinkers\n  Found a metal-bound oxygen with multiple carbon neighbors!  Results may have inconsistencies.\n==============================\n*** Open Babel Error  in DetectInitialNodesAndLinkers\n  Found a metal-bound oxygen with multiple carbon neighbors!  Results may have inconsistencies.\n==============================\n*** Open Babel Error  in DetectInitialNodesAndLinkers\n  Found a metal-bound oxygen with multiple carbon neighbors!  Results may have inconsistencies.\n==============================\n*** Open Babel Error  in DetectInitialNodesAndLinkers\n  Found a metal-bound oxygen with multiple carbon neighbors!  Results may have inconsistencies.\n==============================\n*** Open Babel Error  in DetectInitialNodesAndLinkers\n  Found a metal-bound oxygen with multiple carbon neighbors!  Results may have inconsistencies.\n==============================\n*** Open Babel Error  in DetectInitialNodesAndLinkers\n  Found a metal-bound oxygen with multiple carbon neighbors!  Results may have inconsistencies.\n==============================\n*** Open Babel Error  in DetectInitialNodesAndLinkers\n  Found a metal-bound oxygen with multiple carbon neighbors!  Results may have inconsistencies.\n==============================\n*** Open Babel Error  in DetectInitialNodesAndLinkers\n  Found a metal-bound oxygen with multiple carbon neighbors!  Results may have inconsistencies.\n==============================\n*** Open Babel Error  in DetectInitialNodesAndLinkers\n  Found a metal-bound oxygen with multiple carbon neighbors!  Results may have inconsistencies.\n==============================\n*** Open Babel Error  in DetectInitialNodesAndLinkers\n  Found a metal-bound oxygen with multiple carbon neighbors!  Results may have inconsistencies.\n==============================\n*** Open Babel Error  in DetectInitialNodesAndLinkers\n  Found a metal-bound oxygen with multiple carbon neighbors!  Results may have inconsistencies.\n==============================\n*** Open Babel Error  in DetectInitialNodesAndLinkers\n  Found a metal-bound oxygen with multiple carbon neighbors!  Results may have inconsistencies.\n==============================\n*** Open Babel Error  in DetectInitialNodesAndLinkers\n  Found a metal-bound oxygen with multiple carbon neighbors!  Results may have inconsistencies.\n==============================\n*** Open Babel Error  in DetectInitialNodesAndLinkers\n  Found a metal-bound oxygen with multiple carbon neighbors!  Results may have inconsistencies.\n==============================\n*** Open Babel Error  in DetectInitialNodesAndLinkers\n  Found a metal-bound oxygen with multiple carbon neighbors!  Results may have inconsistencies.\n==============================\n*** Open Babel Error  in DetectInitialNodesAndLinkers\n  Found a metal-bound oxygen with multiple carbon neighbors!  Results may have inconsistencies.\nlocal variable 'mean_keys' referenced before assignment\natomic overlap!\n"
    },
    {
     "output_type": "error",
     "ename": "FeaturizationException",
     "evalue": "Could not featurize the structure",
     "traceback": [
      "\u001b[0;31m---------------------------------------------------------------------------\u001b[0m",
      "\u001b[0;31mTypeError\u001b[0m                                 Traceback (most recent call last)",
      "\u001b[0;32m~/Dropbox (LSMO)/proj75_mofcolor/ml/colorml/featurize/__init__.py\u001b[0m in \u001b[0;36mget_color_descriptors\u001b[0;34m(cif)\u001b[0m\n\u001b[1;32m    201\u001b[0m             \u001b[0mmoldesc\u001b[0m \u001b[0;34m=\u001b[0m \u001b[0mget_moldesc\u001b[0m\u001b[0;34m(\u001b[0m\u001b[0;34m[\u001b[0m\u001b[0mtempname\u001b[0m\u001b[0;34m]\u001b[0m\u001b[0;34m)\u001b[0m\u001b[0;34m\u001b[0m\u001b[0;34m\u001b[0m\u001b[0m\n\u001b[0;32m--> 202\u001b[0;31m             \u001b[0mracs\u001b[0m \u001b[0;34m=\u001b[0m \u001b[0mget_racs\u001b[0m\u001b[0;34m(\u001b[0m\u001b[0mtempname\u001b[0m\u001b[0;34m)\u001b[0m\u001b[0;34m\u001b[0m\u001b[0;34m\u001b[0m\u001b[0m\n\u001b[0m\u001b[1;32m    203\u001b[0m         \u001b[0mdf_features\u001b[0m \u001b[0;34m=\u001b[0m \u001b[0mmerge_racs_moldesc\u001b[0m\u001b[0;34m(\u001b[0m\u001b[0mmoldesc\u001b[0m\u001b[0;34m,\u001b[0m \u001b[0mracs\u001b[0m\u001b[0;34m)\u001b[0m\u001b[0;34m\u001b[0m\u001b[0;34m\u001b[0m\u001b[0m\n",
      "\u001b[0;32m~/Dropbox (LSMO)/proj75_mofcolor/ml/colorml/featurize/__init__.py\u001b[0m in \u001b[0;36mget_racs\u001b[0;34m(cif)\u001b[0m\n\u001b[1;32m    185\u001b[0m     \u001b[0mdf\u001b[0m \u001b[0;34m=\u001b[0m \u001b[0mpd\u001b[0m\u001b[0;34m.\u001b[0m\u001b[0mDataFrame\u001b[0m\u001b[0;34m(\u001b[0m\u001b[0mfeaturization_list\u001b[0m\u001b[0;34m)\u001b[0m\u001b[0;34m\u001b[0m\u001b[0;34m\u001b[0m\u001b[0m\n\u001b[0;32m--> 186\u001b[0;31m     \u001b[0mkeep\u001b[0m \u001b[0;34m=\u001b[0m \u001b[0;34m[\u001b[0m\u001b[0mval\u001b[0m \u001b[0;32mfor\u001b[0m \u001b[0mval\u001b[0m \u001b[0;32min\u001b[0m \u001b[0mdf\u001b[0m\u001b[0;34m.\u001b[0m\u001b[0mcolumns\u001b[0m\u001b[0;34m.\u001b[0m\u001b[0mvalues\u001b[0m \u001b[0;32mif\u001b[0m \u001b[0;34m(\u001b[0m\u001b[0;34m'mc'\u001b[0m \u001b[0;32min\u001b[0m \u001b[0mval\u001b[0m\u001b[0;34m)\u001b[0m \u001b[0;32mor\u001b[0m \u001b[0;34m(\u001b[0m\u001b[0;34m'lc'\u001b[0m \u001b[0;32min\u001b[0m \u001b[0mval\u001b[0m\u001b[0;34m)\u001b[0m \u001b[0;32mor\u001b[0m \u001b[0;34m(\u001b[0m\u001b[0;34m'f-lig'\u001b[0m \u001b[0;32min\u001b[0m \u001b[0mval\u001b[0m\u001b[0;34m)\u001b[0m \u001b[0;32mor\u001b[0m \u001b[0;34m(\u001b[0m\u001b[0;34m'func'\u001b[0m \u001b[0;32min\u001b[0m \u001b[0mval\u001b[0m\u001b[0;34m)\u001b[0m\u001b[0;34m]\u001b[0m\u001b[0;34m\u001b[0m\u001b[0;34m\u001b[0m\u001b[0m\n\u001b[0m\u001b[1;32m    187\u001b[0m     \u001b[0mdf\u001b[0m \u001b[0;34m=\u001b[0m \u001b[0mdf\u001b[0m\u001b[0;34m[\u001b[0m\u001b[0;34m[\u001b[0m\u001b[0;34m'filename'\u001b[0m\u001b[0;34m]\u001b[0m \u001b[0;34m+\u001b[0m \u001b[0mkeep\u001b[0m\u001b[0;34m]\u001b[0m\u001b[0;34m\u001b[0m\u001b[0;34m\u001b[0m\u001b[0m\n",
      "\u001b[0;32m~/Dropbox (LSMO)/proj75_mofcolor/ml/colorml/featurize/__init__.py\u001b[0m in \u001b[0;36m<listcomp>\u001b[0;34m(.0)\u001b[0m\n\u001b[1;32m    185\u001b[0m     \u001b[0mdf\u001b[0m \u001b[0;34m=\u001b[0m \u001b[0mpd\u001b[0m\u001b[0;34m.\u001b[0m\u001b[0mDataFrame\u001b[0m\u001b[0;34m(\u001b[0m\u001b[0mfeaturization_list\u001b[0m\u001b[0;34m)\u001b[0m\u001b[0;34m\u001b[0m\u001b[0;34m\u001b[0m\u001b[0m\n\u001b[0;32m--> 186\u001b[0;31m     \u001b[0mkeep\u001b[0m \u001b[0;34m=\u001b[0m \u001b[0;34m[\u001b[0m\u001b[0mval\u001b[0m \u001b[0;32mfor\u001b[0m \u001b[0mval\u001b[0m \u001b[0;32min\u001b[0m \u001b[0mdf\u001b[0m\u001b[0;34m.\u001b[0m\u001b[0mcolumns\u001b[0m\u001b[0;34m.\u001b[0m\u001b[0mvalues\u001b[0m \u001b[0;32mif\u001b[0m \u001b[0;34m(\u001b[0m\u001b[0;34m'mc'\u001b[0m \u001b[0;32min\u001b[0m \u001b[0mval\u001b[0m\u001b[0;34m)\u001b[0m \u001b[0;32mor\u001b[0m \u001b[0;34m(\u001b[0m\u001b[0;34m'lc'\u001b[0m \u001b[0;32min\u001b[0m \u001b[0mval\u001b[0m\u001b[0;34m)\u001b[0m \u001b[0;32mor\u001b[0m \u001b[0;34m(\u001b[0m\u001b[0;34m'f-lig'\u001b[0m \u001b[0;32min\u001b[0m \u001b[0mval\u001b[0m\u001b[0;34m)\u001b[0m \u001b[0;32mor\u001b[0m \u001b[0;34m(\u001b[0m\u001b[0;34m'func'\u001b[0m \u001b[0;32min\u001b[0m \u001b[0mval\u001b[0m\u001b[0;34m)\u001b[0m\u001b[0;34m]\u001b[0m\u001b[0;34m\u001b[0m\u001b[0;34m\u001b[0m\u001b[0m\n\u001b[0m\u001b[1;32m    187\u001b[0m     \u001b[0mdf\u001b[0m \u001b[0;34m=\u001b[0m \u001b[0mdf\u001b[0m\u001b[0;34m[\u001b[0m\u001b[0;34m[\u001b[0m\u001b[0;34m'filename'\u001b[0m\u001b[0;34m]\u001b[0m \u001b[0;34m+\u001b[0m \u001b[0mkeep\u001b[0m\u001b[0;34m]\u001b[0m\u001b[0;34m\u001b[0m\u001b[0;34m\u001b[0m\u001b[0m\n",
      "\u001b[0;31mTypeError\u001b[0m: argument of type 'int' is not iterable",
      "\nDuring handling of the above exception, another exception occurred:\n",
      "\u001b[0;31mFeaturizationException\u001b[0m                    Traceback (most recent call last)",
      "\u001b[0;32m<ipython-input-3-0773b27cac45>\u001b[0m in \u001b[0;36m<module>\u001b[0;34m\u001b[0m\n\u001b[0;32m----> 1\u001b[0;31m \u001b[0mdesc\u001b[0m \u001b[0;34m=\u001b[0m \u001b[0mget_color_descriptors\u001b[0m\u001b[0;34m(\u001b[0m\u001b[0mos\u001b[0m\u001b[0;34m.\u001b[0m\u001b[0mpath\u001b[0m\u001b[0;34m.\u001b[0m\u001b[0mabspath\u001b[0m\u001b[0;34m(\u001b[0m\u001b[0;34m'clashing.cif'\u001b[0m\u001b[0;34m)\u001b[0m\u001b[0;34m)\u001b[0m\u001b[0;34m\u001b[0m\u001b[0;34m\u001b[0m\u001b[0m\n\u001b[0m",
      "\u001b[0;32m~/Dropbox (LSMO)/proj75_mofcolor/ml/colorml/featurize/__init__.py\u001b[0m in \u001b[0;36mget_color_descriptors\u001b[0;34m(cif)\u001b[0m\n\u001b[1;32m    205\u001b[0m         \u001b[0;32mreturn\u001b[0m \u001b[0mdf_features\u001b[0m\u001b[0;34m\u001b[0m\u001b[0;34m\u001b[0m\u001b[0m\n\u001b[1;32m    206\u001b[0m     \u001b[0;32mexcept\u001b[0m \u001b[0mException\u001b[0m\u001b[0;34m:\u001b[0m\u001b[0;34m\u001b[0m\u001b[0;34m\u001b[0m\u001b[0m\n\u001b[0;32m--> 207\u001b[0;31m         \u001b[0;32mraise\u001b[0m \u001b[0mFeaturizationException\u001b[0m\u001b[0;34m(\u001b[0m\u001b[0;34m\"Could not featurize the structure\"\u001b[0m\u001b[0;34m)\u001b[0m\u001b[0;34m\u001b[0m\u001b[0;34m\u001b[0m\u001b[0m\n\u001b[0m",
      "\u001b[0;31mFeaturizationException\u001b[0m: Could not featurize the structure"
     ]
    }
   ],
   "source": [
    "desc = get_color_descriptors(os.path.abspath('clashing.cif'))"
   ]
  },
  {
   "cell_type": "code",
   "execution_count": null,
   "metadata": {},
   "outputs": [],
   "source": [
    "desc"
   ]
  },
  {
   "cell_type": "code",
   "execution_count": null,
   "metadata": {},
   "outputs": [],
   "source": []
  }
 ],
 "metadata": {
  "language_info": {
   "codemirror_mode": {
    "name": "ipython",
    "version": 3
   },
   "file_extension": ".py",
   "mimetype": "text/x-python",
   "name": "python",
   "nbconvert_exporter": "python",
   "pygments_lexer": "ipython3",
   "version": "3.7.6-final"
  },
  "orig_nbformat": 2,
  "kernelspec": {
   "name": "python37664bitcolorml2condaa6de3c6929ff44a5a4386adf2e6737d5",
   "display_name": "Python 3.7.6 64-bit ('colorml2': conda)"
  }
 },
 "nbformat": 4,
 "nbformat_minor": 2
}
