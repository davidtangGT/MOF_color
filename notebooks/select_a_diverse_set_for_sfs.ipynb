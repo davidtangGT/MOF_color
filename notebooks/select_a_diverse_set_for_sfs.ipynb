{
 "cells": [
  {
   "cell_type": "code",
   "execution_count": 1,
   "metadata": {},
   "outputs": [
    {
     "name": "stdout",
     "output_type": "stream",
     "text": [
      "Collecting apricot-select\n",
      "  Using cached apricot_select-0.5.0-py3-none-any.whl (40 kB)\n",
      "Requirement already satisfied: tqdm>=4.24.0 in /Users/kevinmaikjablonka/opt/miniconda3/envs/colorml/lib/python3.7/site-packages (from apricot-select) (4.45.0)\n",
      "Requirement already satisfied: scipy>=1.0.0 in /Users/kevinmaikjablonka/opt/miniconda3/envs/colorml/lib/python3.7/site-packages (from apricot-select) (1.4.1)\n",
      "Collecting numba>=0.43.0\n",
      "  Downloading numba-0.49.0-cp37-cp37m-macosx_10_14_x86_64.whl (2.1 MB)\n",
      "\u001b[K     |████████████████████████████████| 2.1 MB 198 kB/s eta 0:00:01\n",
      "\u001b[?25hRequirement already satisfied: numpy>=1.14.2 in /Users/kevinmaikjablonka/opt/miniconda3/envs/colorml/lib/python3.7/site-packages (from apricot-select) (1.18.1)\n",
      "Collecting llvmlite<=0.33.0.dev0,>=0.31.0.dev0\n",
      "  Downloading llvmlite-0.32.0-cp37-cp37m-macosx_10_9_x86_64.whl (15.9 MB)\n",
      "\u001b[K     |████████████████████████████████| 15.9 MB 888 kB/s eta 0:00:01\n",
      "\u001b[?25hRequirement already satisfied: setuptools in /Users/kevinmaikjablonka/opt/miniconda3/envs/colorml/lib/python3.7/site-packages (from numba>=0.43.0->apricot-select) (46.0.0.post20200309)\n",
      "Installing collected packages: llvmlite, numba, apricot-select\n",
      "Successfully installed apricot-select-0.5.0 llvmlite-0.32.0 numba-0.49.0\n"
     ]
    }
   ],
   "source": [
    "!pip install apricot-select"
   ]
  },
  {
   "cell_type": "code",
   "execution_count": 1,
   "metadata": {},
   "outputs": [
    {
     "name": "stderr",
     "output_type": "stream",
     "text": [
      "Using TensorFlow backend.\n"
     ]
    }
   ],
   "source": [
    "from apricot import FacilityLocationSelection\n",
    "import sys\n",
    "sys.path.append('../')\n",
    "from colorml.utils import mapping_to_target_range, get_timestamp_string, plot_predictions, huber_fn, mapping_to_target_range_sig, read_pickle, augment_data\n",
    "from colorml.descriptornames import * \n",
    "import pandas as pd\n",
    "from sklearn.model_selection import train_test_split\n",
    "import numpy as np"
   ]
  },
  {
   "cell_type": "code",
   "execution_count": 2,
   "metadata": {},
   "outputs": [],
   "source": [
    "df_subset_merged = pd.read_csv('../data/development_set.csv')\n"
   ]
  },
  {
   "cell_type": "code",
   "execution_count": 3,
   "metadata": {},
   "outputs": [
    {
     "data": {
      "text/plain": [
       "Index(['Unnamed: 0', 'mc_CRY-chi-0-all', 'mc_CRY-chi-1-all',\n",
       "       'mc_CRY-chi-2-all', 'mc_CRY-chi-3-all', 'mc_CRY-Z-0-all',\n",
       "       'mc_CRY-Z-1-all', 'mc_CRY-Z-2-all', 'mc_CRY-Z-3-all', 'mc_CRY-I-0-all',\n",
       "       ...\n",
       "       'sum-D_func-alpha-0-all', 'sum-D_func-alpha-1-all',\n",
       "       'sum-D_func-alpha-2-all', 'sum-D_func-alpha-3-all', 'color_cleaned',\n",
       "       'color_string', 'delta_t_seconds', 'r', 'g', 'b'],\n",
       "      dtype='object', length=341)"
      ]
     },
     "execution_count": 3,
     "metadata": {},
     "output_type": "execute_result"
    }
   ],
   "source": [
    "df_subset_merged.columns"
   ]
  },
  {
   "cell_type": "code",
   "execution_count": 4,
   "metadata": {},
   "outputs": [],
   "source": [
    "df_train, df_test = train_test_split(df_subset_merged, train_size=0.8)"
   ]
  },
  {
   "cell_type": "code",
   "execution_count": 6,
   "metadata": {},
   "outputs": [],
   "source": [
    "CHEMICAL_FEATURES = (\n",
    "        metalcenter_descriptors\n",
    "        + functionalgroup_descriptors\n",
    "        + linker_descriptors\n",
    "        + mol_desc\n",
    "        + summed_functionalgroup_descriptors\n",
    "        + summed_linker_descriptors\n",
    "        + summed_metalcenter_descriptors\n",
    "    )\n",
    "\n",
    "X_train = df_subset_merged[CHEMICAL_FEATURES]"
   ]
  },
  {
   "cell_type": "code",
   "execution_count": null,
   "metadata": {},
   "outputs": [],
   "source": [
    "X_train"
   ]
  },
  {
   "cell_type": "code",
   "execution_count": 7,
   "metadata": {},
   "outputs": [],
   "source": [
    "X_subset = FacilityLocationSelection(3000).fit_transform(X_train.values)"
   ]
  },
  {
   "cell_type": "code",
   "execution_count": 8,
   "metadata": {},
   "outputs": [],
   "source": [
    "greedy_indices = []\n",
    "\n",
    "for d in X_subset:\n",
    "    index = np.where(np.all(X_train.values == d, axis=1))[0][0]\n",
    "    greedy_indices.append(index)"
   ]
  },
  {
   "cell_type": "code",
   "execution_count": 12,
   "metadata": {},
   "outputs": [],
   "source": [
    "subset_optimize = df_subset_merged.iloc[greedy_indices]"
   ]
  },
  {
   "cell_type": "code",
   "execution_count": 13,
   "metadata": {},
   "outputs": [],
   "source": [
    "subset_optimize.to_csv('diverse_set_3000.csv', index=False)"
   ]
  },
  {
   "cell_type": "code",
   "execution_count": 17,
   "metadata": {},
   "outputs": [
    {
     "data": {
      "text/plain": [
       "6400"
      ]
     },
     "execution_count": 17,
     "metadata": {},
     "output_type": "execute_result"
    }
   ],
   "source": [
    "len(df_subset_merged)"
   ]
  },
  {
   "cell_type": "code",
   "execution_count": null,
   "metadata": {},
   "outputs": [],
   "source": []
  }
 ],
 "metadata": {
  "kernelspec": {
   "display_name": "Python [conda env:colorml]",
   "language": "python",
   "name": "conda-env-colorml-py"
  },
  "language_info": {
   "codemirror_mode": {
    "name": "ipython",
    "version": 3
   },
   "file_extension": ".py",
   "mimetype": "text/x-python",
   "name": "python",
   "nbconvert_exporter": "python",
   "pygments_lexer": "ipython3",
   "version": "3.7.6"
  }
 },
 "nbformat": 4,
 "nbformat_minor": 4
}
