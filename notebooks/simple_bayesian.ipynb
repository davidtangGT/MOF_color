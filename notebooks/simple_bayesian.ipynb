{
 "cells": [
  {
   "cell_type": "code",
   "execution_count": 6,
   "metadata": {},
   "outputs": [],
   "source": [
    "import pandas as pd\n",
    "import numpy as np \n",
    "import os \n",
    "import matplotlib.pyplot as plt \n",
    "%matplotlib inline\n",
    "\n",
    "from sklearn.preprocessing import StandardScaler, MinMaxScaler\n",
    "from sklearn.model_selection import train_test_split\n",
    "\n",
    "\n",
    "import tensorflow as tf\n",
    "import sys\n",
    "sys.path.append('../')\n",
    "from colorml.utils import mapping_to_target_range, get_timestamp_string, plot_predictions, huber_fn, mapping_to_target_range_sig, read_pickle, augment_data\n",
    "from colorml.descriptornames import * \n",
    "from colorml.kl_anneal import monotonical_kl_anneal\n",
    "from functools import partial\n",
    "\n",
    "from sklearn.gaussian_process import GaussianProcessRegressor\n",
    "import probflow as pf\n",
    "from probflow.callbacks import MonitorELBO, MonitorMetric, EarlyStopping, KLWeightScheduler\n",
    "\n",
    "RESULTS = os.path.join('..', 'results', 'baselines')\n",
    "MODELS = os.path.join('..', 'models', 'baselines')\n",
    "from numpy.random import seed\n",
    "seed(821996)\n",
    "\n",
    "CHEMICAL_FEATURES = metalcenter_descriptors + functionalgroup_descriptors + linker_descriptors + mol_desc  + summed_linker_descriptors + summed_metalcenter_descriptors + summed_functionalgroup_descriptors"
   ]
  },
  {
   "cell_type": "code",
   "execution_count": 2,
   "metadata": {},
   "outputs": [],
   "source": [
    "def mapping_to_target_range(x, target_min=0, target_max=1):\n",
    "    \"\"\"Linear activation function that constrains output to a range\n",
    "    \n",
    "    Arguments:\n",
    "        x {tensor} -- input tensor\n",
    "    \n",
    "    Keyword Arguments:\n",
    "        target_min {float} -- minimum output (default: {0})\n",
    "        target_max {float} -- maximum output (default: {1})\n",
    "    \n",
    "    Returns:\n",
    "        tensor -- constrained linear activation\n",
    "    \"\"\"\n",
    "    x02 = x + 1  # x in range(0,2)\n",
    "    scale = (target_max - target_min) / 2.0\n",
    "    return x02 * scale + target_min"
   ]
  },
  {
   "cell_type": "code",
   "execution_count": 4,
   "metadata": {},
   "outputs": [],
   "source": [
    "import tensorflow_addons as tfa\n",
    " \n",
    "class DenseNetwork2(pf.Module):\n",
    "\n",
    "    def __init__(self, dims, activation=tf.keras.activations.relu):\n",
    "        Nl = len(dims)-1 #number of layers\n",
    "        self.layers = [pf.modules.Dense(dims[i], dims[i+1]) for i in range(Nl)]\n",
    "        self.activations = (Nl-1)*[activation] + [mapping_to_target_range]\n",
    "\n",
    "    def __call__(self, x):\n",
    "        for i in range(len(self.activations)):\n",
    "            x = self.layers[i](x)\n",
    "            x = self.activations[i](x)\n",
    "        return x"
   ]
  },
  {
   "cell_type": "code",
   "execution_count": 326,
   "metadata": {},
   "outputs": [],
   "source": [
    "import tensorflow_addons as tfa\n",
    " \n",
    "class DenseNetwork(pf.Module):\n",
    "\n",
    "    def __init__(self, dims, activation=tf.keras.activations.relu):\n",
    "        Nl = len(dims)-1 #number of layers\n",
    "        self.layers = [pf.modules.Dense(dims[i], dims[i+1]) for i in range(Nl)]\n",
    "        self.activations = (Nl-1)*[activation] + [lambda x: x]\n",
    "\n",
    "    def __call__(self, x):\n",
    "        for i in range(len(self.activations)):\n",
    "            x = self.layers[i](x)\n",
    "            x = self.activations[i](x)\n",
    "        return x"
   ]
  },
  {
   "cell_type": "code",
   "execution_count": 75,
   "metadata": {},
   "outputs": [],
   "source": [
    "df_subset_merged = pd.read_csv('../data/color_feat_merged.csv')"
   ]
  },
  {
   "cell_type": "code",
   "execution_count": 76,
   "metadata": {},
   "outputs": [],
   "source": [
    "augment_dict = read_pickle('../data/augment_dict.pkl')"
   ]
  },
  {
   "cell_type": "code",
   "execution_count": 77,
   "metadata": {},
   "outputs": [],
   "source": [
    "df_train, df_test = train_test_split(df_subset_merged, train_size=0.7)"
   ]
  },
  {
   "cell_type": "code",
   "execution_count": 78,
   "metadata": {},
   "outputs": [],
   "source": [
    "df_train = augment_data(df_train, augment_dict)"
   ]
  },
  {
   "cell_type": "code",
   "execution_count": 79,
   "metadata": {},
   "outputs": [],
   "source": [
    "X_train = df_train[CHEMICAL_FEATURES]\n",
    "y_train = df_train[['r', 'g', 'b']]\n",
    "\n",
    "X_test = df_test[CHEMICAL_FEATURES]\n",
    "y_test = df_test[['r', 'g', 'b']]"
   ]
  },
  {
   "cell_type": "code",
   "execution_count": 80,
   "metadata": {},
   "outputs": [],
   "source": [
    "name_train = df_train['color_cleaned']\n",
    "name_test = df_test['color_cleaned']"
   ]
  },
  {
   "cell_type": "code",
   "execution_count": 81,
   "metadata": {},
   "outputs": [],
   "source": [
    "scaler = StandardScaler()\n",
    "X_train = scaler.fit_transform(X_train)\n",
    "X_test = scaler.transform(X_test)"
   ]
  },
  {
   "cell_type": "code",
   "execution_count": 82,
   "metadata": {},
   "outputs": [],
   "source": [
    "X_test, X_valid, y_test, y_valid, names_valid, names_valid = train_test_split(X_test, y_test, names_test, train_size=0.9)"
   ]
  },
  {
   "cell_type": "code",
   "execution_count": 83,
   "metadata": {},
   "outputs": [],
   "source": [
    "y_train = y_train / 255\n",
    "y_valid = y_valid / 255\n",
    "y_test = y_test / 255"
   ]
  },
  {
   "cell_type": "code",
   "execution_count": 39,
   "metadata": {},
   "outputs": [
    {
     "name": "stdout",
     "output_type": "stream",
     "text": [
      "Epoch 1 \tmae: 0.39508048732818063\n",
      "Epoch 2 \tmae: 0.3902621831615341\n",
      "Epoch 3 \tmae: 0.3440725904110259\n",
      "Epoch 4 \tmae: 0.3357827787588408\n",
      "Epoch 5 \tmae: 0.32812215465022704\n",
      "Epoch 6 \tmae: 0.3098881934282486\n",
      "Epoch 7 \tmae: 0.30022094833841123\n",
      "Epoch 8 \tmae: 0.3033305032397894\n",
      "Epoch 9 \tmae: 0.2924078739835184\n",
      "Epoch 10 \tmae: 0.2853514684721598\n",
      "Epoch 11 \tmae: 0.27950416996163757\n",
      "Epoch 12 \tmae: 0.26988936979436673\n",
      "Epoch 13 \tmae: 0.26552678070141544\n",
      "Epoch 14 \tmae: 0.264119867510558\n",
      "Epoch 15 \tmae: 0.26094023684104056\n",
      "Epoch 16 \tmae: 0.255646897983206\n",
      "Epoch 17 \tmae: 0.2481316949565217\n",
      "Epoch 18 \tmae: 0.23904387430121807\n",
      "Epoch 19 \tmae: 0.23910977332874522\n",
      "Epoch 20 \tmae: 0.23601158379318837\n",
      "Epoch 21 \tmae: 0.23449118462479027\n",
      "Epoch 22 \tmae: 0.23227654557064678\n",
      "Epoch 23 \tmae: 0.22883880929612704\n",
      "Epoch 24 \tmae: 0.2306041849257962\n",
      "Epoch 25 \tmae: 0.2278019873514062\n",
      "Epoch 26 \tmae: 0.22863611851816254\n",
      "Epoch 27 \tmae: 0.23113088416880004\n",
      "Epoch 28 \tmae: 0.22918323191129766\n",
      "Epoch 29 \tmae: 0.22637262594582644\n",
      "Epoch 30 \tmae: 0.22590222865574405\n",
      "Epoch 31 \tmae: 0.22747464747490742\n",
      "Epoch 32 \tmae: 0.22681829743478604\n",
      "Epoch 33 \tmae: 0.22758999368233257\n",
      "Epoch 34 \tmae: 0.22859264206746463\n",
      "Epoch 35 \tmae: 0.22978177266082375\n",
      "Epoch 36 \tmae: 0.2259873200033163\n",
      "Epoch 37 \tmae: 0.2265517864180651\n",
      "Epoch 38 \tmae: 0.2270003574142923\n",
      "Epoch 39 \tmae: 0.22526925511129492\n",
      "Epoch 40 \tmae: 0.2257322716793649\n",
      "Epoch 41 \tmae: 0.22372569238565285\n",
      "Epoch 42 \tmae: 0.22398533434985354\n",
      "Epoch 43 \tmae: 0.22312509241095638\n",
      "Epoch 44 \tmae: 0.22464180900058758\n",
      "Epoch 45 \tmae: 0.22310729193397694\n",
      "Epoch 46 \tmae: 0.2216501181368672\n",
      "Epoch 47 \tmae: 0.2219164540893794\n",
      "Epoch 48 \tmae: 0.22105466337964969\n",
      "Epoch 49 \tmae: 0.22391242165584546\n",
      "Epoch 50 \tmae: 0.22390564101983826\n",
      "Epoch 51 \tmae: 0.21994275804504707\n",
      "Epoch 52 \tmae: 0.2220202189074511\n",
      "Epoch 53 \tmae: 0.2209426150762456\n",
      "Epoch 54 \tmae: 0.22020139650586926\n",
      "Epoch 55 \tmae: 0.22083861104105745\n",
      "Epoch 56 \tmae: 0.2228843005241028\n",
      "Epoch 57 \tmae: 0.22229133412175844\n",
      "Epoch 58 \tmae: 0.22336000727340025\n",
      "Epoch 59 \tmae: 0.22283108003044466\n",
      "Epoch 60 \tmae: 0.22123414842276223\n",
      "Epoch 61 \tmae: 0.2220930049552414\n",
      "Epoch 62 \tmae: 0.22342482670605968\n",
      "EarlyStopping after 62 epochs\n"
     ]
    }
   ],
   "source": [
    "class DensityNetwork(pf.ContinuousModel):\n",
    "\n",
    "    def __init__(self, units, head_units):\n",
    "        self.core = DenseNetwork(units)\n",
    "        self.mean = DenseNetwork2(head_units)\n",
    "        self.std  = DenseNetwork2(head_units)\n",
    "        self.batch_norm = pf.modules.BatchNormalization([units[-1]])\n",
    "        \n",
    "    def __call__(self, x):\n",
    "        x = self.core(x)\n",
    "        x = self.batch_norm(x)\n",
    "        return pf.Cauchy(self.mean(x), tf.exp(self.std(x)))\n",
    "\n",
    "# Create the model\n",
    "model = DensityNetwork([X_train.shape[1], 32, 16], [16, 8, 3])\n",
    "\n",
    "monitor_mae = MonitorMetric('mae', X_valid, y_valid, verbose=True)\n",
    "monitor_elbo = MonitorELBO()\n",
    "early_stopping = EarlyStopping(lambda: monitor_mae.current_metric, patience=30)\n",
    "\n",
    "kl_annealer = KLWeightScheduler(\n",
    "                    partial(monotonical_kl_anneal, M=50)\n",
    "                )\n",
    "\n",
    "\n",
    "# Fit it!\n",
    "model.fit(X_train, y_train, callbacks=[monitor_mae, monitor_elbo, early_stopping], batch_size=50, epochs=500, lr=3e-3)"
   ]
  },
  {
   "cell_type": "code",
   "execution_count": 40,
   "metadata": {},
   "outputs": [
    {
     "data": {
      "image/png": "[encoded data removed]",
      "text/plain": [
       "<Figure size 432x288 with 1 Axes>"
      ]
     },
     "metadata": {
      "needs_background": "light"
     },
     "output_type": "display_data"
    }
   ],
   "source": [
    "monitor_elbo.plot()"
   ]
  },
  {
   "cell_type": "code",
   "execution_count": 41,
   "metadata": {},
   "outputs": [
    {
     "name": "stderr",
     "output_type": "stream",
     "text": [
      "../colorml/utils.py:155: UserWarning: This figure includes Axes that are not compatible with tight_layout, so results might be incorrect.\n",
      "  fig.tight_layout()\n"
     ]
    },
    {
     "data": {
      "image/png": "[encoded data removed]",
      "text/plain": [
       "<Figure size 345.6x1152 with 1 Axes>"
      ]
     },
     "metadata": {
      "needs_background": "light"
     },
     "output_type": "display_data"
    }
   ],
   "source": [
    "predictions = model.predict(X_train)\n",
    "\n",
    "plot_predictions(predictions * 255, y_train.values * 255,  name_train.values,  sample=100)"
   ]
  },
  {
   "cell_type": "markdown",
   "metadata": {},
   "source": [
    "## Trying to use dropout as a measure of uncertainity"
   ]
  },
  {
   "cell_type": "markdown",
   "metadata": {},
   "source": [
    "https://stackoverflow.com/questions/43529931/how-to-calculate-prediction-uncertainty-using-keras"
   ]
  },
  {
   "cell_type": "markdown",
   "metadata": {},
   "source": [
    "https://www.reddit.com/r/MachineLearning/comments/7bm4b2/d_what_is_the_current_state_of_dropout_as/"
   ]
  },
  {
   "cell_type": "code",
   "execution_count": 26,
   "metadata": {},
   "outputs": [],
   "source": [
    "import tensorflow as tf\n",
    "from keras.layers import Dropout, Dense, BatchNormalization, GaussianDropout, GaussianNoise, LeakyReLU\n",
    "lrelu = lambda x: tf.keras.activations.relu(x, alpha=0.1)\n",
    "from keras import Sequential\n",
    "from keras.callbacks import EarlyStopping, ReduceLROnPlateau\n",
    "#from livelossplot.keras import PlotLossesCallback\n",
    "from keras.constraints import MinMaxNorm\n",
    "from keras.initializers import Constant\n",
    "from keras.optimizers import Adam\n",
    "from colorml.utils import mapping_to_target_range, read_pickle, get_timestamp_string, plot_predictions, huber_fn, mapping_to_target_range_sig\n",
    "from livelossplot.keras import PlotLossesCallback"
   ]
  },
  {
   "cell_type": "code",
   "execution_count": 300,
   "metadata": {},
   "outputs": [],
   "source": [
    "timestamp = get_timestamp_string()\n",
    "mlp = Sequential()\n",
    "mlp.add(Dense(64, activation=\"relu\", \n",
    "              kernel_initializer='he_normal', input_shape=(X_train.shape[1],)))\n",
    "mlp.add(Dropout(0.2))\n",
    "mlp.add(Dense(32,  activation=\"relu\", \n",
    "             kernel_initializer='he_normal'))  \n",
    "mlp.add(Dropout(0.2))\n",
    "mlp.add(Dense(16,  activation=\"relu\", \n",
    "             kernel_initializer='he_normal'))  \n",
    "mlp.add(Dropout(0.2))\n",
    "mlp.add(Dense(8,  activation='relu', \n",
    "             kernel_initializer='he_normal'))\n",
    "mlp.add(Dropout(0.2))\n",
    "mlp.add(Dense(3, activation=mapping_to_target_range, kernel_initializer='he_normal'))\n"
   ]
  },
  {
   "cell_type": "code",
   "execution_count": 301,
   "metadata": {},
   "outputs": [],
   "source": [
    "mlp.compile(optimizer=Adam(learning_rate=3e-3), loss=huber_fn, metrics=['mae', 'mean_absolute_percentage_error'])"
   ]
  },
  {
   "cell_type": "code",
   "execution_count": 302,
   "metadata": {},
   "outputs": [],
   "source": [
    "es = EarlyStopping(monitor='val_loss', patience=30, verbose=0, mode='auto')\n",
    "learning_rate_reduction = ReduceLROnPlateau(monitor='val_loss', \n",
    "                                            patience=20, \n",
    "                                            verbose=1, \n",
    "                                            factor=0.5, \n",
    "                                            min_lr=0.0001)"
   ]
  },
  {
   "cell_type": "code",
   "execution_count": 311,
   "metadata": {},
   "outputs": [
    {
     "data": {
      "image/png": "[encoded data removed]",
      "text/plain": [
       "<Figure size 864x864 with 3 Axes>"
      ]
     },
     "metadata": {
      "needs_background": "light"
     },
     "output_type": "display_data"
    },
    {
     "data": {
      "text/plain": [
       "<keras.callbacks.callbacks.History at 0x1a5e2be0d0>"
      ]
     },
     "execution_count": 311,
     "metadata": {},
     "output_type": "execute_result"
    }
   ],
   "source": [
    "mlp.fit(X_train, y_train, epochs=500, batch_size=264, callbacks=[es, PlotLossesCallback(plot_extrema=False), learning_rate_reduction], validation_data=(X_valid, y_valid))"
   ]
  },
  {
   "cell_type": "code",
   "execution_count": 327,
   "metadata": {},
   "outputs": [],
   "source": [
    "import keras.backend as K\n",
    "f = K.function([mlp.layers[0].input, K.learning_phase()],\n",
    "               [mlp.layers[-1].output])"
   ]
  },
  {
   "cell_type": "code",
   "execution_count": 328,
   "metadata": {},
   "outputs": [],
   "source": [
    "def predict_with_uncertainty(f, x, n_iter=1000):\n",
    "    result = []\n",
    "\n",
    "    for i in range(n_iter):\n",
    "        result.append(f([x, 1]))\n",
    "\n",
    "    result = np.array(result)\n",
    "\n",
    "    prediction = np.median(result, axis=0)\n",
    "    uncertainty = result.var(axis=0)\n",
    "    return result, prediction, uncertainty"
   ]
  },
  {
   "cell_type": "code",
   "execution_count": 329,
   "metadata": {},
   "outputs": [],
   "source": [
    "result, rediction, uncertainity = predict_with_uncertainty(f, X_train[:100])"
   ]
  },
  {
   "cell_type": "code",
   "execution_count": 330,
   "metadata": {},
   "outputs": [],
   "source": [
    "def rgb_to_hex_round(c): \n",
    "    return rgb_to_hex((int(c[0]), int(c[1]), int(c[2])))"
   ]
  },
  {
   "cell_type": "code",
   "execution_count": 331,
   "metadata": {},
   "outputs": [],
   "source": [
    "from webcolors import rgb_to_hex\n",
    "\n",
    "def plot_prediction_dist(predictions_dist, label_names, label_dict, sample=100, outname=None, centrality='median', n_samples=10, width=0.2, figsize=(8.16)):\n",
    "    \"\"\"Plot figure that compares color of predictions versus acutal colors.\n",
    "    \n",
    "    Arguments:\n",
    "        predictions {iterable} -- iterable of rgb colors\n",
    "        labels {iterable} -- iterable of rgb colors\n",
    "    \n",
    "    Keyword Arguments:\n",
    "        sample {int} -- how many samples to plot (default: {100})\n",
    "        outname {string} -- path to which figure is saved (default: {None})\n",
    "    \"\"\"\n",
    "    fig = plt.figure(figsize=figsize)\n",
    "    ax = fig.add_axes([0, 0, 1, 1])\n",
    "\n",
    "    predictions = predictions_dist[:, 0, :sample]\n",
    "    label_names = label_names.values[:sample]\n",
    "    label_names_set = set(label_names)\n",
    "    \n",
    "   \n",
    "        \n",
    "    if centrality == 'median': \n",
    "        prediction_centrality = np.median(predictions, axis=0)\n",
    "        label_centrality_dict = {}\n",
    "        for color in label_names_set: \n",
    "            label_centrality_dict[color] = np.median(label_dict[color], axis=0)\n",
    "\n",
    "    for i in range(len(label_names)):\n",
    "        colorname = label_names[i]\n",
    "        r1 = mpatch.Rectangle((0, i), 1, 1, color=rgb_to_hex_round(prediction_centrality[i]))\n",
    "        r2 = mpatch.Rectangle((1, i), 1, 1, color=rgb_to_hex_round(label_centrality_dict[colorname]))\n",
    "\n",
    "        ax.add_patch(r1)\n",
    "        ax.add_patch(r2)\n",
    "        \n",
    "        for j in range(n_samples):\n",
    "            choice = np.random.randint(0,len(predictions_dist))\n",
    "            choice2 = np.random.randint(0, len(label_dict[colorname]))\n",
    "            r3 = mpatch.Rectangle((-0.5 - width * j, i), 0.5, 1, color=rgb_to_hex_round(\n",
    "                predictions[choice][i]\n",
    "            ))\n",
    "            r4 = mpatch.Rectangle((2 + width * j, i), 0.5, 1, color=rgb_to_hex_round(\n",
    "               label_dict[colorname][choice2]\n",
    "            ))\n",
    "            ax.add_patch(r3)\n",
    "            ax.add_patch(r4)\n",
    "        \n",
    "        ax.axhline(i, color=\"k\")\n",
    "\n",
    "    ax.text(0.5, i + 1.5, \"prediction {}\".format(centrality), ha=\"center\", va=\"center\")\n",
    "    ax.text(1.5, i + 1.5, \"label {}\".format(centrality), ha=\"center\", va=\"center\")\n",
    "    \n",
    "    ax.text(0.5 - n_samples * 3/4 * width, i + 1.5, \"prediction samples\", ha=\"center\", va=\"center\")\n",
    "    ax.text(1.5 + n_samples * 3/4 * width, i + 1.5, \"colorjeopardy samples\", ha=\"center\", va=\"center\")\n",
    "    \n",
    "    ax.set_xlim(0 - n_samples * width, 2 + n_samples * width)\n",
    "    ax.set_ylim(0, i + 2)\n",
    "    ax.axis(\"off\")\n",
    "\n",
    "    fig.tight_layout()\n",
    "\n",
    "    if outname is not None:\n",
    "        fig.savefig(outname, bbox_inches=\"tight\")\n"
   ]
  },
  {
   "cell_type": "code",
   "execution_count": 332,
   "metadata": {},
   "outputs": [
    {
     "data": {
      "text/plain": [
       "(1000, 1, 100, 3)"
      ]
     },
     "execution_count": 332,
     "metadata": {},
     "output_type": "execute_result"
    }
   ],
   "source": [
    "result.shape"
   ]
  },
  {
   "cell_type": "code",
   "execution_count": 333,
   "metadata": {},
   "outputs": [
    {
     "ename": "TypeError",
     "evalue": "from_bounds() argument after * must be an iterable, not float",
     "output_type": "error",
     "traceback": [
      "\u001b[0;31m---------------------------------------------------------------------------\u001b[0m",
      "\u001b[0;31mTypeError\u001b[0m                                 Traceback (most recent call last)",
      "\u001b[0;32m<ipython-input-333-8fce1ed7a845>\u001b[0m in \u001b[0;36m<module>\u001b[0;34m\u001b[0m\n\u001b[0;32m----> 1\u001b[0;31m \u001b[0mplot_prediction_dist\u001b[0m\u001b[0;34m(\u001b[0m\u001b[0mresult\u001b[0m \u001b[0;34m*\u001b[0m \u001b[0;36m255\u001b[0m\u001b[0;34m,\u001b[0m \u001b[0mname_train\u001b[0m\u001b[0;34m,\u001b[0m \u001b[0maugment_dict\u001b[0m\u001b[0;34m)\u001b[0m\u001b[0;34m\u001b[0m\u001b[0;34m\u001b[0m\u001b[0m\n\u001b[0m",
      "\u001b[0;32m<ipython-input-331-830d1cf32cc1>\u001b[0m in \u001b[0;36mplot_prediction_dist\u001b[0;34m(predictions_dist, label_names, label_dict, sample, outname, centrality, n_samples, width, figsize)\u001b[0m\n\u001b[1;32m     12\u001b[0m         \u001b[0moutname\u001b[0m \u001b[0;34m{\u001b[0m\u001b[0mstring\u001b[0m\u001b[0;34m}\u001b[0m \u001b[0;34m-\u001b[0m\u001b[0;34m-\u001b[0m \u001b[0mpath\u001b[0m \u001b[0mto\u001b[0m \u001b[0mwhich\u001b[0m \u001b[0mfigure\u001b[0m \u001b[0;32mis\u001b[0m \u001b[0msaved\u001b[0m \u001b[0;34m(\u001b[0m\u001b[0mdefault\u001b[0m\u001b[0;34m:\u001b[0m \u001b[0;34m{\u001b[0m\u001b[0;32mNone\u001b[0m\u001b[0;34m}\u001b[0m\u001b[0;34m)\u001b[0m\u001b[0;34m\u001b[0m\u001b[0;34m\u001b[0m\u001b[0m\n\u001b[1;32m     13\u001b[0m     \"\"\"\n\u001b[0;32m---> 14\u001b[0;31m     \u001b[0mfig\u001b[0m \u001b[0;34m=\u001b[0m \u001b[0mplt\u001b[0m\u001b[0;34m.\u001b[0m\u001b[0mfigure\u001b[0m\u001b[0;34m(\u001b[0m\u001b[0mfigsize\u001b[0m\u001b[0;34m=\u001b[0m\u001b[0mfigsize\u001b[0m\u001b[0;34m)\u001b[0m\u001b[0;34m\u001b[0m\u001b[0;34m\u001b[0m\u001b[0m\n\u001b[0m\u001b[1;32m     15\u001b[0m     \u001b[0max\u001b[0m \u001b[0;34m=\u001b[0m \u001b[0mfig\u001b[0m\u001b[0;34m.\u001b[0m\u001b[0madd_axes\u001b[0m\u001b[0;34m(\u001b[0m\u001b[0;34m[\u001b[0m\u001b[0;36m0\u001b[0m\u001b[0;34m,\u001b[0m \u001b[0;36m0\u001b[0m\u001b[0;34m,\u001b[0m \u001b[0;36m1\u001b[0m\u001b[0;34m,\u001b[0m \u001b[0;36m1\u001b[0m\u001b[0;34m]\u001b[0m\u001b[0;34m)\u001b[0m\u001b[0;34m\u001b[0m\u001b[0;34m\u001b[0m\u001b[0m\n\u001b[1;32m     16\u001b[0m \u001b[0;34m\u001b[0m\u001b[0m\n",
      "\u001b[0;32m~/opt/miniconda3/envs/colorml/lib/python3.7/site-packages/matplotlib/pyplot.py\u001b[0m in \u001b[0;36mfigure\u001b[0;34m(num, figsize, dpi, facecolor, edgecolor, frameon, FigureClass, clear, **kwargs)\u001b[0m\n\u001b[1;32m    544\u001b[0m                                         \u001b[0mframeon\u001b[0m\u001b[0;34m=\u001b[0m\u001b[0mframeon\u001b[0m\u001b[0;34m,\u001b[0m\u001b[0;34m\u001b[0m\u001b[0;34m\u001b[0m\u001b[0m\n\u001b[1;32m    545\u001b[0m                                         \u001b[0mFigureClass\u001b[0m\u001b[0;34m=\u001b[0m\u001b[0mFigureClass\u001b[0m\u001b[0;34m,\u001b[0m\u001b[0;34m\u001b[0m\u001b[0;34m\u001b[0m\u001b[0m\n\u001b[0;32m--> 546\u001b[0;31m                                         **kwargs)\n\u001b[0m\u001b[1;32m    547\u001b[0m \u001b[0;34m\u001b[0m\u001b[0m\n\u001b[1;32m    548\u001b[0m         \u001b[0;32mif\u001b[0m \u001b[0mfigLabel\u001b[0m\u001b[0;34m:\u001b[0m\u001b[0;34m\u001b[0m\u001b[0;34m\u001b[0m\u001b[0m\n",
      "\u001b[0;32m~/opt/miniconda3/envs/colorml/lib/python3.7/site-packages/matplotlib/backend_bases.py\u001b[0m in \u001b[0;36mnew_figure_manager\u001b[0;34m(cls, num, *args, **kwargs)\u001b[0m\n\u001b[1;32m   3322\u001b[0m         \u001b[0;32mfrom\u001b[0m \u001b[0mmatplotlib\u001b[0m\u001b[0;34m.\u001b[0m\u001b[0mfigure\u001b[0m \u001b[0;32mimport\u001b[0m \u001b[0mFigure\u001b[0m\u001b[0;34m\u001b[0m\u001b[0;34m\u001b[0m\u001b[0m\n\u001b[1;32m   3323\u001b[0m         \u001b[0mfig_cls\u001b[0m \u001b[0;34m=\u001b[0m \u001b[0mkwargs\u001b[0m\u001b[0;34m.\u001b[0m\u001b[0mpop\u001b[0m\u001b[0;34m(\u001b[0m\u001b[0;34m'FigureClass'\u001b[0m\u001b[0;34m,\u001b[0m \u001b[0mFigure\u001b[0m\u001b[0;34m)\u001b[0m\u001b[0;34m\u001b[0m\u001b[0;34m\u001b[0m\u001b[0m\n\u001b[0;32m-> 3324\u001b[0;31m         \u001b[0mfig\u001b[0m \u001b[0;34m=\u001b[0m \u001b[0mfig_cls\u001b[0m\u001b[0;34m(\u001b[0m\u001b[0;34m*\u001b[0m\u001b[0margs\u001b[0m\u001b[0;34m,\u001b[0m \u001b[0;34m**\u001b[0m\u001b[0mkwargs\u001b[0m\u001b[0;34m)\u001b[0m\u001b[0;34m\u001b[0m\u001b[0;34m\u001b[0m\u001b[0m\n\u001b[0m\u001b[1;32m   3325\u001b[0m         \u001b[0;32mreturn\u001b[0m \u001b[0mcls\u001b[0m\u001b[0;34m.\u001b[0m\u001b[0mnew_figure_manager_given_figure\u001b[0m\u001b[0;34m(\u001b[0m\u001b[0mnum\u001b[0m\u001b[0;34m,\u001b[0m \u001b[0mfig\u001b[0m\u001b[0;34m)\u001b[0m\u001b[0;34m\u001b[0m\u001b[0;34m\u001b[0m\u001b[0m\n\u001b[1;32m   3326\u001b[0m \u001b[0;34m\u001b[0m\u001b[0m\n",
      "\u001b[0;32m~/opt/miniconda3/envs/colorml/lib/python3.7/site-packages/matplotlib/figure.py\u001b[0m in \u001b[0;36m__init__\u001b[0;34m(self, figsize, dpi, facecolor, edgecolor, linewidth, frameon, subplotpars, tight_layout, constrained_layout)\u001b[0m\n\u001b[1;32m    349\u001b[0m             raise ValueError('figure size must be positive finite not '\n\u001b[1;32m    350\u001b[0m                              f'{figsize}')\n\u001b[0;32m--> 351\u001b[0;31m         \u001b[0mself\u001b[0m\u001b[0;34m.\u001b[0m\u001b[0mbbox_inches\u001b[0m \u001b[0;34m=\u001b[0m \u001b[0mBbox\u001b[0m\u001b[0;34m.\u001b[0m\u001b[0mfrom_bounds\u001b[0m\u001b[0;34m(\u001b[0m\u001b[0;36m0\u001b[0m\u001b[0;34m,\u001b[0m \u001b[0;36m0\u001b[0m\u001b[0;34m,\u001b[0m \u001b[0;34m*\u001b[0m\u001b[0mfigsize\u001b[0m\u001b[0;34m)\u001b[0m\u001b[0;34m\u001b[0m\u001b[0;34m\u001b[0m\u001b[0m\n\u001b[0m\u001b[1;32m    352\u001b[0m \u001b[0;34m\u001b[0m\u001b[0m\n\u001b[1;32m    353\u001b[0m         \u001b[0mself\u001b[0m\u001b[0;34m.\u001b[0m\u001b[0mdpi_scale_trans\u001b[0m \u001b[0;34m=\u001b[0m \u001b[0mAffine2D\u001b[0m\u001b[0;34m(\u001b[0m\u001b[0;34m)\u001b[0m\u001b[0;34m.\u001b[0m\u001b[0mscale\u001b[0m\u001b[0;34m(\u001b[0m\u001b[0mdpi\u001b[0m\u001b[0;34m)\u001b[0m\u001b[0;34m\u001b[0m\u001b[0;34m\u001b[0m\u001b[0m\n",
      "\u001b[0;31mTypeError\u001b[0m: from_bounds() argument after * must be an iterable, not float"
     ]
    }
   ],
   "source": [
    "plot_prediction_dist(result * 255, name_train, augment_dict)"
   ]
  },
  {
   "cell_type": "code",
   "execution_count": null,
   "metadata": {},
   "outputs": [],
   "source": []
  },
  {
   "cell_type": "code",
   "execution_count": null,
   "metadata": {},
   "outputs": [],
   "source": []
  }
 ],
 "metadata": {
  "kernelspec": {
   "display_name": "Python [conda env:colorml]",
   "language": "python",
   "name": "conda-env-colorml-py"
  },
  "language_info": {
   "codemirror_mode": {
    "name": "ipython",
    "version": 3
   },
   "file_extension": ".py",
   "mimetype": "text/x-python",
   "name": "python",
   "nbconvert_exporter": "python",
   "pygments_lexer": "ipython3",
   "version": "3.7.6"
  }
 },
 "nbformat": 4,
 "nbformat_minor": 4
}
