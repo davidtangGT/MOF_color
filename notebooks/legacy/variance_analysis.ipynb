{
 "cells": [
  {
   "cell_type": "code",
   "execution_count": 14,
   "metadata": {},
   "outputs": [
    {
     "name": "stdout",
     "output_type": "stream",
     "text": [
      "The autoreload extension is already loaded. To reload it, use:\n",
      "  %reload_ext autoreload\n"
     ]
    }
   ],
   "source": [
    "%load_ext autoreload\n",
    "%autoreload 2\n",
    "import joblib \n",
    "import numpy as np\n",
    "\n",
    "import matplotlib.pyplot as plt\n",
    "import pandas as pd\n",
    "from colorml.utils.utils import plot_prediction_dist, read_pickle, pairwise_delta_es\n",
    "\n",
    "%matplotlib inline\n",
    "from colorml.utils.utils import get_delta_e, pairwise_delta_es\n",
    "\n",
    "import seaborn as sns\n",
    "\n",
    "import matplotlib as mpl\n",
    "mpl.rcParams.update(mpl.rcParamsDefault)\n",
    "\n",
    "from collections import Counter\n",
    "import pickle\n",
    "\n",
    "plt.rcParams['font.family'] = 'sans-serif'"
   ]
  },
  {
   "cell_type": "code",
   "execution_count": 2,
   "metadata": {},
   "outputs": [],
   "source": [
    "df = pd.read_csv('../data/color_feat_merged.csv')"
   ]
  },
  {
   "cell_type": "code",
   "execution_count": 3,
   "metadata": {},
   "outputs": [],
   "source": [
    "color_counter = Counter(df['color_cleaned_y'].values)"
   ]
  },
  {
   "cell_type": "code",
   "execution_count": 4,
   "metadata": {},
   "outputs": [
    {
     "data": {
      "text/plain": [
       "1"
      ]
     },
     "execution_count": 4,
     "metadata": {},
     "output_type": "execute_result"
    }
   ],
   "source": [
    "color_counter['cherry red']"
   ]
  },
  {
   "cell_type": "code",
   "execution_count": 5,
   "metadata": {},
   "outputs": [],
   "source": [
    "augmentation_dict = read_pickle('../data/augment_dict.pkl')"
   ]
  },
  {
   "cell_type": "code",
   "execution_count": 6,
   "metadata": {},
   "outputs": [],
   "source": [
    "color_delta_es = {}\n",
    "means = []\n",
    "weights = []\n",
    "for k,v in augmentation_dict.items():\n",
    "    colors = len(v)\n",
    "    meanc = []\n",
    "    for i in range(colors):\n",
    "        for j in range(colors): \n",
    "            if j>i: \n",
    "                meanc.append(get_delta_e(v[i], v[j], upscaled=True))\n",
    "    color_delta_es[k] = meanc\n",
    "    weights.extend([color_counter[k]] * len(meanc))\n",
    "    means.extend(meanc)"
   ]
  },
  {
   "cell_type": "code",
   "execution_count": 7,
   "metadata": {},
   "outputs": [
    {
     "data": {
      "text/plain": [
       "31228"
      ]
     },
     "execution_count": 7,
     "metadata": {},
     "output_type": "execute_result"
    }
   ],
   "source": [
    "len(weights)"
   ]
  },
  {
   "cell_type": "code",
   "execution_count": 8,
   "metadata": {},
   "outputs": [],
   "source": [
    "color_delta_es2 = {}\n",
    "means2 = []\n",
    "weights = []\n",
    "for k,v in augmentation_dict.items():\n",
    "    colors = len(v)\n",
    "    meanc = []\n",
    "    for i in range(colors):\n",
    "        for j in range(colors): \n",
    "            if j>i: \n",
    "                meanc.append(get_delta_e(v[i], v[j], upscaled=True))\n",
    "    color_delta_es2[k] = np.mean(meanc)\n",
    "    weights.append(color_counter[k] / len(df))\n",
    "    means2.append(np.mean(meanc))"
   ]
  },
  {
   "cell_type": "code",
   "execution_count": 9,
   "metadata": {},
   "outputs": [],
   "source": [
    "color_delta_es_from_med = {}\n",
    "means_from_med = []\n",
    "\n",
    "for k,v in augmentation_dict.items():\n",
    "    colors = len(v)\n",
    "    meanc = []\n",
    "    median_c = np.median(v, axis=0)\n",
    "    for i in range(colors):\n",
    "        meanc.append(get_delta_e(v[i], median_c, upscaled=True))\n",
    "    color_delta_es_from_med[k] = meanc\n",
    "    means_from_med.extend(meanc)"
   ]
  },
  {
   "cell_type": "code",
   "execution_count": 10,
   "metadata": {},
   "outputs": [
    {
     "name": "stderr",
     "output_type": "stream",
     "text": [
      "/Users/kevinmaikjablonka/opt/miniconda3/envs/colorml2/lib/python3.7/site-packages/ipykernel_launcher.py:13: MatplotlibDeprecationWarning: \n",
      "The set_smart_bounds function was deprecated in Matplotlib 3.2 and will be removed two minor releases later.\n",
      "  del sys.path[0]\n",
      "/Users/kevinmaikjablonka/opt/miniconda3/envs/colorml2/lib/python3.7/site-packages/ipykernel_launcher.py:14: MatplotlibDeprecationWarning: \n",
      "The set_smart_bounds function was deprecated in Matplotlib 3.2 and will be removed two minor releases later.\n",
      "  \n"
     ]
    }
   ],
   "source": [
    "fig, ax = plt.subplots(1,1, figsize=(4.5,3.5), sharex=True)\n",
    "\n",
    "ax.hist(means2, weights=weights, bins=60, cumulative=True, alpha=.5, density=True, label='weighted ')\n",
    "ax.hist(means2, bins=60, cumulative=True, label='unweighted', alpha=.5, density=True)\n",
    "\n",
    "ax.set_xlabel(r'mean pairwise colour distance $\\Delta E^*_{ab}$ for a colour name')\n",
    "ax.set_ylabel(r'cumulative distribution')\n",
    "\n",
    "ax.vlines(16, 0, 1)\n",
    "# ax.vlines(10, 0, 140)\n",
    "ax.spines['top'].set_color('none')\n",
    "ax.spines['right'].set_color('none')\n",
    "ax.spines['left'].set_smart_bounds(True)\n",
    "ax.spines['bottom'].set_smart_bounds(True)\n",
    "ax.legend()\n",
    "\n",
    "fig.tight_layout()\n",
    "fig.savefig('../results/delta_e.pdf', bbox_inches='tight')"
   ]
  },
  {
   "cell_type": "code",
   "execution_count": 11,
   "metadata": {},
   "outputs": [
    {
     "ename": "ValueError",
     "evalue": "operands could not be broadcast together with shapes (31228,) (140,) ",
     "output_type": "error",
     "traceback": [
      "\u001b[0;31m---------------------------------------------------------------------------\u001b[0m",
      "\u001b[0;31mValueError\u001b[0m                                Traceback (most recent call last)",
      "\u001b[0;32m<ipython-input-11-223c1af0d9d5>\u001b[0m in \u001b[0;36m<module>\u001b[0;34m\u001b[0m\n\u001b[0;32m----> 1\u001b[0;31m \u001b[0mnp\u001b[0m\u001b[0;34m.\u001b[0m\u001b[0mmean\u001b[0m\u001b[0;34m(\u001b[0m\u001b[0mnp\u001b[0m\u001b[0;34m.\u001b[0m\u001b[0marray\u001b[0m\u001b[0;34m(\u001b[0m\u001b[0mmeans\u001b[0m\u001b[0;34m)\u001b[0m \u001b[0;34m*\u001b[0m \u001b[0mnp\u001b[0m\u001b[0;34m.\u001b[0m\u001b[0marray\u001b[0m\u001b[0;34m(\u001b[0m\u001b[0mweights\u001b[0m\u001b[0;34m)\u001b[0m\u001b[0;34m/\u001b[0m\u001b[0mlen\u001b[0m\u001b[0;34m(\u001b[0m\u001b[0mdf\u001b[0m\u001b[0;34m)\u001b[0m\u001b[0;34m)\u001b[0m\u001b[0;34m\u001b[0m\u001b[0;34m\u001b[0m\u001b[0m\n\u001b[0m",
      "\u001b[0;31mValueError\u001b[0m: operands could not be broadcast together with shapes (31228,) (140,) "
     ]
    }
   ],
   "source": [
    "np.mean(np.array(means) * np.array(weights)/len(df)) "
   ]
  },
  {
   "cell_type": "code",
   "execution_count": 12,
   "metadata": {},
   "outputs": [],
   "source": [
    "colors_to_pick = {}\n",
    "\n",
    "for threshold in [5, 10, 16]: \n",
    "    colors_to_pick_list = []\n",
    "    for k, v in color_delta_es2.items(): \n",
    "        if v < threshold: \n",
    "            colors_to_pick_list.append(k)\n",
    "            \n",
    "    colors_to_pick[threshold] = colors_to_pick_list"
   ]
  },
  {
   "cell_type": "code",
   "execution_count": 15,
   "metadata": {},
   "outputs": [],
   "source": [
    "with open('../data/color_threshold.pkl', 'wb') as fh:\n",
    "    pickle.dump(colors_to_pick, fh)"
   ]
  },
  {
   "cell_type": "code",
   "execution_count": null,
   "metadata": {},
   "outputs": [],
   "source": []
  }
 ],
 "metadata": {
  "kernelspec": {
   "display_name": "Python 3",
   "language": "python",
   "name": "python3"
  },
  "language_info": {
   "codemirror_mode": {
    "name": "ipython",
    "version": 3
   },
   "file_extension": ".py",
   "mimetype": "text/x-python",
   "name": "python",
   "nbconvert_exporter": "python",
   "pygments_lexer": "ipython3",
   "version": "3.7.6"
  }
 },
 "nbformat": 4,
 "nbformat_minor": 4
}
