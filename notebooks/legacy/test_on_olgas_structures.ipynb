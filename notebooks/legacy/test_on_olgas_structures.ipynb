{
 "cells": [
  {
   "cell_type": "code",
   "execution_count": 11,
   "metadata": {},
   "outputs": [],
   "source": [
    "from ase.io import read, write \n",
    "from glob import glob\n",
    "import os \n",
    "from pathlib import Path"
   ]
  },
  {
   "cell_type": "code",
   "execution_count": 3,
   "metadata": {},
   "outputs": [],
   "source": [
    "MILCELL = [\n",
    "    [18.905184612,   0.000000000,   0.000000000],\n",
    "    [0.000000000,  18.905184612,   0.000000000],\n",
    "    [0.000000000,   0.000000000,  17.938001998],\n",
    "]"
   ]
  },
  {
   "cell_type": "code",
   "execution_count": 10,
   "metadata": {},
   "outputs": [],
   "source": [
    "UIOCELL = [\n",
    "    [2.0772203419578073E+01,    0.0000000000000000E+00,    0.0000000000000000E+00],\n",
    "    [0.0000000000000000E+00,   2.0891580337350018E+01,    0.0000000000000000E+00],\n",
    "    [0.0000000000000000E+00,    0.0000000000000000E+00,    2.0865395698910010E+01]\n",
    "]"
   ]
  },
  {
   "cell_type": "code",
   "execution_count": 18,
   "metadata": {},
   "outputs": [],
   "source": [
    "milstuctures = glob('data/case_studies/olgas_structures/MIL-125-NH2/*.xyz')\n",
    "uiostuctures = glob('data/case_studies/olgas_structures/UiO-66-NH2/*.xyz')"
   ]
  },
  {
   "cell_type": "code",
   "execution_count": 2,
   "metadata": {},
   "outputs": [],
   "source": [
    "atoms = read('data/case_studies/olgas_structures/MIL-125-NH2/MIL-125-NH2-Nb.xyz')"
   ]
  },
  {
   "cell_type": "code",
   "execution_count": 4,
   "metadata": {},
   "outputs": [],
   "source": [
    "atoms.set_cell(MILCELL)"
   ]
  },
  {
   "cell_type": "code",
   "execution_count": 6,
   "metadata": {},
   "outputs": [],
   "source": [
    "atoms.pbc = True"
   ]
  },
  {
   "cell_type": "code",
   "execution_count": 8,
   "metadata": {},
   "outputs": [],
   "source": [
    "write('test.cif', atoms)"
   ]
  },
  {
   "cell_type": "code",
   "execution_count": 14,
   "metadata": {},
   "outputs": [],
   "source": [
    "def write_to_cif(xyzpath,cell): \n",
    "    atoms = read(xyzpath)\n",
    "    atoms.set_cell(cell)\n",
    "    atoms.pbc = True\n",
    "    p = Path(xyzpath).stem + '.cif'\n",
    "    \n",
    "    write(p, atoms)"
   ]
  },
  {
   "cell_type": "code",
   "execution_count": 19,
   "metadata": {},
   "outputs": [],
   "source": [
    "for milstucture in milstuctures: \n",
    "    write_to_cif(milstucture, MILCELL)"
   ]
  },
  {
   "cell_type": "code",
   "execution_count": 20,
   "metadata": {},
   "outputs": [],
   "source": [
    "for uiostucture in uiostuctures: \n",
    "    write_to_cif(uiostucture, UIOCELL)"
   ]
  },
  {
   "cell_type": "code",
   "execution_count": 17,
   "metadata": {},
   "outputs": [
    {
     "data": {
      "text/plain": [
       "[]"
      ]
     },
     "execution_count": 17,
     "metadata": {},
     "output_type": "execute_result"
    }
   ],
   "source": [
    "milstuctures"
   ]
  },
  {
   "cell_type": "code",
   "execution_count": null,
   "metadata": {},
   "outputs": [],
   "source": []
  }
 ],
 "metadata": {
  "kernelspec": {
   "display_name": "Python [conda env:colorml]",
   "language": "python",
   "name": "conda-env-colorml-py"
  },
  "language_info": {
   "codemirror_mode": {
    "name": "ipython",
    "version": 3
   },
   "file_extension": ".py",
   "mimetype": "text/x-python",
   "name": "python",
   "nbconvert_exporter": "python",
   "pygments_lexer": "ipython3",
   "version": "3.7.6"
  }
 },
 "nbformat": 4,
 "nbformat_minor": 4
}
