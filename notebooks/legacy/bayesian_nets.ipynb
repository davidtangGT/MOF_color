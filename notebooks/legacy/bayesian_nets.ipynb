{
 "cells": [
  {
   "cell_type": "code",
   "execution_count": 1,
   "metadata": {},
   "outputs": [
    {
     "name": "stderr",
     "output_type": "stream",
     "text": [
      "Using TensorFlow backend.\n"
     ]
    }
   ],
   "source": [
    "import os\n",
    "import numpy as np \n",
    "import probflow as pf\n",
    "from probflow.callbacks import MonitorELBO, MonitorMetric, EarlyStopping\n",
    "import pandas as pd \n",
    "import matplotlib.pyplot as plt \n",
    "%matplotlib inline\n",
    "\n",
    "from sklearn.model_selection import train_test_split\n",
    "from sklearn.preprocessing import StandardScaler, MinMaxScaler\n",
    "\n",
    "import tensorflow as tf\n",
    "import sys\n",
    "sys.path.append('../')\n",
    "from colorml.utils import mapping_to_target_range, get_timestamp_string, plot_predictions, huber_fn, mapping_to_target_range_sig, read_pickle, augment_data\n",
    "from colorml.descriptornames import * \n",
    "\n",
    "RESULTS = os.path.join('..', 'results', 'baselines')\n",
    "MODELS = os.path.join('..', 'models', 'baselines')\n",
    "from numpy.random import seed\n",
    "seed(821996)\n",
    "\n",
    "CHEMICAL_FEATURES = metalcenter_descriptors + functionalgroup_descriptors + linker_descriptors + mol_desc  + summed_linker_descriptors + summed_metalcenter_descriptors + summed_functionalgroup_descriptors"
   ]
  },
  {
   "cell_type": "code",
   "execution_count": 452,
   "metadata": {},
   "outputs": [],
   "source": [
    "def mapping_to_target_range(x, target_min=0, target_max=1):\n",
    "    \"\"\"Linear activation function that constrains output to a range\n",
    "    \n",
    "    Arguments:\n",
    "        x {tensor} -- input tensor\n",
    "    \n",
    "    Keyword Arguments:\n",
    "        target_min {float} -- minimum output (default: {0})\n",
    "        target_max {float} -- maximum output (default: {1})\n",
    "    \n",
    "    Returns:\n",
    "        tensor -- constrained linear activation\n",
    "    \"\"\"\n",
    "    x02 = x + 1  # x in range(0,2)\n",
    "    scale = (target_max - target_min) / 2.0\n",
    "    return x02 * scale + target_min"
   ]
  },
  {
   "cell_type": "code",
   "execution_count": 453,
   "metadata": {},
   "outputs": [],
   "source": [
    "import tensorflow_addons as tfa\n",
    " \n",
    "class DenseNetwork2(pf.Module):\n",
    "\n",
    "    def __init__(self, dims, activation=tf.keras.activations.relu):\n",
    "        Nl = len(dims)-1 #number of layers\n",
    "        self.layers = [pf.modules.Dense(dims[i], dims[i+1]) for i in range(Nl)]\n",
    "        self.activations = (Nl-1)*[activation] + [mapping_to_target_range]\n",
    "\n",
    "    def __call__(self, x):\n",
    "        for i in range(len(self.activations)):\n",
    "            x = self.layers[i](x)\n",
    "            x = self.activations[i](x)\n",
    "        return x"
   ]
  },
  {
   "cell_type": "code",
   "execution_count": 454,
   "metadata": {},
   "outputs": [],
   "source": [
    "import tensorflow_addons as tfa\n",
    " \n",
    "class DenseNetwork(pf.Module):\n",
    "\n",
    "    def __init__(self, dims, activation=tf.keras.activations.relu):\n",
    "        Nl = len(dims)-1 #number of layers\n",
    "        self.layers = [pf.modules.Dense(dims[i], dims[i+1]) for i in range(Nl)]\n",
    "        self.activations = (Nl-1)*[activation] + [lambda x: x]\n",
    "\n",
    "    def __call__(self, x):\n",
    "        for i in range(len(self.activations)):\n",
    "            x = self.layers[i](x)\n",
    "            x = self.activations[i](x)\n",
    "        return x"
   ]
  },
  {
   "cell_type": "code",
   "execution_count": 455,
   "metadata": {},
   "outputs": [],
   "source": [
    "df_subset_merged = pd.read_csv('../data/color_feat_merged.csv')"
   ]
  },
  {
   "cell_type": "code",
   "execution_count": 456,
   "metadata": {},
   "outputs": [],
   "source": [
    "augment_dict = read_pickle('../data/augment_dict.pkl')"
   ]
  },
  {
   "cell_type": "code",
   "execution_count": 457,
   "metadata": {},
   "outputs": [],
   "source": [
    "df_train, df_test = train_test_split(df_subset_merged, train_size=0.7)"
   ]
  },
  {
   "cell_type": "code",
   "execution_count": 458,
   "metadata": {},
   "outputs": [],
   "source": [
    "df_train = augment_data(df_train, augment_dict)"
   ]
  },
  {
   "cell_type": "code",
   "execution_count": 459,
   "metadata": {},
   "outputs": [],
   "source": [
    "X_train = df_train[CHEMICAL_FEATURES]\n",
    "y_train = df_train[['r', 'g', 'b']]\n",
    "\n",
    "X_test = df_test[CHEMICAL_FEATURES]\n",
    "y_test = df_test[['r', 'g', 'b']]"
   ]
  },
  {
   "cell_type": "code",
   "execution_count": 460,
   "metadata": {},
   "outputs": [],
   "source": [
    "name_train = df_train['color_cleaned']\n",
    "name_test = df_test['color_cleaned']"
   ]
  },
  {
   "cell_type": "code",
   "execution_count": 461,
   "metadata": {},
   "outputs": [],
   "source": [
    "scaler = MinMaxScaler()\n",
    "X_train = scaler.fit_transform(X_train)\n",
    "X_test = scaler.transform(X_test)"
   ]
  },
  {
   "cell_type": "code",
   "execution_count": 462,
   "metadata": {},
   "outputs": [],
   "source": [
    "X_train, X_valid, y_train, y_valid = train_test_split(X_train, y_train, train_size=0.9)"
   ]
  },
  {
   "cell_type": "code",
   "execution_count": 463,
   "metadata": {},
   "outputs": [],
   "source": [
    "y_train = y_train / 255\n",
    "y_valid = y_valid / 255\n",
    "y_test = y_test / 255"
   ]
  },
  {
   "cell_type": "code",
   "execution_count": 464,
   "metadata": {
    "scrolled": true
   },
   "outputs": [
    {
     "name": "stdout",
     "output_type": "stream",
     "text": [
      "Epoch 1 \tmae: 0.38450588972663846\n",
      "Epoch 2 \tmae: 0.3827575615687112\n",
      "Epoch 3 \tmae: 0.3761274192627017\n",
      "Epoch 4 \tmae: 0.37245846400721183\n",
      "Epoch 5 \tmae: 0.36652345640994677\n",
      "Epoch 6 \tmae: 0.36608890815784445\n",
      "Epoch 7 \tmae: 0.36435087505119185\n",
      "Epoch 8 \tmae: 0.363465667342282\n",
      "Epoch 9 \tmae: 0.35992375866062537\n",
      "Epoch 10 \tmae: 0.3589722801709191\n",
      "Epoch 11 \tmae: 0.3534578067842997\n",
      "Epoch 12 \tmae: 0.3473422908731097\n",
      "Epoch 13 \tmae: 0.34689468542884594\n",
      "Epoch 14 \tmae: 0.3419979275114501\n",
      "Epoch 15 \tmae: 0.33601763120235273\n",
      "Epoch 16 \tmae: 0.3296769908345291\n",
      "Epoch 17 \tmae: 0.3240574387863599\n",
      "Epoch 18 \tmae: 0.31206972629429175\n",
      "Epoch 19 \tmae: 0.3064801070091546\n",
      "Epoch 20 \tmae: 0.30123058227748895\n",
      "Epoch 21 \tmae: 0.2905660357309412\n",
      "Epoch 22 \tmae: 0.2791482696117235\n",
      "Epoch 23 \tmae: 0.2733396717284559\n",
      "Epoch 24 \tmae: 0.27318915651954545\n",
      "Epoch 25 \tmae: 0.2772570868883811\n",
      "Epoch 26 \tmae: 0.2796588327812859\n",
      "Epoch 27 \tmae: 0.28153727436830484\n",
      "Epoch 28 \tmae: 0.281882532129066\n",
      "Epoch 29 \tmae: 0.28007139550132604\n",
      "Epoch 30 \tmae: 0.2764559219075705\n",
      "Epoch 31 \tmae: 0.27339807283337764\n",
      "Epoch 32 \tmae: 0.26969656372416667\n",
      "Epoch 33 \tmae: 0.2681267366073874\n",
      "Epoch 34 \tmae: 0.2640091801693067\n",
      "Epoch 35 \tmae: 0.261406326795322\n",
      "Epoch 36 \tmae: 0.258245477816236\n",
      "Epoch 37 \tmae: 0.2565919472269\n",
      "Epoch 38 \tmae: 0.2558397624682028\n",
      "Epoch 39 \tmae: 0.22387368010321107\n",
      "Epoch 40 \tmae: 0.21562241902561716\n",
      "Epoch 41 \tmae: 0.21230419127928724\n",
      "Epoch 42 \tmae: 0.2114941071762313\n",
      "Epoch 43 \tmae: 0.21079721597106077\n",
      "Epoch 44 \tmae: 0.21107741910345126\n",
      "Epoch 45 \tmae: 0.2104574578738747\n",
      "Epoch 46 \tmae: 0.20974321460258752\n",
      "Epoch 47 \tmae: 0.20974994535433794\n",
      "Epoch 48 \tmae: 0.21006627295008357\n",
      "Epoch 49 \tmae: 0.21306874718527488\n",
      "Epoch 50 \tmae: 0.20817929343382413\n",
      "Epoch 51 \tmae: 0.20807501127472616\n",
      "Epoch 52 \tmae: 0.20940490061148723\n",
      "Epoch 53 \tmae: 0.20632257569797563\n",
      "Epoch 54 \tmae: 0.20676093323487216\n",
      "Epoch 55 \tmae: 0.20833658683569375\n",
      "Epoch 56 \tmae: 0.20646658799199238\n",
      "Epoch 57 \tmae: 0.2058210283537156\n",
      "Epoch 58 \tmae: 0.2055471650008678\n",
      "Epoch 59 \tmae: 0.2175525454255944\n",
      "Epoch 60 \tmae: 0.2095293111827123\n",
      "Epoch 61 \tmae: 0.20554982802411081\n",
      "Epoch 62 \tmae: 0.20580157737972204\n",
      "Epoch 63 \tmae: 0.2045760239336648\n",
      "Epoch 64 \tmae: 0.2048955484382685\n",
      "Epoch 65 \tmae: 0.20439006683469188\n",
      "Epoch 66 \tmae: 0.20390331448125812\n",
      "Epoch 67 \tmae: 0.21974203333135725\n",
      "Epoch 68 \tmae: 0.2118073206066355\n",
      "Epoch 69 \tmae: 0.21034532839849693\n",
      "Epoch 70 \tmae: 0.20823897518895906\n",
      "Epoch 71 \tmae: 0.20716496900059672\n",
      "Epoch 72 \tmae: 0.20588367502710989\n",
      "Epoch 73 \tmae: 0.20469879658267426\n",
      "Epoch 74 \tmae: 0.20411868655640905\n",
      "Epoch 75 \tmae: 0.20350747426158805\n",
      "Epoch 76 \tmae: 0.20357745870545735\n",
      "Epoch 77 \tmae: 0.20237903781059083\n",
      "Epoch 78 \tmae: 0.2033388332564367\n",
      "Epoch 79 \tmae: 0.20251279855067583\n",
      "Epoch 80 \tmae: 0.20327294776927318\n",
      "Epoch 81 \tmae: 0.2188240391271312\n",
      "Epoch 82 \tmae: 0.20593776846522005\n",
      "Epoch 83 \tmae: 0.20463634405219797\n",
      "Epoch 84 \tmae: 0.20344861196785477\n",
      "Epoch 85 \tmae: 0.20301768456239677\n",
      "Epoch 86 \tmae: 0.20280930707963452\n",
      "Epoch 87 \tmae: 0.20313186177922524\n",
      "Epoch 88 \tmae: 0.20301274644819473\n",
      "EarlyStopping after 88 epochs\n"
     ]
    }
   ],
   "source": [
    "class DensityNetwork(pf.ContinuousModel):\n",
    "\n",
    "    def __init__(self, units, head_units):\n",
    "        self.core = DenseNetwork(units)\n",
    "        self.mean = DenseNetwork2(head_units)\n",
    "        self.std  = DenseNetwork2(head_units)\n",
    "        self.batch_norm = pf.modules.BatchNormalization([units[-1]])\n",
    "        \n",
    "    def __call__(self, x):\n",
    "        x = self.core(x)\n",
    "        x = self.batch_norm(x)\n",
    "        return pf.Normal(self.mean(x), tf.exp(self.std(x)))\n",
    "\n",
    "# Create the model\n",
    "model = DensityNetwork([X_train.shape[1], 64, 16], [16, 8, 6, 3])\n",
    "\n",
    "monitor_mae = MonitorMetric('mae', X_valid, y_valid, verbose=True)\n",
    "monitor_elbo = MonitorELBO()\n",
    "early_stopping = EarlyStopping(lambda: monitor_mae.current_metric, patience=10)\n",
    "\n",
    "# Fit it!\n",
    "model.fit(X_train, y_train, callbacks=[monitor_mae, monitor_elbo, early_stopping], batch_size=268, epochs=500)"
   ]
  },
  {
   "cell_type": "code",
   "execution_count": 465,
   "metadata": {},
   "outputs": [
    {
     "data": {
      "image/png": "[encoded data removed]",
      "text/plain": [
       "<Figure size 432x288 with 1 Axes>"
      ]
     },
     "metadata": {
      "needs_background": "light"
     },
     "output_type": "display_data"
    }
   ],
   "source": [
    "monitor_elbo.plot()"
   ]
  },
  {
   "cell_type": "code",
   "execution_count": 466,
   "metadata": {
    "scrolled": true
   },
   "outputs": [
    {
     "data": {
      "text/plain": [
       "0.32961118942207235"
      ]
     },
     "execution_count": 466,
     "metadata": {},
     "output_type": "execute_result"
    }
   ],
   "source": [
    "model.metric(\"mae\", X_test, y_test)"
   ]
  },
  {
   "cell_type": "code",
   "execution_count": 467,
   "metadata": {
    "scrolled": true
   },
   "outputs": [
    {
     "data": {
      "text/plain": [
       "array([[-148.66427761, -179.67429792, -335.07753501],\n",
       "       [-135.81884839, -168.10741858, -327.33461031],\n",
       "       [-340.29129794, -329.29844145, -430.57447884],\n",
       "       [-343.28009672, -330.62196971, -426.83223141],\n",
       "       [-165.33342683, -212.41519925, -365.82428511],\n",
       "       [ -13.5077371 ,  -25.5205759 , -171.48070258],\n",
       "       [-407.63867549, -352.63782229, -378.5283471 ],\n",
       "       [-209.7816474 , -236.08348816, -391.00136818],\n",
       "       [-350.86813717, -326.07046641, -395.98914888],\n",
       "       [-315.95121002, -304.57604389, -380.68109688]])"
      ]
     },
     "execution_count": 467,
     "metadata": {},
     "output_type": "execute_result"
    }
   ],
   "source": [
    "model.aleatoric_interval(X_test[10:20, :].astype(np.float32))[0] * 255 - model.aleatoric_interval(X_test[10:20, :].astype(np.float32))[1] * 255"
   ]
  },
  {
   "cell_type": "code",
   "execution_count": 468,
   "metadata": {},
   "outputs": [
    {
     "data": {
      "text/plain": [
       "array([[0.8554883 , 0.81143916, 0.7230355 ],\n",
       "       [0.8554883 , 0.81143916, 0.7230355 ],\n",
       "       [0.6623061 , 0.6212933 , 0.57314956],\n",
       "       [0.59104335, 0.5511507 , 0.5178584 ],\n",
       "       [0.83440983, 0.79069203, 0.7066812 ],\n",
       "       [0.8554883 , 0.81143916, 0.7230355 ],\n",
       "       [0.42841747, 0.3910809 , 0.39168042],\n",
       "       [0.81680584, 0.77336466, 0.6930226 ],\n",
       "       [0.51522493, 0.4765239 , 0.45903248],\n",
       "       [0.44960734, 0.41193768, 0.40812123]], dtype=float32)"
      ]
     },
     "execution_count": 468,
     "metadata": {},
     "output_type": "execute_result"
    }
   ],
   "source": [
    "model.predict(X_test[10:20, :].astype(np.float32))"
   ]
  },
  {
   "cell_type": "code",
   "execution_count": 469,
   "metadata": {},
   "outputs": [],
   "source": [
    "import seaborn as sns"
   ]
  },
  {
   "cell_type": "code",
   "execution_count": 470,
   "metadata": {},
   "outputs": [
    {
     "data": {
      "text/plain": [
       "(0, 255)"
      ]
     },
     "execution_count": 470,
     "metadata": {},
     "output_type": "execute_result"
    },
    {
     "data": {
      "image/png": "[encoded data removed]",
      "text/plain": [
       "<Figure size 432x288 with 1 Axes>"
      ]
     },
     "metadata": {
      "needs_background": "light"
     },
     "output_type": "display_data"
    }
   ],
   "source": [
    "sns.distplot(\n",
    "    model.predictive_sample(X_test[0:1, :].astype(np.float32), ).reshape(-1,3)[:, 1] *255, \n",
    "    bins=200   \n",
    ")\n",
    "\n",
    "\n",
    "plt.xlim(0,255)"
   ]
  },
  {
   "cell_type": "code",
   "execution_count": null,
   "metadata": {},
   "outputs": [],
   "source": []
  }
 ],
 "metadata": {
  "file_extension": ".py",
  "kernelspec": {
   "display_name": "Python 3",
   "language": "python",
   "name": "python3"
  },
  "language_info": {
   "codemirror_mode": {
    "name": "ipython",
    "version": 3
   },
   "file_extension": ".py",
   "mimetype": "text/x-python",
   "name": "python",
   "nbconvert_exporter": "python",
   "pygments_lexer": "ipython3",
   "version": "3.7.6"
  },
  "mimetype": "text/x-python",
  "name": "python",
  "npconvert_exporter": "python",
  "pygments_lexer": "ipython3",
  "version": 3
 },
 "nbformat": 4,
 "nbformat_minor": 4
}
