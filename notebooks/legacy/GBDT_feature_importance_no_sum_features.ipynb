{
 "cells": [
  {
   "cell_type": "code",
   "execution_count": 15,
   "metadata": {},
   "outputs": [],
   "source": [
    "import joblib \n",
    "import numpy as np \n",
    "from lightgbm import plot_importance, plot_tree, create_tree_digraph\n",
    "import matplotlib.pyplot as plt \n",
    "%matplotlib inline\n",
    "from colorml.utils.descriptornames import * "
   ]
  },
  {
   "cell_type": "code",
   "execution_count": 2,
   "metadata": {},
   "outputs": [],
   "source": [
    "model = joblib.load('/Users/kevinmaikjablonka/Dropbox (LSMO)/proj75_mofcolor/ml/regressor_medianrun_2020_07_23_13_26_1595503563.joblib')"
   ]
  },
  {
   "cell_type": "code",
   "execution_count": 25,
   "metadata": {},
   "outputs": [],
   "source": [
    "booster_r = model.estimators_[0]\n",
    "booster_g = model.estimators_[1]\n",
    "booster_b = model.estimators_[2]"
   ]
  },
  {
   "cell_type": "code",
   "execution_count": 6,
   "metadata": {},
   "outputs": [],
   "source": [
    "CHEMICAL_FEATURES = [\n",
    "    \"f-lig-chi-0\",\n",
    "    \"f-lig-chi-1\",\n",
    "    \"f-lig-chi-2\",\n",
    "    \"f-lig-chi-3\",\n",
    "    \"f-lig-Z-0\",\n",
    "    \"f-lig-Z-1\",\n",
    "    \"f-lig-Z-2\",\n",
    "    \"f-lig-Z-3\",\n",
    "    \"f-lig-I-0\",\n",
    "    \"f-lig-I-1\",\n",
    "    \"f-lig-I-2\",\n",
    "    \"f-lig-I-3\",\n",
    "    \"f-lig-T-0\",\n",
    "    \"f-lig-T-1\",\n",
    "    \"f-lig-T-2\",\n",
    "    \"f-lig-T-3\",\n",
    "    \"f-lig-S-0\",\n",
    "    \"f-lig-S-1\",\n",
    "    \"f-lig-S-2\",\n",
    "    \"f-lig-S-3\",\n",
    "    \"lc-chi-0-all\",\n",
    "    \"lc-chi-1-all\",\n",
    "    \"lc-chi-2-all\",\n",
    "    \"lc-chi-3-all\",\n",
    "    \"lc-Z-0-all\",\n",
    "    \"lc-Z-1-all\",\n",
    "    \"lc-Z-2-all\",\n",
    "    \"lc-Z-3-all\",\n",
    "    \"lc-I-0-all\",\n",
    "    \"lc-I-1-all\",\n",
    "    \"lc-I-2-all\",\n",
    "    \"lc-I-3-all\",\n",
    "    \"lc-T-0-all\",\n",
    "    \"lc-T-1-all\",\n",
    "    \"lc-T-2-all\",\n",
    "    \"lc-T-3-all\",\n",
    "    \"lc-S-0-all\",\n",
    "    \"lc-S-1-all\",\n",
    "    \"lc-S-2-all\",\n",
    "    \"lc-S-3-all\",\n",
    "    \"lc-alpha-0-all\",\n",
    "    \"lc-alpha-1-all\",\n",
    "    \"lc-alpha-2-all\",\n",
    "    \"lc-alpha-3-all\",\n",
    "    \"D_lc-chi-0-all\",\n",
    "    \"D_lc-chi-1-all\",\n",
    "    \"D_lc-chi-2-all\",\n",
    "    \"D_lc-chi-3-all\",\n",
    "    \"D_lc-Z-0-all\",\n",
    "    \"D_lc-Z-1-all\",\n",
    "    \"D_lc-Z-2-all\",\n",
    "    \"D_lc-Z-3-all\",\n",
    "    \"D_lc-I-0-all\",\n",
    "    \"D_lc-I-1-all\",\n",
    "    \"D_lc-I-2-all\",\n",
    "    \"D_lc-I-3-all\",\n",
    "    \"D_lc-T-0-all\",\n",
    "    \"D_lc-T-1-all\",\n",
    "    \"D_lc-T-2-all\",\n",
    "    \"D_lc-T-3-all\",\n",
    "    \"D_lc-S-0-all\",\n",
    "    \"D_lc-S-1-all\",\n",
    "    \"D_lc-S-2-all\",\n",
    "    \"D_lc-S-3-all\",\n",
    "    \"D_lc-alpha-0-all\",\n",
    "    \"D_lc-alpha-1-all\",\n",
    "    \"D_lc-alpha-2-all\",\n",
    "    \"D_lc-alpha-3-all\",\n",
    "    \"mc_CRY-chi-0-all\",\n",
    "    \"mc_CRY-chi-1-all\",\n",
    "    \"mc_CRY-chi-2-all\",\n",
    "    \"mc_CRY-chi-3-all\",\n",
    "    \"mc_CRY-Z-0-all\",\n",
    "    \"mc_CRY-Z-1-all\",\n",
    "    \"mc_CRY-Z-2-all\",\n",
    "    \"mc_CRY-Z-3-all\",\n",
    "    \"mc_CRY-I-0-all\",\n",
    "    \"mc_CRY-I-1-all\",\n",
    "    \"mc_CRY-I-2-all\",\n",
    "    \"mc_CRY-I-3-all\",\n",
    "    \"mc_CRY-T-0-all\",\n",
    "    \"mc_CRY-T-1-all\",\n",
    "    \"mc_CRY-T-2-all\",\n",
    "    \"mc_CRY-T-3-all\",\n",
    "    \"mc_CRY-S-0-all\",\n",
    "    \"mc_CRY-S-1-all\",\n",
    "    \"mc_CRY-S-2-all\",\n",
    "    \"mc_CRY-S-3-all\",\n",
    "    \"D_mc_CRY-chi-0-all\",\n",
    "    \"D_mc_CRY-chi-1-all\",\n",
    "    \"D_mc_CRY-chi-2-all\",\n",
    "    \"D_mc_CRY-chi-3-all\",\n",
    "    \"D_mc_CRY-Z-0-all\",\n",
    "    \"D_mc_CRY-Z-1-all\",\n",
    "    \"D_mc_CRY-Z-2-all\",\n",
    "    \"D_mc_CRY-Z-3-all\",\n",
    "    \"D_mc_CRY-I-0-all\",\n",
    "    \"D_mc_CRY-I-1-all\",\n",
    "    \"D_mc_CRY-I-2-all\",\n",
    "    \"D_mc_CRY-I-3-all\",\n",
    "    \"D_mc_CRY-T-0-all\",\n",
    "    \"D_mc_CRY-T-1-all\",\n",
    "    \"D_mc_CRY-T-2-all\",\n",
    "    \"D_mc_CRY-T-3-all\",\n",
    "    \"D_mc_CRY-S-0-all\",\n",
    "    \"D_mc_CRY-S-1-all\",\n",
    "    \"D_mc_CRY-S-2-all\",\n",
    "    \"D_mc_CRY-S-3-all\",\n",
    "    \"func-chi-0-all\",\n",
    "    \"func-chi-1-all\",\n",
    "    \"func-chi-2-all\",\n",
    "    \"func-chi-3-all\",\n",
    "    \"func-Z-0-all\",\n",
    "    \"func-Z-1-all\",\n",
    "    \"func-Z-2-all\",\n",
    "    \"func-Z-3-all\",\n",
    "    \"func-I-0-all\",\n",
    "    \"func-I-1-all\",\n",
    "    \"func-I-2-all\",\n",
    "    \"func-I-3-all\",\n",
    "    \"func-T-0-all\",\n",
    "    \"func-T-1-all\",\n",
    "    \"func-T-2-all\",\n",
    "    \"func-T-3-all\",\n",
    "    \"func-S-0-all\",\n",
    "    \"func-S-1-all\",\n",
    "    \"func-S-2-all\",\n",
    "    \"func-S-3-all\",\n",
    "    \"func-alpha-0-all\",\n",
    "    \"func-alpha-1-all\",\n",
    "    \"func-alpha-2-all\",\n",
    "    \"func-alpha-3-all\",\n",
    "    \"D_func-chi-0-all\",\n",
    "    \"D_func-chi-1-all\",\n",
    "    \"D_func-chi-2-all\",\n",
    "    \"D_func-chi-3-all\",\n",
    "    \"D_func-Z-0-all\",\n",
    "    \"D_func-Z-1-all\",\n",
    "    \"D_func-Z-2-all\",\n",
    "    \"D_func-Z-3-all\",\n",
    "    \"D_func-I-0-all\",\n",
    "    \"D_func-I-1-all\",\n",
    "    \"D_func-I-2-all\",\n",
    "    \"D_func-I-3-all\",\n",
    "    \"D_func-T-0-all\",\n",
    "    \"D_func-T-1-all\",\n",
    "    \"D_func-T-2-all\",\n",
    "    \"D_func-T-3-all\",\n",
    "    \"D_func-S-0-all\",\n",
    "    \"D_func-S-1-all\",\n",
    "    \"D_func-S-2-all\",\n",
    "    \"D_func-S-3-all\",\n",
    "    \"D_func-alpha-0-all\",\n",
    "    \"D_func-alpha-1-all\",\n",
    "    \"D_func-alpha-2-all\",\n",
    "    \"D_func-alpha-3-all\",\n",
    "    \"primary_amide_mean\",\n",
    "    \"secondary_amide_mean\",\n",
    "    \"tertiary_amide_mean\",\n",
    "    \"ester_mean\",\n",
    "    \"carbonyl_mean\",\n",
    "    \"logP_mean\",\n",
    "    \"MR_mean\",\n",
    "    \"dbratio_mean\",\n",
    "    \"aromatic_rings_mean\",\n",
    "    \"dbonds_mean\",\n",
    "    \"abonds_mean\"]"
   ]
  },
  {
   "cell_type": "code",
   "execution_count": 29,
   "metadata": {},
   "outputs": [
    {
     "data": {
      "text/plain": [
       "(array([ 7., 45., 33., 14.,  5.,  7.,  5.,  5.,  4.,  1.]),\n",
       " array([ 19. ,  70.6, 122.2, 173.8, 225.4, 277. , 328.6, 380.2, 431.8,\n",
       "        483.4, 535. ]),\n",
       " <a list of 10 Patch objects>)"
      ]
     },
     "execution_count": 29,
     "metadata": {},
     "output_type": "execute_result"
    },
    {
     "data": {
      "image/png": "[encoded data removed]",
      "text/plain": [
       "<Figure size 432x288 with 1 Axes>"
      ]
     },
     "metadata": {
      "needs_background": "light"
     },
     "output_type": "display_data"
    }
   ],
   "source": [
    "plt.hist(booster_r.feature_importances_ + booster_g.feature_importances_ + booster_b.feature_importances_ )"
   ]
  },
  {
   "cell_type": "code",
   "execution_count": 37,
   "metadata": {},
   "outputs": [],
   "source": [
    "summed_importance = booster_r.feature_importances_ + booster_g.feature_importances_ + booster_b.feature_importances_ "
   ]
  },
  {
   "cell_type": "code",
   "execution_count": 40,
   "metadata": {},
   "outputs": [
    {
     "data": {
      "text/plain": [
       "array(['f-lig-chi-0', 'f-lig-chi-1', 'f-lig-chi-2', 'f-lig-chi-3',\n",
       "       'f-lig-Z-0', 'f-lig-Z-1', 'f-lig-Z-2', 'f-lig-Z-3', 'f-lig-I-1',\n",
       "       'f-lig-I-2', 'f-lig-I-3', 'f-lig-T-0', 'f-lig-T-1', 'f-lig-T-2',\n",
       "       'f-lig-T-3', 'f-lig-S-0', 'f-lig-S-1', 'f-lig-S-2', 'f-lig-S-3',\n",
       "       'lc-chi-0-all', 'lc-chi-1-all', 'lc-chi-2-all', 'lc-chi-3-all',\n",
       "       'lc-Z-0-all', 'lc-Z-1-all', 'lc-Z-2-all', 'lc-Z-3-all',\n",
       "       'lc-I-0-all', 'lc-I-1-all', 'lc-I-2-all', 'lc-I-3-all',\n",
       "       'lc-T-0-all', 'lc-T-2-all', 'lc-S-1-all', 'lc-S-2-all',\n",
       "       'lc-alpha-2-all', 'lc-alpha-3-all', 'D_lc-chi-0-all',\n",
       "       'D_lc-chi-1-all', 'D_lc-Z-1-all', 'D_lc-I-1-all', 'D_lc-I-2-all',\n",
       "       'D_lc-I-3-all', 'D_lc-T-0-all', 'D_lc-T-1-all', 'D_lc-T-2-all',\n",
       "       'D_lc-T-3-all', 'D_lc-S-0-all', 'D_lc-S-1-all', 'D_lc-S-2-all',\n",
       "       'D_lc-S-3-all', 'D_lc-alpha-0-all', 'D_lc-alpha-1-all',\n",
       "       'D_lc-alpha-2-all', 'D_lc-alpha-3-all', 'mc_CRY-chi-0-all',\n",
       "       'mc_CRY-chi-1-all', 'mc_CRY-chi-2-all', 'mc_CRY-Z-0-all',\n",
       "       'mc_CRY-Z-1-all', 'mc_CRY-Z-2-all', 'mc_CRY-Z-3-all',\n",
       "       'mc_CRY-I-3-all', 'mc_CRY-T-1-all', 'mc_CRY-T-2-all',\n",
       "       'mc_CRY-T-3-all', 'mc_CRY-S-3-all', 'D_mc_CRY-chi-0-all',\n",
       "       'D_mc_CRY-chi-1-all', 'D_mc_CRY-chi-2-all', 'D_mc_CRY-chi-3-all',\n",
       "       'D_mc_CRY-Z-1-all', 'D_mc_CRY-Z-2-all', 'D_mc_CRY-Z-3-all',\n",
       "       'D_mc_CRY-I-1-all', 'D_mc_CRY-I-3-all', 'D_mc_CRY-T-0-all',\n",
       "       'D_mc_CRY-T-1-all', 'D_mc_CRY-T-2-all', 'D_mc_CRY-S-0-all',\n",
       "       'D_mc_CRY-S-1-all', 'D_mc_CRY-S-2-all', 'D_mc_CRY-S-3-all',\n",
       "       'func-chi-0-all', 'func-chi-1-all', 'func-chi-2-all',\n",
       "       'func-chi-3-all', 'func-Z-0-all', 'func-Z-1-all', 'func-Z-2-all',\n",
       "       'func-Z-3-all', 'func-I-0-all', 'func-I-1-all', 'func-T-1-all',\n",
       "       'func-T-2-all', 'func-S-0-all', 'func-S-1-all'], dtype='<U20')"
      ]
     },
     "execution_count": 40,
     "metadata": {},
     "output_type": "execute_result"
    }
   ],
   "source": [
    "np.array(CHEMICAL_FEATURES)[np.where(~(summed_importance < 100))[0]]"
   ]
  },
  {
   "cell_type": "code",
   "execution_count": null,
   "metadata": {},
   "outputs": [],
   "source": []
  }
 ],
 "metadata": {
  "kernelspec": {
   "display_name": "Python 3",
   "language": "python",
   "name": "python3"
  },
  "language_info": {
   "codemirror_mode": {
    "name": "ipython",
    "version": 3
   },
   "file_extension": ".py",
   "mimetype": "text/x-python",
   "name": "python",
   "nbconvert_exporter": "python",
   "pygments_lexer": "ipython3",
   "version": "3.7.6"
  }
 },
 "nbformat": 4,
 "nbformat_minor": 4
}
