{
 "cells": [
  {
   "cell_type": "markdown",
   "metadata": {},
   "source": [
    "# Getting some baseline"
   ]
  },
  {
   "cell_type": "markdown",
   "metadata": {},
   "source": [
    "So, I've been tuning now this model for too long. Probably it is good to just get some simple baselines and compare it to them to see how good we are in the end. "
   ]
  },
  {
   "cell_type": "code",
   "execution_count": 1,
   "metadata": {},
   "outputs": [
    {
     "name": "stderr",
     "output_type": "stream",
     "text": [
      "Using TensorFlow backend.\n"
     ]
    }
   ],
   "source": [
    "%load_ext autoreload\n",
    "%autoreload 2\n",
    "import joblib\n",
    "import pandas as pd\n",
    "import sys\n",
    "sys.path.append('../')\n",
    "from sklearn.preprocessing import StandardScaler\n",
    "from colorml.utils.utils import mapping_to_target_range, get_timestamp_string, plot_predictions, huber_fn, mapping_to_target_range_sig, read_pickle, augment_data\n",
    "from colorml.utils.descriptornames import *\n",
    "\n",
    "CHEMICAL_FEATURES = [\n",
    "    \"mc_CRY-chi-0-all\",\n",
    "    \"mc_CRY-chi-1-all\",\n",
    "    \"mc_CRY-chi-2-all\",\n",
    "    \"mc_CRY-chi-3-all\",\n",
    "    \"mc_CRY-Z-0-all\",\n",
    "    \"mc_CRY-Z-1-all\",\n",
    "    \"mc_CRY-Z-2-all\",\n",
    "    \"mc_CRY-Z-3-all\",\n",
    "    \"mc_CRY-I-1-all\",\n",
    "    \"mc_CRY-I-2-all\",\n",
    "    \"mc_CRY-I-3-all\",\n",
    "    \"mc_CRY-T-0-all\",\n",
    "    \"mc_CRY-T-1-all\",\n",
    "    \"mc_CRY-T-2-all\",\n",
    "    \"mc_CRY-T-3-all\",\n",
    "    \"mc_CRY-S-0-all\",\n",
    "    \"mc_CRY-S-1-all\",\n",
    "    \"mc_CRY-S-2-all\",\n",
    "    \"mc_CRY-S-3-all\",\n",
    "    \"D_mc_CRY-chi-1-all\",\n",
    "    \"D_mc_CRY-chi-2-all\",\n",
    "    \"D_mc_CRY-chi-3-all\",\n",
    "    \"D_mc_CRY-Z-1-all\",\n",
    "    \"D_mc_CRY-Z-2-all\",\n",
    "    \"D_mc_CRY-Z-3-all\",\n",
    "    \"D_mc_CRY-T-1-all\",\n",
    "    \"D_mc_CRY-T-2-all\",\n",
    "    \"D_mc_CRY-T-3-all\",\n",
    "    \"D_mc_CRY-S-1-all\",\n",
    "    \"D_mc_CRY-S-2-all\",\n",
    "    \"D_mc_CRY-S-3-all\",\n",
    "    \"func-chi-0-all\",\n",
    "    \"func-chi-1-all\",\n",
    "    \"func-chi-2-all\",\n",
    "    \"func-chi-3-all\",\n",
    "    \"func-Z-0-all\",\n",
    "    \"func-Z-1-all\",\n",
    "    \"func-Z-2-all\",\n",
    "    \"func-Z-3-all\",\n",
    "    \"func-I-1-all\",\n",
    "    \"func-I-2-all\",\n",
    "    \"func-I-3-all\",\n",
    "    \"func-T-0-all\",\n",
    "    \"func-T-1-all\",\n",
    "    \"func-T-2-all\",\n",
    "    \"func-T-3-all\",\n",
    "    \"func-S-0-all\",\n",
    "    \"func-S-1-all\",\n",
    "    \"func-S-2-all\",\n",
    "    \"func-S-3-all\",\n",
    "    \"func-alpha-0-all\",\n",
    "    \"func-alpha-1-all\",\n",
    "    \"func-alpha-2-all\",\n",
    "    \"func-alpha-3-all\",\n",
    "    \"D_func-chi-1-all\",\n",
    "    \"D_func-chi-2-all\",\n",
    "    \"D_func-chi-3-all\",\n",
    "    \"D_func-Z-1-all\",\n",
    "    \"D_func-Z-2-all\",\n",
    "    \"D_func-Z-3-all\",\n",
    "    \"D_func-T-1-all\",\n",
    "    \"D_func-T-2-all\",\n",
    "    \"D_func-T-3-all\",\n",
    "    \"D_func-S-2-all\",\n",
    "    \"D_func-S-3-all\",\n",
    "    \"D_func-alpha-1-all\",\n",
    "    \"D_func-alpha-2-all\",\n",
    "    \"D_func-alpha-3-all\",\n",
    "    \"f-lig-chi-0\",\n",
    "    \"f-lig-chi-1\",\n",
    "    \"f-lig-chi-2\",\n",
    "    \"f-lig-chi-3\",\n",
    "    \"f-lig-Z-0\",\n",
    "    \"f-lig-Z-1\",\n",
    "    \"f-lig-Z-2\",\n",
    "    \"f-lig-Z-3\",\n",
    "    \"f-lig-I-0\",\n",
    "    \"f-lig-I-1\",\n",
    "    \"f-lig-I-2\",\n",
    "    \"f-lig-I-3\",\n",
    "    \"f-lig-T-0\",\n",
    "    \"f-lig-T-1\",\n",
    "    \"f-lig-T-2\",\n",
    "    \"f-lig-T-3\",\n",
    "    \"f-lig-S-0\",\n",
    "    \"f-lig-S-1\",\n",
    "    \"f-lig-S-2\",\n",
    "    \"f-lig-S-3\",\n",
    "    \"lc-chi-0-all\",\n",
    "    \"lc-chi-1-all\",\n",
    "    \"lc-chi-2-all\",\n",
    "    \"lc-chi-3-all\",\n",
    "    \"lc-Z-0-all\",\n",
    "    \"lc-Z-1-all\",\n",
    "    \"lc-Z-2-all\",\n",
    "    \"lc-Z-3-all\",\n",
    "    \"lc-I-2-all\",\n",
    "    \"lc-I-3-all\",\n",
    "    \"lc-T-0-all\",\n",
    "    \"lc-T-1-all\",\n",
    "    \"lc-T-2-all\",\n",
    "    \"lc-T-3-all\",\n",
    "    \"lc-S-3-all\",\n",
    "    \"lc-alpha-0-all\",\n",
    "    \"lc-alpha-1-all\",\n",
    "    \"lc-alpha-2-all\",\n",
    "    \"lc-alpha-3-all\",\n",
    "    \"D_lc-chi-2-all\",\n",
    "    \"D_lc-chi-3-all\",\n",
    "    \"D_lc-Z-1-all\",\n",
    "    \"D_lc-Z-2-all\",\n",
    "    \"D_lc-Z-3-all\",\n",
    "    \"D_lc-T-1-all\",\n",
    "    \"D_lc-T-2-all\",\n",
    "    \"D_lc-T-3-all\",\n",
    "    \"D_lc-alpha-1-all\",\n",
    "    \"D_lc-alpha-2-all\",\n",
    "    \"D_lc-alpha-3-all\",\n",
    "    \"tertiary_amide_sum\",\n",
    "    \"ester_sum\",\n",
    "    \"carbonyl_sum\",\n",
    "    \"logP_sum\",\n",
    "    \"MR_sum\",\n",
    "    \"aromatic_rings_sum\",\n",
    "    \"dbonds_sum\",\n",
    "    \"abonds_sum\",\n",
    "    \"tertiary_amide_mean\",\n",
    "    \"ester_mean\",\n",
    "    \"carbonyl_mean\",\n",
    "    \"logP_mean\",\n",
    "    \"MR_mean\",\n",
    "    \"aromatic_rings_mean\",\n",
    "    \"dbonds_mean\",\n",
    "    \"abonds_mean\",\n",
    "]"
   ]
  },
  {
   "cell_type": "code",
   "execution_count": 2,
   "metadata": {},
   "outputs": [],
   "source": [
    "from sklearn.dummy import DummyRegressor"
   ]
  },
  {
   "cell_type": "code",
   "execution_count": 3,
   "metadata": {},
   "outputs": [],
   "source": [
    "df_train = pd.read_csv('../data/development_set.csv')\n",
    "df_test = pd.read_csv('../data/holdout_set.csv')"
   ]
  },
  {
   "cell_type": "code",
   "execution_count": 4,
   "metadata": {},
   "outputs": [],
   "source": [
    "X_train = df_train[CHEMICAL_FEATURES]\n",
    "X_test = df_test[CHEMICAL_FEATURES]"
   ]
  },
  {
   "cell_type": "code",
   "execution_count": 5,
   "metadata": {},
   "outputs": [],
   "source": [
    "y_train = df_train[['r', 'g', 'b']].values / 255\n",
    "y_test = df_test[['r', 'g', 'b']].values / 255"
   ]
  },
  {
   "cell_type": "code",
   "execution_count": 6,
   "metadata": {},
   "outputs": [],
   "source": [
    "name_train = df_train['color_cleaned_x']\n",
    "name_test = df_test['color_cleaned_x']"
   ]
  },
  {
   "cell_type": "code",
   "execution_count": 7,
   "metadata": {},
   "outputs": [],
   "source": [
    "dummy_mean = DummyRegressor(strategy='mean')\n",
    "dummy_median = DummyRegressor(strategy='median')"
   ]
  },
  {
   "cell_type": "code",
   "execution_count": 8,
   "metadata": {},
   "outputs": [
    {
     "data": {
      "text/plain": [
       "DummyRegressor(strategy='median')"
      ]
     },
     "execution_count": 8,
     "metadata": {},
     "output_type": "execute_result"
    }
   ],
   "source": [
    "dummy_mean.fit(X_train, y_train)\n",
    "dummy_median.fit(X_train, y_train)"
   ]
  },
  {
   "cell_type": "code",
   "execution_count": 9,
   "metadata": {},
   "outputs": [
    {
     "data": {
      "text/plain": [
       "['../results/dummy_mean.joblib']"
      ]
     },
     "execution_count": 9,
     "metadata": {},
     "output_type": "execute_result"
    }
   ],
   "source": [
    "joblib.dump(dummy_mean, '../results/dummy_mean.joblib')"
   ]
  },
  {
   "cell_type": "code",
   "execution_count": 10,
   "metadata": {},
   "outputs": [
    {
     "data": {
      "text/plain": [
       "['../results/dummy_median.joblib']"
      ]
     },
     "execution_count": 10,
     "metadata": {},
     "output_type": "execute_result"
    }
   ],
   "source": [
    "joblib.dump(dummy_median, '../results/dummy_median.joblib')"
   ]
  },
  {
   "cell_type": "code",
   "execution_count": 11,
   "metadata": {},
   "outputs": [],
   "source": [
    "mean_prediction_test = dummy_mean.predict(X_test)\n",
    "median_predicton_test = dummy_median.predict(X_test)"
   ]
  },
  {
   "cell_type": "code",
   "execution_count": 12,
   "metadata": {},
   "outputs": [
    {
     "name": "stderr",
     "output_type": "stream",
     "text": [
      "/Users/kevinmaikjablonka/Dropbox (LSMO)/proj75_mofcolor/ml/colorml/utils/utils.py:191: UserWarning: This figure includes Axes that are not compatible with tight_layout, so results might be incorrect.\n",
      "  fig.tight_layout()\n"
     ]
    },
    {
     "data": {
      "image/png": "[encoded data removed]",
      "text/plain": [
       "<Figure size 576x1584 with 1 Axes>"
      ]
     },
     "metadata": {
      "needs_background": "light"
     },
     "output_type": "display_data"
    }
   ],
   "source": [
    "plot_predictions(mean_prediction_test * 255, \n",
    "                 y_test * 255,  name_test.values, \n",
    "                 sample=25, outname='mean_baseline.pdf')"
   ]
  },
  {
   "cell_type": "code",
   "execution_count": 13,
   "metadata": {},
   "outputs": [
    {
     "name": "stderr",
     "output_type": "stream",
     "text": [
      "/Users/kevinmaikjablonka/Dropbox (LSMO)/proj75_mofcolor/ml/colorml/utils/utils.py:191: UserWarning: This figure includes Axes that are not compatible with tight_layout, so results might be incorrect.\n",
      "  fig.tight_layout()\n"
     ]
    },
    {
     "data": {
      "image/png": "[encoded data removed]",
      "text/plain": [
       "<Figure size 576x1584 with 1 Axes>"
      ]
     },
     "metadata": {
      "needs_background": "light"
     },
     "output_type": "display_data"
    }
   ],
   "source": [
    "plot_predictions(median_predicton_test * 255, \n",
    "                 y_test * 255,  name_test.values, \n",
    "                 sample=25, outname='median_baseline.pdf')"
   ]
  },
  {
   "cell_type": "code",
   "execution_count": 6,
   "metadata": {},
   "outputs": [],
   "source": [
    "from sklearn.neighbors import KNeighborsRegressor"
   ]
  },
  {
   "cell_type": "code",
   "execution_count": 7,
   "metadata": {},
   "outputs": [],
   "source": [
    "knn1 = KNeighborsRegressor(1)\n",
    "knn4 = KNeighborsRegressor(4)"
   ]
  },
  {
   "cell_type": "code",
   "execution_count": 8,
   "metadata": {},
   "outputs": [
    {
     "data": {
      "text/plain": [
       "KNeighborsRegressor(n_neighbors=4)"
      ]
     },
     "execution_count": 8,
     "metadata": {},
     "output_type": "execute_result"
    }
   ],
   "source": [
    "knn1.fit(X_train, y_train)\n",
    "knn4.fit(X_train, y_train)"
   ]
  },
  {
   "cell_type": "code",
   "execution_count": 9,
   "metadata": {},
   "outputs": [],
   "source": [
    "knn1_prediction = knn1.predict(X_test)"
   ]
  },
  {
   "cell_type": "code",
   "execution_count": 10,
   "metadata": {},
   "outputs": [],
   "source": [
    "knn4_prediction = knn4.predict(X_test)"
   ]
  },
  {
   "cell_type": "code",
   "execution_count": 11,
   "metadata": {},
   "outputs": [
    {
     "ename": "NameError",
     "evalue": "name 'name_test' is not defined",
     "output_type": "error",
     "traceback": [
      "\u001b[0;31m---------------------------------------------------------------------------\u001b[0m",
      "\u001b[0;31mNameError\u001b[0m                                 Traceback (most recent call last)",
      "\u001b[0;32m<ipython-input-11-b8c64f04c369>\u001b[0m in \u001b[0;36m<module>\u001b[0;34m\u001b[0m\n\u001b[1;32m      1\u001b[0m plot_predictions(knn1_prediction * 255, \n\u001b[0;32m----> 2\u001b[0;31m                  \u001b[0my_test\u001b[0m \u001b[0;34m*\u001b[0m \u001b[0;36m255\u001b[0m\u001b[0;34m,\u001b[0m  \u001b[0mname_test\u001b[0m\u001b[0;34m.\u001b[0m\u001b[0mvalues\u001b[0m\u001b[0;34m,\u001b[0m\u001b[0;34m\u001b[0m\u001b[0;34m\u001b[0m\u001b[0m\n\u001b[0m\u001b[1;32m      3\u001b[0m                  sample=25, outname='knn1_baseline.pdf')\n",
      "\u001b[0;31mNameError\u001b[0m: name 'name_test' is not defined"
     ]
    }
   ],
   "source": [
    "plot_predictions(knn1_prediction * 255, \n",
    "                 y_test * 255,  name_test.values, \n",
    "                 sample=25, outname='knn1_baseline.pdf')"
   ]
  },
  {
   "cell_type": "code",
   "execution_count": 12,
   "metadata": {},
   "outputs": [],
   "source": [
    "from sklearn.metrics import (mean_absolute_error, mean_squared_error, median_absolute_error, r2_score)\n",
    "from colorml.utils.utils import pairwise_delta_es\n",
    "import numpy as np\n",
    "\n",
    "def get_metrics_dict(y_true: np.array, prediction) -> dict:  \n",
    "\n",
    "    r2 = r2_score(y_true, prediction)\n",
    "    mae = mean_absolute_error(y_true, prediction)\n",
    "    mse = mean_squared_error(y_true, prediction)\n",
    "    mdae = median_absolute_error(y_true, prediction)\n",
    "    differences = pairwise_delta_es(y_true, prediction)\n",
    "\n",
    "    return {\n",
    "        'r2': r2,\n",
    "        'mae': mae,\n",
    "        'mse': mse,\n",
    "        'mdae': mdae,\n",
    "        'median_delta_e': np.median(differences),\n",
    "        'mean_delta_e': np.mean(differences)\n",
    "    }"
   ]
  },
  {
   "cell_type": "code",
   "execution_count": 13,
   "metadata": {},
   "outputs": [
    {
     "ename": "NameError",
     "evalue": "name 'yscaler' is not defined",
     "output_type": "error",
     "traceback": [
      "\u001b[0;31m---------------------------------------------------------------------------\u001b[0m",
      "\u001b[0;31mNameError\u001b[0m                                 Traceback (most recent call last)",
      "\u001b[0;32m<ipython-input-13-f7b198363801>\u001b[0m in \u001b[0;36m<module>\u001b[0;34m\u001b[0m\n\u001b[0;32m----> 1\u001b[0;31m plot_predictions(yscaler.inverse_transform(knn4_prediction), \n\u001b[0m\u001b[1;32m      2\u001b[0m                  \u001b[0myscaler\u001b[0m\u001b[0;34m.\u001b[0m\u001b[0minverse_transform\u001b[0m\u001b[0;34m(\u001b[0m\u001b[0my_test\u001b[0m\u001b[0;34m)\u001b[0m\u001b[0;34m,\u001b[0m  \u001b[0mname_test\u001b[0m\u001b[0;34m.\u001b[0m\u001b[0mvalues\u001b[0m\u001b[0;34m,\u001b[0m\u001b[0;34m\u001b[0m\u001b[0;34m\u001b[0m\u001b[0m\n\u001b[1;32m      3\u001b[0m                  sample=25, outname='knn4_baseline.pdf')\n",
      "\u001b[0;31mNameError\u001b[0m: name 'yscaler' is not defined"
     ]
    }
   ],
   "source": [
    "plot_predictions(yscaler.inverse_transform(knn4_prediction), \n",
    "                 yscaler.inverse_transform(y_test),  name_test.values, \n",
    "                 sample=25, outname='knn4_baseline.pdf')"
   ]
  },
  {
   "cell_type": "code",
   "execution_count": 14,
   "metadata": {},
   "outputs": [
    {
     "data": {
      "text/plain": [
       "{'r2': -0.03050017019174389,\n",
       " 'mae': 0.18582692148589408,\n",
       " 'mse': 0.13617502356282965,\n",
       " 'mdae': 0.0,\n",
       " 'median_delta_e': 0.0,\n",
       " 'mean_delta_e': 20.79479051328238}"
      ]
     },
     "execution_count": 14,
     "metadata": {},
     "output_type": "execute_result"
    }
   ],
   "source": [
    "get_metrics_dict(y_test, knn1_prediction)"
   ]
  },
  {
   "cell_type": "code",
   "execution_count": 15,
   "metadata": {},
   "outputs": [
    {
     "data": {
      "text/plain": [
       "{'r2': 0.1803463590774567,\n",
       " 'mae': 0.22110738810292055,\n",
       " 'mse': 0.10828890949115634,\n",
       " 'mdae': 0.14444444444444446,\n",
       " 'median_delta_e': 22.560004216508975,\n",
       " 'mean_delta_e': 24.85130176195722}"
      ]
     },
     "execution_count": 15,
     "metadata": {},
     "output_type": "execute_result"
    }
   ],
   "source": [
    "get_metrics_dict(y_test, knn4_prediction)"
   ]
  },
  {
   "cell_type": "code",
   "execution_count": null,
   "metadata": {},
   "outputs": [],
   "source": []
  }
 ],
 "metadata": {
  "kernelspec": {
   "display_name": "Python [conda env:colorml2] *",
   "language": "python",
   "name": "conda-env-colorml2-py"
  },
  "language_info": {
   "codemirror_mode": {
    "name": "ipython",
    "version": 3
   },
   "file_extension": ".py",
   "mimetype": "text/x-python",
   "name": "python",
   "nbconvert_exporter": "python",
   "pygments_lexer": "ipython3",
   "version": "3.7.6"
  }
 },
 "nbformat": 4,
 "nbformat_minor": 4
}
