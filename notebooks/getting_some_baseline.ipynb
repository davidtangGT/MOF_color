{
 "cells": [
  {
   "cell_type": "markdown",
   "metadata": {},
   "source": [
    "# Getting some baseline"
   ]
  },
  {
   "cell_type": "markdown",
   "metadata": {},
   "source": [
    "So, I've been tuning now this model for too long. Probably it is good to just get some simple baselines and compare it to them to see how good we are in the end. "
   ]
  },
  {
   "cell_type": "code",
   "execution_count": 5,
   "metadata": {},
   "outputs": [
    {
     "name": "stdout",
     "output_type": "stream",
     "text": [
      "The autoreload extension is already loaded. To reload it, use:\n",
      "  %reload_ext autoreload\n"
     ]
    }
   ],
   "source": [
    "%load_ext autoreload\n",
    "%autoreload 2\n",
    "import joblib\n",
    "import pandas as pd\n",
    "import sys\n",
    "sys.path.append('../')\n",
    "from sklearn.preprocessing import StandardScaler\n",
    "from colorml.utils.utils import mapping_to_target_range, get_timestamp_string, plot_predictions, huber_fn, mapping_to_target_range_sig, read_pickle, augment_data\n",
    "from colorml.utils.descriptornames import *\n",
    "\n",
    "CHEMICAL_FEATURES = [\n",
    "    'mc_CRY-chi-0-all',\n",
    "    'mc_CRY-chi-1-all',\n",
    "    'mc_CRY-chi-2-all',\n",
    "    'mc_CRY-chi-3-all',\n",
    "    'mc_CRY-Z-0-all',\n",
    "    'mc_CRY-Z-1-all',\n",
    "    'mc_CRY-Z-2-all',\n",
    "    'mc_CRY-Z-3-all',\n",
    "    'mc_CRY-I-1-all',\n",
    "    'mc_CRY-I-2-all',\n",
    "    'mc_CRY-I-3-all',\n",
    "    'mc_CRY-T-0-all',\n",
    "    'mc_CRY-T-1-all',\n",
    "    'mc_CRY-T-2-all',\n",
    "    'mc_CRY-T-3-all',\n",
    "    'mc_CRY-S-0-all',\n",
    "    'mc_CRY-S-1-all',\n",
    "    'mc_CRY-S-2-all',\n",
    "    'mc_CRY-S-3-all',\n",
    "    'D_mc_CRY-chi-1-all',\n",
    "    'D_mc_CRY-chi-2-all',\n",
    "    'D_mc_CRY-chi-3-all',\n",
    "    'D_mc_CRY-Z-1-all',\n",
    "    'D_mc_CRY-Z-2-all',\n",
    "    'D_mc_CRY-Z-3-all',\n",
    "    'D_mc_CRY-T-1-all',\n",
    "    'D_mc_CRY-T-2-all',\n",
    "    'D_mc_CRY-T-3-all',\n",
    "    'D_mc_CRY-S-1-all',\n",
    "    'D_mc_CRY-S-2-all',\n",
    "    'D_mc_CRY-S-3-all',\n",
    "    'func-chi-0-all',\n",
    "    'func-chi-1-all',\n",
    "    'func-chi-2-all',\n",
    "    'func-chi-3-all',\n",
    "    'func-Z-0-all',\n",
    "    'func-Z-1-all',\n",
    "    'func-Z-2-all',\n",
    "    'func-Z-3-all',\n",
    "    'func-I-1-all',\n",
    "    'func-I-2-all',\n",
    "    'func-I-3-all',\n",
    "    'func-T-0-all',\n",
    "    'func-T-1-all',\n",
    "    'func-T-2-all',\n",
    "    'func-T-3-all',\n",
    "    'func-S-0-all',\n",
    "    'func-S-1-all',\n",
    "    'func-S-2-all',\n",
    "    'func-S-3-all',\n",
    "    'func-alpha-0-all',\n",
    "    'func-alpha-1-all',\n",
    "    'func-alpha-2-all',\n",
    "    'func-alpha-3-all',\n",
    "    'D_func-chi-1-all',\n",
    "    'D_func-chi-2-all',\n",
    "    'D_func-chi-3-all',\n",
    "    'D_func-Z-1-all',\n",
    "    'D_func-Z-2-all',\n",
    "    'D_func-Z-3-all',\n",
    "    'D_func-T-1-all',\n",
    "    'D_func-T-2-all',\n",
    "    'D_func-T-3-all',\n",
    "    'D_func-S-2-all',\n",
    "    'D_func-S-3-all',\n",
    "    'D_func-alpha-1-all',\n",
    "    'D_func-alpha-2-all',\n",
    "    'D_func-alpha-3-all',\n",
    "    'f-lig-chi-0',\n",
    "    'f-lig-chi-1',\n",
    "    'f-lig-chi-2',\n",
    "    'f-lig-chi-3',\n",
    "    'f-lig-Z-0',\n",
    "    'f-lig-Z-1',\n",
    "    'f-lig-Z-2',\n",
    "    'f-lig-Z-3',\n",
    "    'f-lig-I-0',\n",
    "    'f-lig-I-1',\n",
    "    'f-lig-I-2',\n",
    "    'f-lig-I-3',\n",
    "    'f-lig-T-0',\n",
    "    'f-lig-T-1',\n",
    "    'f-lig-T-2',\n",
    "    'f-lig-T-3',\n",
    "    'f-lig-S-0',\n",
    "    'f-lig-S-1',\n",
    "    'f-lig-S-2',\n",
    "    'f-lig-S-3',\n",
    "    'lc-chi-0-all',\n",
    "    'lc-chi-1-all',\n",
    "    'lc-chi-2-all',\n",
    "    'lc-chi-3-all',\n",
    "    'lc-Z-0-all',\n",
    "    'lc-Z-1-all',\n",
    "    'lc-Z-2-all',\n",
    "    'lc-Z-3-all',\n",
    "    'lc-I-2-all',\n",
    "    'lc-I-3-all',\n",
    "    'lc-T-0-all',\n",
    "    'lc-T-1-all',\n",
    "    'lc-T-2-all',\n",
    "    'lc-T-3-all',\n",
    "    'lc-S-3-all',\n",
    "    'lc-alpha-0-all',\n",
    "    'lc-alpha-1-all',\n",
    "    'lc-alpha-2-all',\n",
    "    'lc-alpha-3-all',\n",
    "    'D_lc-chi-2-all',\n",
    "    'D_lc-chi-3-all',\n",
    "    'D_lc-Z-1-all',\n",
    "    'D_lc-Z-2-all',\n",
    "    'D_lc-Z-3-all',\n",
    "    'D_lc-T-1-all',\n",
    "    'D_lc-T-2-all',\n",
    "    'D_lc-T-3-all',\n",
    "    'D_lc-alpha-1-all',\n",
    "    'D_lc-alpha-2-all',\n",
    "    'D_lc-alpha-3-all',\n",
    "    'tertiary_amide_sum',\n",
    "    'ester_sum',\n",
    "    'carbonyl_sum',\n",
    "    'logP_sum',\n",
    "    'MR_sum',\n",
    "    'aromatic_rings_sum',\n",
    "    'dbonds_sum',\n",
    "    'abonds_sum',\n",
    "    'tertiary_amide_mean',\n",
    "    'ester_mean',\n",
    "    'carbonyl_mean',\n",
    "    'logP_mean',\n",
    "    'MR_mean',\n",
    "    'aromatic_rings_mean',\n",
    "    'dbonds_mean',\n",
    "    'abonds_mean',\n",
    "    'sum-func-chi-0-all',\n",
    "    'sum-func-chi-1-all',\n",
    "    'sum-func-chi-2-all',\n",
    "    'sum-func-chi-3-all',\n",
    "    'sum-func-Z-0-all',\n",
    "    'sum-func-Z-1-all',\n",
    "    'sum-func-Z-2-all',\n",
    "    'sum-func-Z-3-all',\n",
    "    'sum-func-I-0-all',\n",
    "    'sum-func-I-1-all',\n",
    "    'sum-func-I-2-all',\n",
    "    'sum-func-I-3-all',\n",
    "    'sum-func-T-0-all',\n",
    "    'sum-func-T-1-all',\n",
    "    'sum-func-T-2-all',\n",
    "    'sum-func-T-3-all',\n",
    "    'sum-func-S-0-all',\n",
    "    'sum-func-S-1-all',\n",
    "    'sum-func-S-2-all',\n",
    "    'sum-func-S-3-all',\n",
    "    'sum-func-alpha-0-all',\n",
    "    'sum-func-alpha-1-all',\n",
    "    'sum-func-alpha-2-all',\n",
    "    'sum-func-alpha-3-all',\n",
    "    'sum-D_func-chi-1-all',\n",
    "    'sum-D_func-chi-2-all',\n",
    "    'sum-D_func-chi-3-all',\n",
    "    'sum-D_func-Z-1-all',\n",
    "    'sum-D_func-Z-2-all',\n",
    "    'sum-D_func-Z-3-all',\n",
    "    'sum-D_func-T-1-all',\n",
    "    'sum-D_func-T-2-all',\n",
    "    'sum-D_func-T-3-all',\n",
    "    'sum-D_func-S-1-all',\n",
    "    'sum-D_func-S-2-all',\n",
    "    'sum-D_func-S-3-all',\n",
    "    'sum-D_func-alpha-1-all',\n",
    "    'sum-D_func-alpha-2-all',\n",
    "    'sum-D_func-alpha-3-all',\n",
    "    'sum-f-lig-chi-0',\n",
    "    'sum-f-lig-chi-1',\n",
    "    'sum-f-lig-chi-2',\n",
    "    'sum-f-lig-chi-3',\n",
    "    'sum-f-lig-Z-0',\n",
    "    'sum-f-lig-Z-1',\n",
    "    'sum-f-lig-Z-2',\n",
    "    'sum-f-lig-Z-3',\n",
    "    'sum-f-lig-I-0',\n",
    "    'sum-f-lig-I-1',\n",
    "    'sum-f-lig-I-2',\n",
    "    'sum-f-lig-I-3',\n",
    "    'sum-f-lig-T-0',\n",
    "    'sum-f-lig-T-1',\n",
    "    'sum-f-lig-T-2',\n",
    "    'sum-f-lig-T-3',\n",
    "    'sum-f-lig-S-0',\n",
    "    'sum-f-lig-S-1',\n",
    "    'sum-f-lig-S-2',\n",
    "    'sum-f-lig-S-3',\n",
    "    'sum-lc-chi-0-all',\n",
    "    'sum-lc-chi-1-all',\n",
    "    'sum-lc-chi-2-all',\n",
    "    'sum-lc-chi-3-all',\n",
    "    'sum-lc-Z-0-all',\n",
    "    'sum-lc-Z-1-all',\n",
    "    'sum-lc-Z-2-all',\n",
    "    'sum-lc-Z-3-all',\n",
    "    'sum-lc-I-0-all',\n",
    "    'sum-lc-I-1-all',\n",
    "    'sum-lc-I-2-all',\n",
    "    'sum-lc-I-3-all',\n",
    "    'sum-lc-T-0-all',\n",
    "    'sum-lc-T-1-all',\n",
    "    'sum-lc-T-2-all',\n",
    "    'sum-lc-T-3-all',\n",
    "    'sum-lc-S-0-all',\n",
    "    'sum-lc-S-1-all',\n",
    "    'sum-lc-S-2-all',\n",
    "    'sum-lc-S-3-all',\n",
    "    'sum-lc-alpha-0-all',\n",
    "    'sum-lc-alpha-1-all',\n",
    "    'sum-lc-alpha-2-all',\n",
    "    'sum-lc-alpha-3-all',\n",
    "    'sum-D_lc-chi-1-all',\n",
    "    'sum-D_lc-chi-2-all',\n",
    "    'sum-D_lc-chi-3-all',\n",
    "    'sum-D_lc-Z-1-all',\n",
    "    'sum-D_lc-Z-2-all',\n",
    "    'sum-D_lc-Z-3-all',\n",
    "    'sum-D_lc-T-1-all',\n",
    "    'sum-D_lc-T-2-all',\n",
    "    'sum-D_lc-T-3-all',\n",
    "    'sum-D_lc-S-1-all',\n",
    "    'sum-D_lc-S-2-all',\n",
    "    'sum-D_lc-S-3-all',\n",
    "    'sum-D_lc-alpha-1-all',\n",
    "    'sum-D_lc-alpha-2-all',\n",
    "    'sum-D_lc-alpha-3-all',\n",
    "    'sum-mc_CRY-chi-0-all',\n",
    "    'sum-mc_CRY-chi-1-all',\n",
    "    'sum-mc_CRY-chi-2-all',\n",
    "    'sum-mc_CRY-chi-3-all',\n",
    "    'sum-mc_CRY-Z-0-all',\n",
    "    'sum-mc_CRY-Z-1-all',\n",
    "    'sum-mc_CRY-Z-2-all',\n",
    "    'sum-mc_CRY-Z-3-all',\n",
    "    'sum-mc_CRY-I-0-all',\n",
    "    'sum-mc_CRY-I-1-all',\n",
    "    'sum-mc_CRY-I-2-all',\n",
    "    'sum-mc_CRY-I-3-all',\n",
    "    'sum-mc_CRY-T-0-all',\n",
    "    'sum-mc_CRY-T-1-all',\n",
    "    'sum-mc_CRY-T-2-all',\n",
    "    'sum-mc_CRY-T-3-all',\n",
    "    'sum-mc_CRY-S-0-all',\n",
    "    'sum-mc_CRY-S-1-all',\n",
    "    'sum-mc_CRY-S-2-all',\n",
    "    'sum-mc_CRY-S-3-all',\n",
    "    'sum-D_mc_CRY-chi-1-all',\n",
    "    'sum-D_mc_CRY-chi-2-all',\n",
    "    'sum-D_mc_CRY-chi-3-all',\n",
    "    'sum-D_mc_CRY-Z-1-all',\n",
    "    'sum-D_mc_CRY-Z-2-all',\n",
    "    'sum-D_mc_CRY-Z-3-all',\n",
    "    'sum-D_mc_CRY-T-1-all',\n",
    "    'sum-D_mc_CRY-T-2-all',\n",
    "    'sum-D_mc_CRY-T-3-all',\n",
    "    'sum-D_mc_CRY-S-1-all',\n",
    "    'sum-D_mc_CRY-S-2-all',\n",
    "    'sum-D_mc_CRY-S-3-all',\n",
    "]"
   ]
  },
  {
   "cell_type": "code",
   "execution_count": 6,
   "metadata": {},
   "outputs": [],
   "source": [
    "from sklearn.dummy import DummyRegressor"
   ]
  },
  {
   "cell_type": "code",
   "execution_count": 7,
   "metadata": {},
   "outputs": [],
   "source": [
    "df_train = pd.read_csv('../data/development_set.csv')\n",
    "df_test = pd.read_csv('../data/holdout_set.csv')"
   ]
  },
  {
   "cell_type": "code",
   "execution_count": 8,
   "metadata": {},
   "outputs": [],
   "source": [
    "X_train = df_train[CHEMICAL_FEATURES]\n",
    "X_test = df_test[CHEMICAL_FEATURES]"
   ]
  },
  {
   "cell_type": "code",
   "execution_count": 11,
   "metadata": {},
   "outputs": [],
   "source": [
    "y_train = df_train[['r', 'g', 'b']].values / 255\n",
    "y_test = df_test[['r', 'g', 'b']].values / 255"
   ]
  },
  {
   "cell_type": "code",
   "execution_count": 12,
   "metadata": {},
   "outputs": [],
   "source": [
    "name_train = df_train['color_cleaned']\n",
    "name_test = df_test['color_cleaned']"
   ]
  },
  {
   "cell_type": "code",
   "execution_count": 13,
   "metadata": {},
   "outputs": [],
   "source": [
    "dummy_mean = DummyRegressor(strategy='mean')\n",
    "dummy_median = DummyRegressor(strategy='median')"
   ]
  },
  {
   "cell_type": "code",
   "execution_count": 14,
   "metadata": {},
   "outputs": [
    {
     "data": {
      "text/plain": [
       "DummyRegressor(strategy='median')"
      ]
     },
     "execution_count": 14,
     "metadata": {},
     "output_type": "execute_result"
    }
   ],
   "source": [
    "dummy_mean.fit(X_train, y_train)\n",
    "dummy_median.fit(X_train, y_train)"
   ]
  },
  {
   "cell_type": "code",
   "execution_count": 15,
   "metadata": {},
   "outputs": [
    {
     "data": {
      "text/plain": [
       "['../results/dummy_mean.joblib']"
      ]
     },
     "execution_count": 15,
     "metadata": {},
     "output_type": "execute_result"
    }
   ],
   "source": [
    "joblib.dump(dummy_mean, '../results/dummy_mean.joblib')"
   ]
  },
  {
   "cell_type": "code",
   "execution_count": 16,
   "metadata": {},
   "outputs": [
    {
     "data": {
      "text/plain": [
       "['../results/dummy_median.joblib']"
      ]
     },
     "execution_count": 16,
     "metadata": {},
     "output_type": "execute_result"
    }
   ],
   "source": [
    "joblib.dump(dummy_median, '../results/dummy_median.joblib')"
   ]
  },
  {
   "cell_type": "code",
   "execution_count": 19,
   "metadata": {},
   "outputs": [],
   "source": [
    "mean_prediction_test = dummy_mean.predict(X_test)\n",
    "median_predicton_test = dummy_median.predict(X_test)"
   ]
  },
  {
   "cell_type": "code",
   "execution_count": 20,
   "metadata": {},
   "outputs": [
    {
     "name": "stderr",
     "output_type": "stream",
     "text": [
      "/Users/kevinmaikjablonka/Dropbox (LSMO)/proj75_mofcolor/ml/colorml/utils/utils.py:207: UserWarning: This figure includes Axes that are not compatible with tight_layout, so results might be incorrect.\n",
      "  fig.tight_layout()\n"
     ]
    },
    {
     "data": {
      "image/png": "[encoded data removed]",
      "text/plain": [
       "<Figure size 345.6x1152 with 1 Axes>"
      ]
     },
     "metadata": {
      "needs_background": "light"
     },
     "output_type": "display_data"
    }
   ],
   "source": [
    "plot_predictions(mean_prediction_test * 255, \n",
    "                 y_test * 255,  name_test.values, \n",
    "                 sample=25, outname='mean_baseline.pdf')"
   ]
  },
  {
   "cell_type": "code",
   "execution_count": 21,
   "metadata": {},
   "outputs": [
    {
     "name": "stderr",
     "output_type": "stream",
     "text": [
      "/Users/kevinmaikjablonka/Dropbox (LSMO)/proj75_mofcolor/ml/colorml/utils/utils.py:207: UserWarning: This figure includes Axes that are not compatible with tight_layout, so results might be incorrect.\n",
      "  fig.tight_layout()\n"
     ]
    },
    {
     "data": {
      "image/png": "[encoded data removed]",
      "text/plain": [
       "<Figure size 345.6x1152 with 1 Axes>"
      ]
     },
     "metadata": {
      "needs_background": "light"
     },
     "output_type": "display_data"
    }
   ],
   "source": [
    "plot_predictions(median_predicton_test * 255, \n",
    "                 y_test * 255,  name_test.values, \n",
    "                 sample=25, outname='median_baseline.pdf')"
   ]
  },
  {
   "cell_type": "code",
   "execution_count": 36,
   "metadata": {},
   "outputs": [],
   "source": [
    "from sklearn.neighbors import KNeighborsRegressor"
   ]
  },
  {
   "cell_type": "code",
   "execution_count": 37,
   "metadata": {},
   "outputs": [],
   "source": [
    "knn1 = KNeighborsRegressor(1)\n",
    "knn4 = KNeighborsRegressor(4)"
   ]
  },
  {
   "cell_type": "code",
   "execution_count": 38,
   "metadata": {},
   "outputs": [
    {
     "data": {
      "text/plain": [
       "KNeighborsRegressor(algorithm='auto', leaf_size=30, metric='minkowski',\n",
       "                    metric_params=None, n_jobs=None, n_neighbors=4, p=2,\n",
       "                    weights='uniform')"
      ]
     },
     "execution_count": 38,
     "metadata": {},
     "output_type": "execute_result"
    }
   ],
   "source": [
    "knn1.fit(X_train, y_train)\n",
    "knn4.fit(X_train, y_train)"
   ]
  },
  {
   "cell_type": "code",
   "execution_count": 39,
   "metadata": {},
   "outputs": [],
   "source": [
    "knn1_prediction = knn1.predict(X_test)"
   ]
  },
  {
   "cell_type": "code",
   "execution_count": 40,
   "metadata": {},
   "outputs": [],
   "source": [
    "knn4_prediction = knn4.predict(X_test)"
   ]
  },
  {
   "cell_type": "code",
   "execution_count": 41,
   "metadata": {},
   "outputs": [
    {
     "name": "stderr",
     "output_type": "stream",
     "text": [
      "/Users/kevinmaikjablonka/opt/miniconda3/envs/colorml/lib/python3.7/site-packages/ipykernel_launcher.py:38: UserWarning: This figure includes Axes that are not compatible with tight_layout, so results might be incorrect.\n"
     ]
    },
    {
     "data": {
      "image/png": "[encoded data removed]",
      "text/plain": [
       "<Figure size 360x576 with 1 Axes>"
      ]
     },
     "metadata": {
      "needs_background": "light"
     },
     "output_type": "display_data"
    }
   ],
   "source": [
    "plot_predictions(yscaler.inverse_transform(knn1_prediction), \n",
    "                 yscaler.inverse_transform(y_test),  name_test.values, \n",
    "                 sample=25, outname='knn1_baseline.pdf')"
   ]
  },
  {
   "cell_type": "code",
   "execution_count": 42,
   "metadata": {},
   "outputs": [
    {
     "name": "stderr",
     "output_type": "stream",
     "text": [
      "/Users/kevinmaikjablonka/opt/miniconda3/envs/colorml/lib/python3.7/site-packages/ipykernel_launcher.py:38: UserWarning: This figure includes Axes that are not compatible with tight_layout, so results might be incorrect.\n"
     ]
    },
    {
     "data": {
      "image/png": "[encoded data removed]",
      "text/plain": [
       "<Figure size 360x576 with 1 Axes>"
      ]
     },
     "metadata": {
      "needs_background": "light"
     },
     "output_type": "display_data"
    }
   ],
   "source": [
    "plot_predictions(yscaler.inverse_transform(knn4_prediction), \n",
    "                 yscaler.inverse_transform(y_test),  name_test.values, \n",
    "                 sample=25, outname='knn4_baseline.pdf')"
   ]
  },
  {
   "cell_type": "code",
   "execution_count": 43,
   "metadata": {},
   "outputs": [
    {
     "data": {
      "text/plain": [
       "{'r2': 0.0385442949292207,\n",
       " 'mae': 0.5249477657935612,\n",
       " 'mse': 1.0015340363866634}"
      ]
     },
     "execution_count": 43,
     "metadata": {},
     "output_type": "execute_result"
    }
   ],
   "source": [
    "get_metrics(y_test, knn1_prediction)"
   ]
  },
  {
   "cell_type": "code",
   "execution_count": 44,
   "metadata": {},
   "outputs": [
    {
     "data": {
      "text/plain": [
       "{'r2': 0.24475977464798404,\n",
       " 'mae': 0.6183640394547121,\n",
       " 'mse': 0.7861595007965327}"
      ]
     },
     "execution_count": 44,
     "metadata": {},
     "output_type": "execute_result"
    }
   ],
   "source": [
    "get_metrics(y_test, knn4_prediction)"
   ]
  },
  {
   "cell_type": "code",
   "execution_count": null,
   "metadata": {},
   "outputs": [],
   "source": []
  }
 ],
 "metadata": {
  "kernelspec": {
   "display_name": "Python [conda env:colorml2] *",
   "language": "python",
   "name": "conda-env-colorml2-py"
  },
  "language_info": {
   "codemirror_mode": {
    "name": "ipython",
    "version": 3
   },
   "file_extension": ".py",
   "mimetype": "text/x-python",
   "name": "python",
   "nbconvert_exporter": "python",
   "pygments_lexer": "ipython3",
   "version": "3.7.6"
  }
 },
 "nbformat": 4,
 "nbformat_minor": 4
}
