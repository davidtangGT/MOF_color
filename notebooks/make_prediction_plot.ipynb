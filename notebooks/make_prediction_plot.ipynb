{
 "cells": [
  {
   "cell_type": "code",
   "execution_count": 1,
   "metadata": {},
   "outputs": [],
   "source": [
    "from sklearn.cluster import KMeans, SpectralClustering\n",
    "from sklearn.metrics import roc_auc_score, f1_score, accuracy_score"
   ]
  },
  {
   "cell_type": "code",
   "execution_count": 2,
   "metadata": {},
   "outputs": [
    {
     "name": "stderr",
     "output_type": "stream",
     "text": [
      "Using TensorFlow backend.\n"
     ]
    }
   ],
   "source": [
    "import joblib \n",
    "import numpy as np\n",
    "\n",
    "import matplotlib.pyplot as plt\n",
    "\n",
    "from colorml.utils.utils import plot_prediction_dist, read_pickle\n",
    "\n",
    "%matplotlib inline"
   ]
  },
  {
   "cell_type": "code",
   "execution_count": 37,
   "metadata": {},
   "outputs": [],
   "source": [
    "model_median = joblib.load('../results/gbm/regressor_medianrun_2020_05_31_12_05_1590919512.joblib')\n",
    "model_01 = joblib.load('../results/gbm/regressor_0_1run_2020_05_31_12_05_1590919512.joblib')\n",
    "model_09 = joblib.load('../results/gbm/regressor_0_9run_2020_05_31_12_05_1590919512.joblib')\n",
    "model_mean = joblib.load('../results/gbm/regressor_meanrun_2020_05_31_12_05_1590919512.joblib')\n",
    "\n",
    "y_scaler = joblib.load('../results/gbm/yscaler_run_2020_05_31_12_05_1590919512.joblib')\n",
    "X_test = np.load('../results/gbm/X_test_run_2020_05_31_12_05_1590919512.npy')\n",
    "X_train = np.load('../results/gbm/X_train_run_2020_05_31_12_05_1590919512.npy')\n",
    "y_train = np.load('../results/gbm/y_train_run_2020_05_31_12_05_1590919512.npy')\n",
    "y_test = np.load('../results/gbm/y_test_run_2020_05_31_12_05_1590919512.npy')\n",
    "names = np.load('../results/gbm/y_names_run_2020_05_31_12_05_1590919512.npy', allow_pickle=True)"
   ]
  },
  {
   "cell_type": "code",
   "execution_count": 38,
   "metadata": {},
   "outputs": [
    {
     "data": {
      "text/plain": [
       "LGBMRegressor(alpha=0.5, colsample_bytree=0.8445859337396231, max_depth=43,\n",
       "              min_child_weight=0.011594897565619164, n_estimators=184,\n",
       "              num_leaves=424, objective='quantile',\n",
       "              reg_alpha=0.16872454674439044, reg_lambda=0.00021891539437930284,\n",
       "              subsample=0.40439531058409134)"
      ]
     },
     "execution_count": 38,
     "metadata": {},
     "output_type": "execute_result"
    }
   ],
   "source": [
    "model_09.estimator.set_params(**{'alpha': .5})"
   ]
  },
  {
   "cell_type": "code",
   "execution_count": 73,
   "metadata": {},
   "outputs": [
    {
     "data": {
      "text/plain": [
       "MultiOutputRegressor(estimator=LGBMRegressor(alpha=0.5,\n",
       "                                             colsample_bytree=0.8445859337396231,\n",
       "                                             max_depth=43,\n",
       "                                             min_child_weight=0.011594897565619164,\n",
       "                                             n_estimators=184, num_leaves=424,\n",
       "                                             objective='quantile',\n",
       "                                             reg_alpha=0.16872454674439044,\n",
       "                                             reg_lambda=0.00021891539437930284,\n",
       "                                             subsample=0.40439531058409134))"
      ]
     },
     "execution_count": 73,
     "metadata": {},
     "output_type": "execute_result"
    }
   ],
   "source": [
    "model_09.fit(X_train, y_train)"
   ]
  },
  {
   "cell_type": "code",
   "execution_count": 11,
   "metadata": {},
   "outputs": [],
   "source": [
    "kmeans = KMeans(4)"
   ]
  },
  {
   "cell_type": "code",
   "execution_count": 12,
   "metadata": {},
   "outputs": [
    {
     "data": {
      "text/plain": [
       "KMeans(n_clusters=4)"
      ]
     },
     "execution_count": 12,
     "metadata": {},
     "output_type": "execute_result"
    }
   ],
   "source": [
    "kmeans.fit(\n",
    "    np.vstack([y_train,  y_test])\n",
    ")"
   ]
  },
  {
   "cell_type": "code",
   "execution_count": 13,
   "metadata": {},
   "outputs": [],
   "source": [
    "colormapper = joblib.load('knn_map_rgb_string.joblib')"
   ]
  },
  {
   "cell_type": "code",
   "execution_count": 14,
   "metadata": {},
   "outputs": [],
   "source": [
    "le = joblib.load('labelencoder.joblib')"
   ]
  },
  {
   "cell_type": "code",
   "execution_count": 42,
   "metadata": {},
   "outputs": [],
   "source": [
    "quantile01_prediction = model_01.predict(X_test)\n",
    "quantile09_prediction = model_09.predict(X_test)\n",
    "\n",
    "median_prediction = model_median.predict(X_test)\n",
    "\n",
    "mean_prediction = model_mean.predict(X_test)"
   ]
  },
  {
   "cell_type": "code",
   "execution_count": 75,
   "metadata": {},
   "outputs": [
    {
     "data": {
      "text/plain": [
       "array([[ 0.61967517,  0.0080006 ,  0.90778426],\n",
       "       [-1.50386255, -0.91504447,  0.18263088],\n",
       "       [ 0.43646482,  0.61717095,  0.38409696],\n",
       "       ...,\n",
       "       [-1.96589062,  0.66993595, -1.10884638],\n",
       "       [ 0.22259048, -1.21838944, -0.82888772],\n",
       "       [ 0.52141815,  0.43873168, -0.01084537]])"
      ]
     },
     "execution_count": 75,
     "metadata": {},
     "output_type": "execute_result"
    }
   ],
   "source": [
    "quantile09_prediction"
   ]
  },
  {
   "cell_type": "code",
   "execution_count": 63,
   "metadata": {},
   "outputs": [],
   "source": [
    "median_means = kmeans.predict(mean_prediction)\n",
    "y_true_means = kmeans.predict(y_test)"
   ]
  },
  {
   "cell_type": "code",
   "execution_count": 64,
   "metadata": {},
   "outputs": [
    {
     "data": {
      "text/plain": [
       "0.74296875"
      ]
     },
     "execution_count": 64,
     "metadata": {},
     "output_type": "execute_result"
    }
   ],
   "source": [
    "accuracy_score(y_true_means, median_means)"
   ]
  },
  {
   "cell_type": "code",
   "execution_count": 65,
   "metadata": {},
   "outputs": [
    {
     "data": {
      "text/plain": [
       "0.6728842527957349"
      ]
     },
     "execution_count": 65,
     "metadata": {},
     "output_type": "execute_result"
    }
   ],
   "source": [
    "f1_score(y_true_means, median_means, average='macro')"
   ]
  },
  {
   "cell_type": "code",
   "execution_count": 25,
   "metadata": {},
   "outputs": [],
   "source": [
    "allowed = [i for i, n in enumerate(names) if n in ['red', 'green', 'brown', 'colorless', 'blue']]"
   ]
  },
  {
   "cell_type": "code",
   "execution_count": 26,
   "metadata": {},
   "outputs": [],
   "source": [
    "names_encoded = le.transform(names[allowed])"
   ]
  },
  {
   "cell_type": "code",
   "execution_count": 27,
   "metadata": {
    "collapsed": true,
    "jupyter": {
     "outputs_hidden": true
    }
   },
   "outputs": [
    {
     "data": {
      "text/plain": [
       "[('slightly pink', 'colorless'),\n",
       " ('greenish blue', 'blue'),\n",
       " ('light yellow', 'brown'),\n",
       " ('blue', 'blue'),\n",
       " ('purple red', 'red'),\n",
       " ('white', 'colorless'),\n",
       " ('light', 'colorless'),\n",
       " ('white', 'colorless'),\n",
       " ('white', 'colorless'),\n",
       " ('whiteish colorless', 'colorless'),\n",
       " ('deep yellow', 'red'),\n",
       " ('white', 'colorless'),\n",
       " ('white', 'colorless'),\n",
       " ('white', 'colorless'),\n",
       " ('white', 'colorless'),\n",
       " ('white', 'colorless'),\n",
       " ('white', 'colorless'),\n",
       " ('jasmine', 'colorless'),\n",
       " ('yellowish', 'colorless'),\n",
       " ('white', 'colorless'),\n",
       " ('deep blue', 'blue'),\n",
       " ('greenish blue', 'blue'),\n",
       " ('red', 'red'),\n",
       " ('white', 'colorless'),\n",
       " ('purple red', 'red'),\n",
       " ('orange', 'brown'),\n",
       " ('green', 'green'),\n",
       " ('slightly pink', 'colorless'),\n",
       " ('white', 'colorless'),\n",
       " ('jasmine', 'colorless'),\n",
       " ('light', 'colorless'),\n",
       " ('white', 'colorless'),\n",
       " ('light', 'colorless'),\n",
       " ('jasmine', 'colorless'),\n",
       " ('greenish blue', 'blue'),\n",
       " ('whiteish colorless', 'colorless'),\n",
       " ('white', 'colorless'),\n",
       " ('blue', 'blue'),\n",
       " ('white', 'colorless'),\n",
       " ('whiteish colorless', 'colorless'),\n",
       " ('white', 'colorless'),\n",
       " ('pale yellow', 'colorless'),\n",
       " ('red', 'red'),\n",
       " ('greenish blue', 'blue'),\n",
       " ('white', 'colorless'),\n",
       " ('light brown', 'brown'),\n",
       " ('white', 'colorless'),\n",
       " ('whiteish colorless', 'colorless'),\n",
       " ('grey', 'green'),\n",
       " ('white', 'colorless'),\n",
       " ('deep blue', 'blue'),\n",
       " ('white', 'colorless'),\n",
       " ('white', 'colorless'),\n",
       " ('purple', 'blue'),\n",
       " ('white', 'colorless'),\n",
       " ('light yellow', 'colorless'),\n",
       " ('green', 'green'),\n",
       " ('purple red', 'colorless'),\n",
       " ('blue', 'blue'),\n",
       " ('yellow green', 'green'),\n",
       " ('pale yellow', 'colorless'),\n",
       " ('jasmine', 'colorless'),\n",
       " ('white', 'colorless'),\n",
       " ('colorless', 'colorless'),\n",
       " ('jasmine', 'colorless'),\n",
       " ('colorless', 'colorless'),\n",
       " ('grey', 'green'),\n",
       " ('light yellow', 'colorless'),\n",
       " ('jasmine', 'colorless'),\n",
       " ('green', 'green'),\n",
       " ('deep yellow', 'red'),\n",
       " ('amaranthine', 'red'),\n",
       " ('whiteish colorless', 'colorless'),\n",
       " ('white', 'colorless'),\n",
       " ('white', 'colorless'),\n",
       " ('greenish blue', 'green'),\n",
       " ('brown yellow', 'red'),\n",
       " ('jasmine', 'brown'),\n",
       " ('whiteish colorless', 'colorless'),\n",
       " ('light yellow', 'colorless'),\n",
       " ('light orange', 'colorless'),\n",
       " ('white', 'colorless'),\n",
       " ('white', 'colorless'),\n",
       " ('jasmine', 'brown'),\n",
       " ('blue', 'blue'),\n",
       " ('jasmine', 'colorless'),\n",
       " ('white', 'colorless'),\n",
       " ('greenish blue', 'green'),\n",
       " ('light yellow', 'colorless'),\n",
       " ('white', 'colorless'),\n",
       " ('whiteish colorless', 'colorless'),\n",
       " ('grey', 'colorless'),\n",
       " ('whiteish colorless', 'colorless'),\n",
       " ('whiteish colorless', 'colorless'),\n",
       " ('white', 'colorless'),\n",
       " ('whiteish colorless', 'colorless'),\n",
       " ('white', 'colorless'),\n",
       " ('white', 'colorless'),\n",
       " ('white', 'colorless'),\n",
       " ('white', 'colorless'),\n",
       " ('pale yellow', 'colorless'),\n",
       " ('grey', 'colorless'),\n",
       " ('light red', 'green'),\n",
       " ('whiteish colorless', 'colorless'),\n",
       " ('light green', 'colorless'),\n",
       " ('blue', 'blue'),\n",
       " ('white', 'colorless'),\n",
       " ('whiteish colorless', 'colorless'),\n",
       " ('jasmine', 'colorless'),\n",
       " ('light pink', 'colorless'),\n",
       " ('jasmine', 'colorless'),\n",
       " ('light', 'colorless'),\n",
       " ('beige', 'colorless'),\n",
       " ('blue', 'blue'),\n",
       " ('yellowish', 'red'),\n",
       " ('white', 'colorless'),\n",
       " ('dark yellow', 'brown'),\n",
       " ('green', 'green'),\n",
       " ('greenish blue', 'green'),\n",
       " ('white', 'colorless'),\n",
       " ('white', 'colorless'),\n",
       " ('whiteish colorless', 'colorless'),\n",
       " ('white', 'colorless'),\n",
       " ('beige', 'colorless'),\n",
       " ('green blue', 'blue'),\n",
       " ('whiteish colorless', 'colorless'),\n",
       " ('light red', 'green'),\n",
       " ('white', 'colorless'),\n",
       " ('yellow', 'red'),\n",
       " ('whiteish colorless', 'colorless'),\n",
       " ('light purple', 'colorless'),\n",
       " ('red', 'red'),\n",
       " ('light orange', 'colorless'),\n",
       " ('colorless', 'colorless'),\n",
       " ('white', 'colorless'),\n",
       " ('yellowish', 'colorless'),\n",
       " ('white', 'colorless'),\n",
       " ('greenish blue', 'blue'),\n",
       " ('light yellow', 'colorless'),\n",
       " ('whiteish colorless', 'colorless'),\n",
       " ('green blue', 'green'),\n",
       " ('blue', 'blue'),\n",
       " ('whiteish colorless', 'colorless'),\n",
       " ('whiteish colorless', 'colorless'),\n",
       " ('white', 'colorless'),\n",
       " ('whiteish colorless', 'colorless'),\n",
       " ('white', 'colorless'),\n",
       " ('jasmine', 'colorless'),\n",
       " ('yellowish', 'colorless'),\n",
       " ('white', 'colorless'),\n",
       " ('jasmine', 'colorless'),\n",
       " ('blue', 'blue'),\n",
       " ('white', 'colorless'),\n",
       " ('slightly pink', 'colorless'),\n",
       " ('grey', 'green'),\n",
       " ('light', 'colorless'),\n",
       " ('whiteish colorless', 'colorless'),\n",
       " ('red', 'red'),\n",
       " ('green blue', 'blue'),\n",
       " ('light yellow', 'colorless'),\n",
       " ('blue', 'blue'),\n",
       " ('white', 'red'),\n",
       " ('blue', 'blue'),\n",
       " ('white', 'colorless'),\n",
       " ('greenish blue', 'blue'),\n",
       " ('whiteish colorless', 'colorless'),\n",
       " ('amaranthine', 'red'),\n",
       " ('jasmine', 'colorless'),\n",
       " ('grey', 'blue'),\n",
       " ('greenish blue', 'blue'),\n",
       " ('deep red', 'red'),\n",
       " ('jasmine', 'colorless'),\n",
       " ('greenish blue', 'green'),\n",
       " ('white', 'colorless'),\n",
       " ('white', 'colorless'),\n",
       " ('deep blue', 'blue'),\n",
       " ('whiteish colorless', 'colorless'),\n",
       " ('light purple', 'colorless'),\n",
       " ('green', 'green'),\n",
       " ('blue', 'blue'),\n",
       " ('whiteish colorless', 'colorless'),\n",
       " ('white', 'colorless'),\n",
       " ('white', 'colorless'),\n",
       " ('light', 'colorless'),\n",
       " ('colorless', 'colorless'),\n",
       " ('green blue', 'green'),\n",
       " ('green', 'green'),\n",
       " ('white', 'colorless'),\n",
       " ('green', 'green'),\n",
       " ('white', 'colorless'),\n",
       " ('whiteish colorless', 'red'),\n",
       " ('violet', 'blue'),\n",
       " ('white', 'colorless'),\n",
       " ('blue', 'blue'),\n",
       " ('grey', 'green'),\n",
       " ('pale green', 'colorless'),\n",
       " ('dark purple', 'brown'),\n",
       " ('light yellow', 'colorless'),\n",
       " ('greenish blue', 'blue'),\n",
       " ('white', 'colorless'),\n",
       " ('colorless', 'colorless'),\n",
       " ('white', 'colorless'),\n",
       " ('whiteish colorless', 'colorless'),\n",
       " ('red', 'red'),\n",
       " ('light pink', 'colorless'),\n",
       " ('white', 'colorless'),\n",
       " ('slightly pink', 'colorless'),\n",
       " ('orange red', 'red'),\n",
       " ('white', 'colorless'),\n",
       " ('white', 'colorless'),\n",
       " ('white', 'colorless'),\n",
       " ('whiteish colorless', 'colorless'),\n",
       " ('light purple', 'red'),\n",
       " ('white', 'colorless'),\n",
       " ('grey', 'red'),\n",
       " ('white', 'colorless'),\n",
       " ('white', 'colorless'),\n",
       " ('jasmine', 'colorless'),\n",
       " ('whiteish colorless', 'green'),\n",
       " ('grey', 'brown'),\n",
       " ('white', 'colorless'),\n",
       " ('jasmine', 'colorless'),\n",
       " ('beige', 'colorless'),\n",
       " ('jasmine', 'colorless'),\n",
       " ('crimson', 'red'),\n",
       " ('blue', 'blue'),\n",
       " ('slightly pink', 'colorless'),\n",
       " ('jasmine', 'colorless'),\n",
       " ('white', 'colorless'),\n",
       " ('whiteish colorless', 'red'),\n",
       " ('white', 'colorless'),\n",
       " ('whiteish colorless', 'colorless'),\n",
       " ('white', 'colorless'),\n",
       " ('violet red', 'red'),\n",
       " ('light yellow', 'colorless'),\n",
       " ('jasmine', 'colorless'),\n",
       " ('white', 'colorless'),\n",
       " ('crimson', 'brown'),\n",
       " ('whiteish colorless', 'colorless'),\n",
       " ('blue', 'blue'),\n",
       " ('white', 'colorless'),\n",
       " ('white', 'colorless'),\n",
       " ('white', 'colorless'),\n",
       " ('blue', 'blue'),\n",
       " ('white', 'colorless'),\n",
       " ('white', 'colorless'),\n",
       " ('green blue', 'green'),\n",
       " ('light', 'colorless'),\n",
       " ('light green', 'colorless'),\n",
       " ('white', 'colorless'),\n",
       " ('grey', 'colorless'),\n",
       " ('white', 'colorless'),\n",
       " ('dark blue', 'blue'),\n",
       " ('light orange', 'brown'),\n",
       " ('whiteish colorless', 'colorless'),\n",
       " ('light yellow', 'colorless'),\n",
       " ('white', 'colorless'),\n",
       " ('red', 'red'),\n",
       " ('greenish blue', 'green'),\n",
       " ('light', 'colorless'),\n",
       " ('white', 'colorless'),\n",
       " ('white', 'colorless'),\n",
       " ('whiteish colorless', 'colorless'),\n",
       " ('whiteish colorless', 'colorless'),\n",
       " ('white', 'colorless'),\n",
       " ('whiteish colorless', 'colorless'),\n",
       " ('light', 'colorless'),\n",
       " ('white', 'colorless'),\n",
       " ('light yellow', 'colorless'),\n",
       " ('light yellow', 'colorless'),\n",
       " ('green', 'green'),\n",
       " ('white', 'colorless'),\n",
       " ('jasmine', 'colorless'),\n",
       " ('jasmine', 'colorless'),\n",
       " ('white', 'colorless'),\n",
       " ('whiteish colorless', 'colorless'),\n",
       " ('whiteish colorless', 'colorless'),\n",
       " ('whiteish colorless', 'colorless'),\n",
       " ('blue violet', 'blue'),\n",
       " ('white', 'colorless'),\n",
       " ('light brown', 'brown'),\n",
       " ('blue', 'blue'),\n",
       " ('light yellow', 'colorless'),\n",
       " ('pale green', 'colorless'),\n",
       " ('light brown', 'red'),\n",
       " ('blue', 'blue'),\n",
       " ('white', 'colorless'),\n",
       " ('white', 'colorless'),\n",
       " ('dark orange', 'red'),\n",
       " ('deep blue', 'green'),\n",
       " ('white', 'colorless'),\n",
       " ('white', 'colorless'),\n",
       " ('light green', 'colorless'),\n",
       " ('whiteish colorless', 'colorless'),\n",
       " ('colorless', 'colorless'),\n",
       " ('white', 'brown'),\n",
       " ('light', 'colorless'),\n",
       " ('white', 'colorless'),\n",
       " ('white', 'colorless'),\n",
       " ('jasmine', 'colorless'),\n",
       " ('orange red', 'red'),\n",
       " ('white', 'colorless'),\n",
       " ('light', 'colorless'),\n",
       " ('grey', 'blue'),\n",
       " ('white', 'colorless'),\n",
       " ('blue', 'blue'),\n",
       " ('blue', 'blue'),\n",
       " ('whiteish colorless', 'colorless'),\n",
       " ('greenish blue', 'blue'),\n",
       " ('light yellow', 'colorless'),\n",
       " ('red', 'red'),\n",
       " ('white', 'colorless'),\n",
       " ('white', 'colorless'),\n",
       " ('orange yellow', 'colorless'),\n",
       " ('green', 'blue'),\n",
       " ('white', 'colorless'),\n",
       " ('white', 'colorless'),\n",
       " ('whiteish colorless', 'colorless'),\n",
       " ('white', 'colorless'),\n",
       " ('light purple', 'colorless'),\n",
       " ('white', 'colorless'),\n",
       " ('green', 'green'),\n",
       " ('greenish blue', 'blue'),\n",
       " ('colorless', 'colorless'),\n",
       " ('greenish blue', 'blue'),\n",
       " ('colorless', 'colorless'),\n",
       " ('whiteish colorless', 'colorless'),\n",
       " ('white', 'colorless'),\n",
       " ('white', 'colorless'),\n",
       " ('blue', 'blue'),\n",
       " ('pale yellow', 'colorless'),\n",
       " ('colorless', 'colorless'),\n",
       " ('greenish blue', 'green'),\n",
       " ('colorless', 'blue'),\n",
       " ('green', 'green'),\n",
       " ('light yellow', 'colorless'),\n",
       " ('white', 'colorless'),\n",
       " ('light orange', 'colorless'),\n",
       " ('grey', 'brown'),\n",
       " ('yellowish', 'colorless'),\n",
       " ('crimson', 'red'),\n",
       " ('whiteish colorless', 'colorless'),\n",
       " ('blue', 'blue'),\n",
       " ('whiteish colorless', 'colorless'),\n",
       " ('crimson', 'red'),\n",
       " ('whiteish colorless', 'colorless'),\n",
       " ('pale brown', 'colorless'),\n",
       " ('white', 'colorless'),\n",
       " ('whiteish colorless', 'colorless'),\n",
       " ('colorless', 'colorless'),\n",
       " ('greenish blue', 'blue'),\n",
       " ('crimson', 'red'),\n",
       " ('green', 'green'),\n",
       " ('white', 'colorless'),\n",
       " ('light', 'colorless'),\n",
       " ('white', 'colorless'),\n",
       " ('light yellow', 'colorless'),\n",
       " ('white', 'colorless'),\n",
       " ('greenish blue', 'brown'),\n",
       " ('yellowish', 'colorless'),\n",
       " ('whiteish colorless', 'colorless'),\n",
       " ('white', 'colorless'),\n",
       " ('purple red', 'red'),\n",
       " ('green', 'green'),\n",
       " ('white', 'colorless'),\n",
       " ('white', 'colorless'),\n",
       " ('light pink', 'colorless'),\n",
       " ('green', 'green'),\n",
       " ('white', 'colorless'),\n",
       " ('white', 'colorless'),\n",
       " ('whiteish colorless', 'colorless'),\n",
       " ('yellowish', 'colorless'),\n",
       " ('pale brown', 'colorless'),\n",
       " ('whiteish colorless', 'colorless'),\n",
       " ('crimson', 'red'),\n",
       " ('faint pink', 'colorless'),\n",
       " ('colorless', 'colorless'),\n",
       " ('light yellow', 'green'),\n",
       " ('white', 'colorless'),\n",
       " ('whiteish colorless', 'colorless'),\n",
       " ('greenish blue', 'blue'),\n",
       " ('slightly pink', 'colorless'),\n",
       " ('orange', 'brown'),\n",
       " ('light', 'colorless'),\n",
       " ('jasmine', 'colorless'),\n",
       " ('pale green', 'blue'),\n",
       " ('greenish blue', 'green'),\n",
       " ('colorless', 'colorless'),\n",
       " ('blue', 'blue'),\n",
       " ('white', 'colorless'),\n",
       " ('light yellow', 'colorless'),\n",
       " ('blue', 'blue'),\n",
       " ('jasmine', 'colorless'),\n",
       " ('yellowish', 'colorless'),\n",
       " ('white', 'colorless'),\n",
       " ('green', 'green'),\n",
       " ('white', 'colorless'),\n",
       " ('pale green', 'green'),\n",
       " ('red brown', 'colorless'),\n",
       " ('dark orange', 'red'),\n",
       " ('greenish blue', 'blue'),\n",
       " ('yellowish', 'colorless'),\n",
       " ('light yellow', 'colorless'),\n",
       " ('deep red', 'red'),\n",
       " ('jasmine', 'colorless'),\n",
       " ('light', 'colorless'),\n",
       " ('white', 'colorless'),\n",
       " ('blue', 'blue'),\n",
       " ('white', 'colorless'),\n",
       " ('green', 'green'),\n",
       " ('blue', 'blue'),\n",
       " ('white', 'colorless'),\n",
       " ('white', 'colorless'),\n",
       " ('white', 'colorless'),\n",
       " ('light yellow', 'colorless'),\n",
       " ('white', 'colorless'),\n",
       " ('whiteish colorless', 'green'),\n",
       " ('white', 'colorless'),\n",
       " ('brown', 'brown'),\n",
       " ('green', 'blue'),\n",
       " ('white', 'colorless'),\n",
       " ('light green', 'green'),\n",
       " ('jasmine', 'colorless'),\n",
       " ('red', 'red'),\n",
       " ('white', 'colorless'),\n",
       " ('light yellow', 'colorless'),\n",
       " ('slightly pink', 'red'),\n",
       " ('white', 'colorless'),\n",
       " ('purple red', 'red'),\n",
       " ('white', 'colorless'),\n",
       " ('light', 'colorless'),\n",
       " ('crimson', 'red'),\n",
       " ('green', 'green'),\n",
       " ('light yellow', 'colorless'),\n",
       " ('purple red', 'red'),\n",
       " ('blue', 'blue'),\n",
       " ('slightly pink', 'colorless'),\n",
       " ('greenish blue', 'blue'),\n",
       " ('white', 'colorless'),\n",
       " ('whiteish colorless', 'colorless'),\n",
       " ('light yellow', 'colorless'),\n",
       " ('white', 'colorless'),\n",
       " ('green', 'colorless'),\n",
       " ('aubergine', 'blue'),\n",
       " ('white', 'colorless'),\n",
       " ('jasmine', 'colorless'),\n",
       " ('colorless', 'colorless'),\n",
       " ('whiteish colorless', 'colorless'),\n",
       " ('greenish blue', 'blue'),\n",
       " ('jasmine', 'colorless'),\n",
       " ('jasmine', 'colorless'),\n",
       " ('light', 'colorless'),\n",
       " ('pale green', 'colorless'),\n",
       " ('whiteish colorless', 'colorless'),\n",
       " ('whiteish colorless', 'colorless'),\n",
       " ('white', 'colorless'),\n",
       " ('pale green', 'colorless'),\n",
       " ('white', 'colorless'),\n",
       " ('white', 'colorless'),\n",
       " ('green', 'green'),\n",
       " ('amaranthine', 'blue'),\n",
       " ('deep blue', 'blue'),\n",
       " ('blue', 'blue'),\n",
       " ('light yellow', 'colorless'),\n",
       " ('white', 'colorless'),\n",
       " ('light blue', 'blue'),\n",
       " ('blue', 'blue'),\n",
       " ('colorless', 'colorless'),\n",
       " ('greenish blue', 'blue'),\n",
       " ('greenish blue', 'blue'),\n",
       " ('white', 'colorless'),\n",
       " ('colorless', 'colorless'),\n",
       " ('white', 'colorless'),\n",
       " ('white', 'colorless'),\n",
       " ('green blue', 'blue'),\n",
       " ('yellow', 'brown'),\n",
       " ('green', 'green'),\n",
       " ('white', 'colorless'),\n",
       " ('white', 'colorless'),\n",
       " ('orange red', 'brown'),\n",
       " ('jasmine', 'colorless'),\n",
       " ('green', 'blue'),\n",
       " ('white', 'colorless'),\n",
       " ('white', 'colorless'),\n",
       " ('whiteish colorless', 'colorless'),\n",
       " ('white', 'colorless'),\n",
       " ('green', 'red'),\n",
       " ('white', 'colorless'),\n",
       " ('white', 'colorless'),\n",
       " ('blue violet', 'blue'),\n",
       " ('green', 'green'),\n",
       " ('dark violet', 'green'),\n",
       " ('white', 'colorless'),\n",
       " ('white', 'colorless'),\n",
       " ('greenish blue', 'green'),\n",
       " ('whiteish colorless', 'colorless'),\n",
       " ('yellowish', 'colorless'),\n",
       " ('yellowish', 'colorless'),\n",
       " ('light yellow', 'red'),\n",
       " ('blue', 'blue'),\n",
       " ('white', 'colorless'),\n",
       " ('jasmine', 'colorless'),\n",
       " ('white', 'colorless'),\n",
       " ('green', 'blue'),\n",
       " ('crimson', 'red'),\n",
       " ('blue', 'blue'),\n",
       " ('white', 'colorless'),\n",
       " ('blue', 'colorless'),\n",
       " ('greenish blue', 'blue'),\n",
       " ('white', 'brown'),\n",
       " ('pale green', 'colorless'),\n",
       " ('light pink', 'blue'),\n",
       " ('white', 'colorless'),\n",
       " ('light yellow', 'colorless'),\n",
       " ('whiteish colorless', 'colorless'),\n",
       " ('slightly pink', 'colorless'),\n",
       " ('greenish blue', 'green'),\n",
       " ('green', 'green'),\n",
       " ('green', 'green'),\n",
       " ('white', 'colorless'),\n",
       " ('yellow green', 'colorless'),\n",
       " ('slightly pink', 'colorless'),\n",
       " ('jasmine', 'colorless'),\n",
       " ('red', 'red'),\n",
       " ('light orange', 'colorless'),\n",
       " ('whiteish colorless', 'colorless'),\n",
       " ('pale yellow', 'colorless'),\n",
       " ('colorless', 'colorless'),\n",
       " ('dark blue', 'blue'),\n",
       " ('blue', 'blue'),\n",
       " ('whiteish colorless', 'colorless'),\n",
       " ('white', 'colorless'),\n",
       " ('green', 'green'),\n",
       " ('pale green', 'green'),\n",
       " ('light yellow', 'colorless'),\n",
       " ('whiteish colorless', 'colorless'),\n",
       " ('grey', 'blue'),\n",
       " ('green', 'green'),\n",
       " ('whiteish colorless', 'colorless'),\n",
       " ('blue', 'blue'),\n",
       " ('white', 'colorless'),\n",
       " ('pale green', 'colorless'),\n",
       " ('white', 'colorless'),\n",
       " ('white', 'colorless'),\n",
       " ('dark yellow', 'brown'),\n",
       " ('colorless', 'colorless'),\n",
       " ('white', 'colorless'),\n",
       " ('white', 'colorless'),\n",
       " ('white', 'colorless'),\n",
       " ('pale yellow', 'colorless'),\n",
       " ('light yellow', 'colorless'),\n",
       " ('yellowish', 'colorless'),\n",
       " ('red', 'red'),\n",
       " ('colorless', 'colorless'),\n",
       " ('grey', 'colorless'),\n",
       " ('white', 'colorless'),\n",
       " ('blue', 'blue'),\n",
       " ('orange yellow', 'blue'),\n",
       " ('whiteish colorless', 'colorless'),\n",
       " ('white', 'colorless'),\n",
       " ('pale yellow', 'colorless'),\n",
       " ('whiteish colorless', 'colorless'),\n",
       " ('blue', 'green'),\n",
       " ('whiteish colorless', 'colorless'),\n",
       " ('green', 'green'),\n",
       " ('light yellow', 'colorless'),\n",
       " ('crimson', 'brown'),\n",
       " ('jasmine', 'colorless'),\n",
       " ('light purple', 'colorless'),\n",
       " ('white', 'colorless'),\n",
       " ('whiteish colorless', 'colorless'),\n",
       " ('jasmine', 'colorless'),\n",
       " ('whiteish colorless', 'colorless'),\n",
       " ('pale yellow', 'colorless'),\n",
       " ('light', 'colorless'),\n",
       " ('yellowish', 'red'),\n",
       " ('white', 'colorless'),\n",
       " ('greenish blue', 'blue'),\n",
       " ('yellowish', 'colorless'),\n",
       " ('greenish blue', 'green'),\n",
       " ('whiteish colorless', 'colorless'),\n",
       " ('jasmine', 'colorless'),\n",
       " ('red', 'red'),\n",
       " ('white', 'colorless'),\n",
       " ('white', 'colorless'),\n",
       " ('white', 'colorless'),\n",
       " ('greenish blue', 'green'),\n",
       " ('whiteish colorless', 'colorless'),\n",
       " ('brown yellow', 'red'),\n",
       " ('light green', 'colorless'),\n",
       " ('whiteish colorless', 'colorless'),\n",
       " ('colorless', 'colorless'),\n",
       " ('light yellow', 'colorless'),\n",
       " ('green', 'green'),\n",
       " ('whiteish colorless', 'colorless'),\n",
       " ('crimson', 'red'),\n",
       " ('white', 'colorless'),\n",
       " ('green', 'blue'),\n",
       " ('light green', 'green'),\n",
       " ('green', 'green'),\n",
       " ('whiteish colorless', 'colorless'),\n",
       " ('slightly pink', 'colorless'),\n",
       " ('white', 'colorless'),\n",
       " ('colorless', 'colorless'),\n",
       " ('light yellow', 'colorless'),\n",
       " ('green', 'green'),\n",
       " ('white', 'colorless'),\n",
       " ('white', 'colorless'),\n",
       " ('white', 'colorless'),\n",
       " ('green', 'green'),\n",
       " ('white', 'colorless'),\n",
       " ('pale blue', 'colorless'),\n",
       " ('jasmine', 'colorless'),\n",
       " ('whiteish colorless', 'colorless'),\n",
       " ('jasmine', 'colorless'),\n",
       " ('white', 'colorless'),\n",
       " ('pale brown', 'red'),\n",
       " ('white', 'colorless'),\n",
       " ('light', 'colorless'),\n",
       " ('white', 'colorless'),\n",
       " ('green', 'green'),\n",
       " ('white', 'colorless'),\n",
       " ('greenish blue', 'colorless'),\n",
       " ('jasmine', 'colorless'),\n",
       " ('whiteish colorless', 'colorless'),\n",
       " ('light', 'colorless'),\n",
       " ('dark green', 'blue'),\n",
       " ('greenish blue', 'blue'),\n",
       " ('jasmine', 'colorless'),\n",
       " ('jasmine', 'colorless'),\n",
       " ('light', 'colorless'),\n",
       " ('blue', 'blue'),\n",
       " ('green', 'green'),\n",
       " ('greenish blue', 'green'),\n",
       " ('white', 'colorless'),\n",
       " ('orange red', 'brown'),\n",
       " ('green', 'green'),\n",
       " ('light yellow', 'colorless'),\n",
       " ('light yellow', 'colorless'),\n",
       " ('pale yellow', 'colorless'),\n",
       " ('pale yellow', 'colorless'),\n",
       " ('blue', 'blue'),\n",
       " ('light yellow', 'colorless'),\n",
       " ('jasmine', 'colorless'),\n",
       " ('yellowish', 'colorless'),\n",
       " ('yellowish', 'blue'),\n",
       " ('white', 'colorless'),\n",
       " ('whiteish colorless', 'colorless'),\n",
       " ('whiteish colorless', 'colorless'),\n",
       " ('white', 'colorless'),\n",
       " ('whiteish colorless', 'colorless'),\n",
       " ('white', 'colorless'),\n",
       " ('greenish blue', 'blue'),\n",
       " ('whiteish colorless', 'colorless'),\n",
       " ('light pink', 'colorless'),\n",
       " ('whiteish colorless', 'colorless'),\n",
       " ('greenish blue', 'blue'),\n",
       " ('blue', 'blue'),\n",
       " ('yellowish', 'colorless'),\n",
       " ('jasmine', 'colorless'),\n",
       " ('light green', 'colorless'),\n",
       " ('purple red', 'red'),\n",
       " ('whiteish colorless', 'colorless'),\n",
       " ('white', 'colorless'),\n",
       " ('red', 'red'),\n",
       " ('blue', 'blue'),\n",
       " ('white', 'colorless'),\n",
       " ('blue', 'blue'),\n",
       " ('red brown', 'brown'),\n",
       " ('yellow green', 'red'),\n",
       " ('whiteish colorless', 'colorless'),\n",
       " ('white', 'colorless'),\n",
       " ('orange yellow', 'red'),\n",
       " ('whiteish colorless', 'colorless'),\n",
       " ('jasmine', 'colorless'),\n",
       " ('colorless', 'colorless'),\n",
       " ('colorless', 'colorless'),\n",
       " ('jasmine', 'colorless'),\n",
       " ('green', 'green'),\n",
       " ('grey', 'green'),\n",
       " ('white', 'colorless'),\n",
       " ('white', 'colorless'),\n",
       " ('white', 'colorless'),\n",
       " ('orange red', 'brown'),\n",
       " ('whiteish colorless', 'colorless'),\n",
       " ('jasmine', 'colorless'),\n",
       " ('whiteish colorless', 'colorless'),\n",
       " ('red brown', 'brown'),\n",
       " ('white', 'colorless'),\n",
       " ('colorless', 'colorless'),\n",
       " ('light', 'colorless'),\n",
       " ('colorless', 'colorless'),\n",
       " ('colorless', 'colorless'),\n",
       " ('light yellow', 'colorless'),\n",
       " ('jasmine', 'colorless'),\n",
       " ('white', 'colorless'),\n",
       " ('whiteish colorless', 'colorless'),\n",
       " ('white', 'colorless'),\n",
       " ('light yellow', 'colorless'),\n",
       " ('dark green', 'blue'),\n",
       " ('whiteish colorless', 'colorless'),\n",
       " ('jasmine', 'colorless'),\n",
       " ('whiteish colorless', 'colorless'),\n",
       " ('white', 'colorless'),\n",
       " ('white', 'colorless'),\n",
       " ('purple red', 'blue'),\n",
       " ('deep blue', 'blue'),\n",
       " ('grey', 'red'),\n",
       " ('yellowish', 'colorless'),\n",
       " ('jasmine', 'colorless'),\n",
       " ('whiteish colorless', 'colorless'),\n",
       " ('light blue', 'colorless'),\n",
       " ('purple red', 'red'),\n",
       " ('yellowish', 'colorless'),\n",
       " ('white', 'colorless'),\n",
       " ('blue', 'blue'),\n",
       " ('amaranthine', 'red'),\n",
       " ('white', 'colorless'),\n",
       " ('colorless', 'colorless'),\n",
       " ('white', 'colorless'),\n",
       " ('white', 'colorless'),\n",
       " ('blue', 'blue'),\n",
       " ('light yellow', 'brown'),\n",
       " ('white', 'colorless'),\n",
       " ('jasmine', 'red'),\n",
       " ('light yellow', 'colorless'),\n",
       " ('jasmine', 'colorless'),\n",
       " ('blue', 'blue'),\n",
       " ('yellowish', 'brown'),\n",
       " ('green blue', 'green'),\n",
       " ('green blue', 'blue'),\n",
       " ('white', 'colorless'),\n",
       " ('green blue', 'green'),\n",
       " ('light red', 'red'),\n",
       " ('white', 'colorless'),\n",
       " ('colorless', 'colorless'),\n",
       " ('white', 'colorless'),\n",
       " ('yellowish', 'colorless'),\n",
       " ('grey', 'red'),\n",
       " ('white', 'colorless'),\n",
       " ('blue', 'blue'),\n",
       " ('jasmine', 'colorless'),\n",
       " ('whiteish colorless', 'colorless'),\n",
       " ('jasmine', 'red'),\n",
       " ('green blue', 'green'),\n",
       " ('aubergine', 'blue'),\n",
       " ('jasmine', 'colorless'),\n",
       " ('light yellow', 'red'),\n",
       " ('pale yellow', 'colorless'),\n",
       " ('white', 'colorless'),\n",
       " ('jonquil', 'red'),\n",
       " ('whiteish colorless', 'colorless'),\n",
       " ('white', 'colorless'),\n",
       " ('white', 'colorless'),\n",
       " ('jasmine', 'colorless'),\n",
       " ('slightly pink', 'colorless'),\n",
       " ('white', 'colorless'),\n",
       " ('light yellow', 'colorless'),\n",
       " ('white', 'colorless'),\n",
       " ('red', 'red'),\n",
       " ('dark yellow', 'brown'),\n",
       " ('red', 'red'),\n",
       " ('brown yellow', 'brown'),\n",
       " ('green', 'green'),\n",
       " ('light yellow', 'colorless'),\n",
       " ('light yellow', 'colorless'),\n",
       " ('grey', 'blue'),\n",
       " ('grey', 'green'),\n",
       " ('deep blue', 'blue'),\n",
       " ('white', 'colorless'),\n",
       " ('grey', 'green'),\n",
       " ('pale green', 'blue'),\n",
       " ('white', 'colorless'),\n",
       " ('red', 'red'),\n",
       " ('white', 'colorless'),\n",
       " ('light red', 'red'),\n",
       " ('colorless', 'colorless'),\n",
       " ('brown', 'brown'),\n",
       " ('colorless', 'colorless'),\n",
       " ('blue', 'blue'),\n",
       " ('violet', 'blue'),\n",
       " ('white', 'colorless'),\n",
       " ('white', 'colorless'),\n",
       " ('colorless', 'colorless'),\n",
       " ('white', 'colorless'),\n",
       " ('white', 'colorless'),\n",
       " ('light pink', 'colorless'),\n",
       " ('whiteish colorless', 'colorless'),\n",
       " ('greenish blue', 'blue'),\n",
       " ('pale yellow', 'colorless'),\n",
       " ('jasmine', 'colorless'),\n",
       " ('blue', 'blue'),\n",
       " ('grey', 'blue'),\n",
       " ('white', 'colorless'),\n",
       " ('jonquil', 'colorless'),\n",
       " ('white', 'colorless'),\n",
       " ('light red', 'red'),\n",
       " ('whiteish colorless', 'colorless'),\n",
       " ('whiteish colorless', 'colorless'),\n",
       " ('red', 'red'),\n",
       " ('white', 'blue'),\n",
       " ('green blue', 'green'),\n",
       " ('pale yellow', 'colorless'),\n",
       " ('red', 'red'),\n",
       " ('white', 'colorless'),\n",
       " ('blue', 'blue'),\n",
       " ('white', 'colorless'),\n",
       " ('light', 'colorless'),\n",
       " ('greenish blue', 'green'),\n",
       " ('yellow', 'green'),\n",
       " ('white', 'colorless'),\n",
       " ('orange red', 'red'),\n",
       " ('white', 'colorless'),\n",
       " ('white', 'colorless'),\n",
       " ('whiteish colorless', 'colorless'),\n",
       " ('whiteish colorless', 'colorless'),\n",
       " ('light yellow', 'colorless'),\n",
       " ('whiteish colorless', 'colorless'),\n",
       " ('pale yellow', 'colorless'),\n",
       " ('purple red', 'red'),\n",
       " ('jasmine', 'colorless'),\n",
       " ('greenish blue', 'green'),\n",
       " ('white', 'colorless'),\n",
       " ('green blue', 'green'),\n",
       " ('green', 'green'),\n",
       " ('whiteish colorless', 'colorless'),\n",
       " ('brown yellow', 'colorless'),\n",
       " ('whiteish colorless', 'colorless'),\n",
       " ('beige', 'red'),\n",
       " ('whiteish colorless', 'colorless'),\n",
       " ('yellowish', 'colorless'),\n",
       " ('white', 'colorless'),\n",
       " ('whiteish colorless', 'colorless'),\n",
       " ('green', 'green'),\n",
       " ('white', 'colorless'),\n",
       " ('white', 'colorless'),\n",
       " ('white', 'colorless'),\n",
       " ('whiteish colorless', 'colorless'),\n",
       " ('light yellow', 'colorless'),\n",
       " ('whiteish colorless', 'colorless'),\n",
       " ('brown', 'brown'),\n",
       " ('white', 'colorless'),\n",
       " ('jasmine', 'colorless'),\n",
       " ('whiteish colorless', 'colorless'),\n",
       " ('blue', 'blue'),\n",
       " ('grey', 'brown'),\n",
       " ('light yellow', 'colorless'),\n",
       " ('whiteish colorless', 'colorless'),\n",
       " ('white', 'colorless'),\n",
       " ('greenish blue', 'blue'),\n",
       " ('white', 'colorless'),\n",
       " ('colorless', 'colorless'),\n",
       " ('white', 'colorless'),\n",
       " ('colorless', 'colorless'),\n",
       " ('grey', 'colorless'),\n",
       " ('white', 'colorless'),\n",
       " ('white', 'colorless'),\n",
       " ('white', 'brown'),\n",
       " ('light brown', 'green'),\n",
       " ('pale yellow', 'colorless'),\n",
       " ('white', 'colorless'),\n",
       " ('blue', 'blue'),\n",
       " ('white', 'colorless'),\n",
       " ('greenish blue', 'green'),\n",
       " ('white', 'colorless'),\n",
       " ('blue', 'blue'),\n",
       " ('white', 'colorless'),\n",
       " ('jasmine', 'colorless'),\n",
       " ('colorless', 'colorless'),\n",
       " ('colorless', 'colorless'),\n",
       " ('colorless', 'colorless'),\n",
       " ('greenish blue', 'blue'),\n",
       " ('light yellow', 'colorless'),\n",
       " ('white', 'colorless'),\n",
       " ('white', 'colorless'),\n",
       " ('green', 'green'),\n",
       " ('pale yellow', 'colorless')]"
      ]
     },
     "execution_count": 27,
     "metadata": {},
     "output_type": "execute_result"
    }
   ],
   "source": [
    "list(zip(le.inverse_transform(colormapper.predict(y_scaler.inverse_transform(median_prediction[allowed]))), names[allowed]))"
   ]
  },
  {
   "cell_type": "code",
   "execution_count": 28,
   "metadata": {},
   "outputs": [
    {
     "data": {
      "text/plain": [
       "0.15849486887115166"
      ]
     },
     "execution_count": 28,
     "metadata": {},
     "output_type": "execute_result"
    }
   ],
   "source": [
    "accuracy_score(names_encoded,colormapper.predict(y_scaler.inverse_transform(median_prediction[allowed])))"
   ]
  },
  {
   "cell_type": "code",
   "execution_count": 29,
   "metadata": {},
   "outputs": [],
   "source": [
    "blue_idx = [i for i, n in enumerate(names) if n == 'green']"
   ]
  },
  {
   "cell_type": "code",
   "execution_count": 3,
   "metadata": {},
   "outputs": [],
   "source": [
    "augmentation_dict = read_pickle('../data/augment_dict.pkl')"
   ]
  },
  {
   "cell_type": "code",
   "execution_count": 76,
   "metadata": {},
   "outputs": [
    {
     "name": "stderr",
     "output_type": "stream",
     "text": [
      "/Users/kevinmaikjablonka/Dropbox (LSMO)/proj75_mofcolor/ml/colorml/utils/utils.py:368: UserWarning: This figure includes Axes that are not compatible with tight_layout, so results might be incorrect.\n",
      "  fig.tight_layout()\n"
     ]
    },
    {
     "data": {
      "image/png": "[encoded data removed]",
      "text/plain": [
       "<Figure size 576x1152 with 1 Axes>"
      ]
     },
     "metadata": {
      "needs_background": "light"
     },
     "output_type": "display_data"
    }
   ],
   "source": [
    "plot_prediction_dist(y_scaler.inverse_transform(quantile01_prediction), \n",
    "                     y_scaler.inverse_transform(median_prediction), \n",
    "                     y_scaler.inverse_transform(quantile09_prediction),\n",
    "                     names,\n",
    "                     augmentation_dict, \n",
    "                     100\n",
    "                    )"
   ]
  },
  {
   "cell_type": "code",
   "execution_count": 43,
   "metadata": {},
   "outputs": [],
   "source": [
    "a = y_scaler.inverse_transform(median_prediction)"
   ]
  },
  {
   "cell_type": "code",
   "execution_count": 44,
   "metadata": {},
   "outputs": [],
   "source": [
    "b = y_scaler.inverse_transform(y_test)"
   ]
  },
  {
   "cell_type": "code",
   "execution_count": 45,
   "metadata": {},
   "outputs": [
    {
     "data": {
      "text/plain": [
       "<matplotlib.collections.PathCollection at 0x7f9597ace290>"
      ]
     },
     "execution_count": 45,
     "metadata": {},
     "output_type": "execute_result"
    },
    {
     "data": {
      "image/png": "[encoded data removed]",
      "text/plain": [
       "<Figure size 432x288 with 1 Axes>"
      ]
     },
     "metadata": {
      "needs_background": "light"
     },
     "output_type": "display_data"
    }
   ],
   "source": [
    "plt.scatter(y_scaler.inverse_transform(median_prediction).sum(axis=1), y_scaler.inverse_transform(y_test).sum(axis=1))"
   ]
  },
  {
   "cell_type": "code",
   "execution_count": 95,
   "metadata": {},
   "outputs": [],
   "source": [
    "def ColorDistance(rgb1,rgb2):\n",
    "    '''d = {} distance between two colors(3)'''\n",
    "    rm = 0.5*(rgb1[0]+rgb2[0])\n",
    "    d = np.sum((2+rm,4,3-rm)*(rgb1-rgb2)**2)**0.5\n",
    "    return d"
   ]
  },
  {
   "cell_type": "code",
   "execution_count": 97,
   "metadata": {},
   "outputs": [
    {
     "data": {
      "text/plain": [
       "289.8483108312105"
      ]
     },
     "execution_count": 97,
     "metadata": {},
     "output_type": "execute_result"
    }
   ],
   "source": [
    "ColorDistance(a[0], b[0])"
   ]
  },
  {
   "cell_type": "code",
   "execution_count": 99,
   "metadata": {},
   "outputs": [
    {
     "data": {
      "text/plain": [
       "array([251.68537309, 193.59362169, 252.43937189])"
      ]
     },
     "execution_count": 99,
     "metadata": {},
     "output_type": "execute_result"
    }
   ],
   "source": [
    "a[0]"
   ]
  },
  {
   "cell_type": "code",
   "execution_count": 100,
   "metadata": {},
   "outputs": [
    {
     "data": {
      "text/plain": [
       "array([232., 234., 244.])"
      ]
     },
     "execution_count": 100,
     "metadata": {},
     "output_type": "execute_result"
    }
   ],
   "source": [
    "b[0]"
   ]
  },
  {
   "cell_type": "code",
   "execution_count": 101,
   "metadata": {},
   "outputs": [
    {
     "name": "stdout",
     "output_type": "stream",
     "text": [
      "Processing /Users/kevinmaikjablonka/Library/Caches/pip/wheels/1a/d7/a7/458a4632ccc8bfe436f5e9db9fef1aa84e5d243a1b4b4c7b59/colormath-3.0.0-py3-none-any.whl\n",
      "Requirement already satisfied: numpy in /Users/kevinmaikjablonka/opt/miniconda3/envs/colorml2/lib/python3.7/site-packages (from colormath) (1.18.4)\n",
      "Requirement already satisfied: networkx>=2.0 in /Users/kevinmaikjablonka/opt/miniconda3/envs/colorml2/lib/python3.7/site-packages (from colormath) (2.4)\n",
      "Requirement already satisfied: decorator>=4.3.0 in /Users/kevinmaikjablonka/opt/miniconda3/envs/colorml2/lib/python3.7/site-packages (from networkx>=2.0->colormath) (4.4.2)\n",
      "Installing collected packages: colormath\n",
      "Successfully installed colormath-3.0.0\n"
     ]
    }
   ],
   "source": [
    "!pip install colormath"
   ]
  },
  {
   "cell_type": "code",
   "execution_count": 9,
   "metadata": {},
   "outputs": [
    {
     "ename": "NameError",
     "evalue": "name 'a' is not defined",
     "output_type": "error",
     "traceback": [
      "\u001b[0;31m---------------------------------------------------------------------------\u001b[0m",
      "\u001b[0;31mNameError\u001b[0m                                 Traceback (most recent call last)",
      "\u001b[0;32m<ipython-input-9-1a0c19acd4b4>\u001b[0m in \u001b[0;36m<module>\u001b[0;34m\u001b[0m\n\u001b[1;32m      4\u001b[0m \u001b[0;34m\u001b[0m\u001b[0m\n\u001b[1;32m      5\u001b[0m \u001b[0mi\u001b[0m \u001b[0;34m=\u001b[0m \u001b[0;36m9\u001b[0m\u001b[0;34m\u001b[0m\u001b[0;34m\u001b[0m\u001b[0m\n\u001b[0;32m----> 6\u001b[0;31m \u001b[0mcolor1_rgb\u001b[0m \u001b[0;34m=\u001b[0m \u001b[0msRGBColor\u001b[0m\u001b[0;34m(\u001b[0m\u001b[0ma\u001b[0m\u001b[0;34m[\u001b[0m\u001b[0mi\u001b[0m\u001b[0;34m]\u001b[0m\u001b[0;34m[\u001b[0m\u001b[0;36m0\u001b[0m\u001b[0;34m]\u001b[0m\u001b[0;34m,\u001b[0m \u001b[0ma\u001b[0m\u001b[0;34m[\u001b[0m\u001b[0mi\u001b[0m\u001b[0;34m]\u001b[0m\u001b[0;34m[\u001b[0m\u001b[0;36m1\u001b[0m\u001b[0;34m]\u001b[0m\u001b[0;34m,\u001b[0m \u001b[0ma\u001b[0m\u001b[0;34m[\u001b[0m\u001b[0mi\u001b[0m\u001b[0;34m]\u001b[0m\u001b[0;34m[\u001b[0m\u001b[0;36m2\u001b[0m\u001b[0;34m]\u001b[0m\u001b[0;34m,\u001b[0m \u001b[0mis_upscaled\u001b[0m\u001b[0;34m=\u001b[0m\u001b[0;32mTrue\u001b[0m\u001b[0;34m)\u001b[0m\u001b[0;34m\u001b[0m\u001b[0;34m\u001b[0m\u001b[0m\n\u001b[0m\u001b[1;32m      7\u001b[0m \u001b[0;34m\u001b[0m\u001b[0m\n\u001b[1;32m      8\u001b[0m \u001b[0;31m# Blue Color\u001b[0m\u001b[0;34m\u001b[0m\u001b[0;34m\u001b[0m\u001b[0;34m\u001b[0m\u001b[0m\n",
      "\u001b[0;31mNameError\u001b[0m: name 'a' is not defined"
     ]
    }
   ],
   "source": [
    "from colormath.color_objects import sRGBColor, LabColor\n",
    "from colormath.color_conversions import convert_color\n",
    "from colormath.color_diff import delta_e_cie2000# Red Color\n",
    "\n",
    "i = 9\n",
    "color1_rgb = sRGBColor(a[i][0], a[i][1], a[i][2], is_upscaled=True)\n",
    "\n",
    "# Blue Color\n",
    "color2_rgb = sRGBColor(b[i][0], b[i][1], b[i][2], is_upscaled=True)\n",
    "\n",
    "# Convert from RGB to Lab Color Space\n",
    "color1_lab = convert_color(color1_rgb, LabColor);\n",
    "\n",
    "# Convert from RGB to Lab Color Space\n",
    "color2_lab = convert_color(color2_rgb, LabColor);\n",
    "\n",
    "# Find the color difference\n",
    "delta_e = delta_e_cie2000(color1_lab, color2_lab);"
   ]
  },
  {
   "cell_type": "code",
   "execution_count": null,
   "metadata": {},
   "outputs": [],
   "source": [
    "delta_e"
   ]
  },
  {
   "cell_type": "code",
   "execution_count": null,
   "metadata": {},
   "outputs": [],
   "source": [
    "def get_delta_e(rgba, rgbb, upscaled=True):\n",
    "    color1_rgb = sRGBColor(rgba[0], rgba[1], rgba[2], is_upscaled=True)\n",
    "    color2_rgb = sRGBColor(rgbb[0], rgbb[1], rgbb[2], is_upscaled=True)\n",
    "\n",
    "    # Convert from RGB to Lab Color Space\n",
    "    color1_lab = convert_color(color1_rgb, LabColor);\n",
    "\n",
    "    # Convert from RGB to Lab Color Space\n",
    "    color2_lab = convert_color(color2_rgb, LabColor);\n",
    "\n",
    "    # Find the color difference\n",
    "    delta_e = delta_e_cie2000(color1_lab, color2_lab)\n",
    "    \n",
    "    return delta_e"
   ]
  },
  {
   "cell_type": "code",
   "execution_count": 16,
   "metadata": {},
   "outputs": [],
   "source": [
    "color_delta_es = {}\n",
    "means = []\n",
    "\n",
    "for k,v in augmentation_dict.items():\n",
    "    colors = len(v)\n",
    "    meanc = []\n",
    "    for i in range(colors):\n",
    "        for j in range(colors): \n",
    "            if j>i: \n",
    "                meanc.append(get_delta_e(v[i], v[j]))\n",
    "    color_delta_es[k] = meanc\n",
    "    means.extend(meanc)"
   ]
  },
  {
   "cell_type": "code",
   "execution_count": 13,
   "metadata": {},
   "outputs": [],
   "source": [
    "color_delta_es_medians = {}\n",
    "\n",
    "for k, v in color_delta_es.items():\n",
    "    color_delta_es_medians[k] = np.median(v)"
   ]
  },
  {
   "cell_type": "code",
   "execution_count": 27,
   "metadata": {},
   "outputs": [],
   "source": [
    "smaller_5 = (np.array(list(color_delta_es_medians.values())) < 5)"
   ]
  },
  {
   "cell_type": "code",
   "execution_count": 32,
   "metadata": {},
   "outputs": [
    {
     "data": {
      "text/plain": [
       "3.571428571428571"
      ]
     },
     "execution_count": 32,
     "metadata": {},
     "output_type": "execute_result"
    }
   ],
   "source": [
    "5/len(color_delta_es_medians) * 100"
   ]
  },
  {
   "cell_type": "code",
   "execution_count": 33,
   "metadata": {
    "collapsed": true,
    "jupyter": {
     "outputs_hidden": true
    }
   },
   "outputs": [
    {
     "data": {
      "text/plain": [
       "{'amaranthine': 17.133877049889005,\n",
       " 'amber': 16.78250967501643,\n",
       " 'aquamarine': 27.45493439923363,\n",
       " 'aubergine': 6.360234526029811,\n",
       " 'azure': 18.752863616883594,\n",
       " 'beige': 12.854870238330793,\n",
       " 'black': 0.6690403877721824,\n",
       " 'black brown': 11.943324183679362,\n",
       " 'black green': 10.680589448715498,\n",
       " 'black purple': 7.100646533995645,\n",
       " 'black red': 7.316397139858927,\n",
       " 'blackish purple': 7.501906673417155,\n",
       " 'blue': 14.374019133608591,\n",
       " 'blue green': 14.113023555911655,\n",
       " 'blue violet': 9.350659328581383,\n",
       " 'bluish violet': 6.653436361818926,\n",
       " 'bright yellow': 5.867390831373608,\n",
       " 'brown': 12.74530260973152,\n",
       " 'brown orange': 14.884015337391311,\n",
       " 'brown red': 6.457411928005046,\n",
       " 'brown yellow': 12.496612952817975,\n",
       " 'buff': 32.2950033705394,\n",
       " 'cherry red': 12.279362263428574,\n",
       " 'claybank': 26.17503421182174,\n",
       " 'colorless': 5.66194485216962,\n",
       " 'crimson': 15.245030137048277,\n",
       " 'cyan': 10.528766477682769,\n",
       " 'dark blue': 5.701484194374697,\n",
       " 'dark brown': 9.349806779377232,\n",
       " 'dark green': 12.480497096937468,\n",
       " 'dark orange': 10.747125373587378,\n",
       " 'dark pink': 10.27855645003303,\n",
       " 'dark purple': 7.523669307711116,\n",
       " 'dark purplish red': 12.36757355316449,\n",
       " 'dark red': 6.176829511481199,\n",
       " 'dark rose': 12.895740988895119,\n",
       " 'dark turquiose': 17.60741866214654,\n",
       " 'dark violet': 7.042387326294636,\n",
       " 'dark yellow': 13.219799003089701,\n",
       " 'deep blue': 8.81816192869001,\n",
       " 'deep blue black': 6.525324494364517,\n",
       " 'deep brown': 12.96528108037892,\n",
       " 'deep green': 18.622560368496288,\n",
       " 'deep purple': 8.33666228674162,\n",
       " 'deep red': 11.005713852625174,\n",
       " 'deep yellow': 11.43686846665775,\n",
       " 'dull dark black': 7.001059538516012,\n",
       " 'faint pink': 8.161347469844088,\n",
       " 'flavescens': 21.46079613518687,\n",
       " 'glaucous': 26.643838017860027,\n",
       " 'gold': 7.950102534570378,\n",
       " 'golden yellow': 8.816294977230498,\n",
       " 'grass green': 15.130271707269088,\n",
       " 'gray': 7.181317402270971,\n",
       " 'green': 13.690549938500281,\n",
       " 'green black': 11.298195744373524,\n",
       " 'green blue': 16.898153801476102,\n",
       " 'green brown': 15.321586396596985,\n",
       " 'green yellow': 8.257992812108533,\n",
       " 'green/brown': 13.237079831557539,\n",
       " 'greenish blue': 18.529433259910537,\n",
       " 'greenish cyan': 14.07132016887143,\n",
       " 'greenish green': 23.94737619685572,\n",
       " 'greenish yellow': 7.5972890509915345,\n",
       " 'grey': 6.110061654615032,\n",
       " 'intense purple': 8.095626915800324,\n",
       " 'intense violet': 8.121173761743934,\n",
       " 'jasmine': 34.730790238356704,\n",
       " 'jonquil': 22.042778404291596,\n",
       " 'lavender': 17.270011222177033,\n",
       " 'light': 11.11606541727216,\n",
       " 'light blue': 12.336657595278464,\n",
       " 'light brown': 16.136946179773016,\n",
       " 'light colorless': 6.279734355705891,\n",
       " 'light green': 11.677841952736468,\n",
       " 'light orange': 10.198727006863617,\n",
       " 'light pink': 10.622954430172387,\n",
       " 'light purple': 9.929311500494036,\n",
       " 'light red': 11.934904829590018,\n",
       " 'light yellow': 9.561707389242372,\n",
       " 'lilac': 8.058658205693584,\n",
       " 'magenta': 13.310122708022146,\n",
       " 'mauve': 15.651343901080583,\n",
       " 'navy blue': 7.9478455878061895,\n",
       " 'orange': 8.16806360824283,\n",
       " 'orange brown': 14.981359226818487,\n",
       " 'orange red': 8.03163068475089,\n",
       " 'orange yellow': 9.766200016725996,\n",
       " 'pale blue': 16.789446612181163,\n",
       " 'pale brown': 16.617340568063643,\n",
       " 'pale green': 10.190398181741765,\n",
       " 'pale purple': 8.573874818532765,\n",
       " 'pale red': 14.303353576826956,\n",
       " 'pale straw': 8.413989541773622,\n",
       " 'pale violet': 10.600590822974006,\n",
       " 'pale yellow': 7.774794292163804,\n",
       " 'peach': 15.132843581906243,\n",
       " 'pink': 11.95667815395721,\n",
       " 'pink purple': 8.951774649899058,\n",
       " 'pink red': 11.701249876777531,\n",
       " 'pink violet': 9.180635254907585,\n",
       " 'pink/purple': 7.8299648232801635,\n",
       " 'primrose yellow': 14.919898316961456,\n",
       " 'purple': 10.152765205320192,\n",
       " 'purple black': 6.074160955112879,\n",
       " 'purple blue': 6.356865095763009,\n",
       " 'purple red': 12.336701173072097,\n",
       " 'red': 3.80310047471053,\n",
       " 'red black': 7.115426737853971,\n",
       " 'red brown': 10.782339647030689,\n",
       " 'red orange': 6.546979849863224,\n",
       " 'red purple': 13.131239704394131,\n",
       " 'red violet': 15.075407573965485,\n",
       " 'red yellow': 19.9968942302962,\n",
       " 'red/purple': 17.485708718561273,\n",
       " 'reddish': 13.907367768332792,\n",
       " 'reddish brown': 11.31802034462602,\n",
       " 'reddish purple': 10.513251536889863,\n",
       " 'rose': 14.288549302631408,\n",
       " 'ruby red': 12.564889851036837,\n",
       " 'scarlet': 8.47058633743471,\n",
       " 'sky blue': 13.273755325702354,\n",
       " 'slightly pink': 11.986689257927567,\n",
       " 'straw yellow': 13.389519233741185,\n",
       " 'translucent': 6.678972829477253,\n",
       " 'turquoise': 12.843072963682216,\n",
       " 'turquoise blue': 17.29704997349561,\n",
       " 'violet': 6.598547290647417,\n",
       " 'violet red': 12.802553304734774,\n",
       " 'wheat': 13.265979005253058,\n",
       " 'white': 1.7391855551961855,\n",
       " 'whiteish colorless': 3.852821872610063,\n",
       " 'yellow': 4.564737857337586,\n",
       " 'yellow green': 7.000665259784732,\n",
       " 'yellow orange': 8.88434776291503,\n",
       " 'yellow red': 20.64525879145687,\n",
       " 'yellowish': 11.272343030888624,\n",
       " 'yellowish green': 10.321903420412879,\n",
       " 'yellowish white': 6.259264111982206,\n",
       " 'yellowish yellow': 10.527360961929816}"
      ]
     },
     "execution_count": 33,
     "metadata": {},
     "output_type": "execute_result"
    }
   ],
   "source": [
    "color_delta_es_medians"
   ]
  },
  {
   "cell_type": "code",
   "execution_count": 29,
   "metadata": {},
   "outputs": [
    {
     "data": {
      "text/plain": [
       "array(['black', 'red', 'white', 'whiteish colorless', 'yellow'],\n",
       "      dtype='<U18')"
      ]
     },
     "execution_count": 29,
     "metadata": {},
     "output_type": "execute_result"
    }
   ],
   "source": [
    "np.array(list(color_delta_es_medians.keys()))[smaller_5]"
   ]
  },
  {
   "cell_type": "code",
   "execution_count": 36,
   "metadata": {},
   "outputs": [
    {
     "data": {
      "text/plain": [
       "12.10887233993671"
      ]
     },
     "execution_count": 36,
     "metadata": {},
     "output_type": "execute_result"
    }
   ],
   "source": [
    "np.mean(means)"
   ]
  },
  {
   "cell_type": "code",
   "execution_count": 34,
   "metadata": {},
   "outputs": [
    {
     "data": {
      "text/plain": [
       "(array([1.4676e+04, 1.0977e+04, 3.5140e+03, 1.1500e+03, 5.1600e+02,\n",
       "        2.2800e+02, 9.6000e+01, 3.4000e+01, 2.7000e+01, 1.0000e+01]),\n",
       " array([ 0.        ,  9.23715197, 18.47430394, 27.71145591, 36.94860788,\n",
       "        46.18575985, 55.42291182, 64.66006379, 73.89721576, 83.13436773,\n",
       "        92.3715197 ]),\n",
       " <a list of 10 Patch objects>)"
      ]
     },
     "execution_count": 34,
     "metadata": {},
     "output_type": "execute_result"
    },
    {
     "data": {
      "image/png": "[encoded data removed]",
      "text/plain": [
       "<Figure size 432x288 with 1 Axes>"
      ]
     },
     "metadata": {
      "needs_background": "light"
     },
     "output_type": "display_data"
    }
   ],
   "source": [
    "plt.hist(means)"
   ]
  },
  {
   "cell_type": "code",
   "execution_count": 46,
   "metadata": {},
   "outputs": [],
   "source": [
    "differences = []\n",
    "\n",
    "\n",
    "for ca, cb in zip(a, b):\n",
    "    differences.append(get_delta_e(ca, cb))"
   ]
  },
  {
   "cell_type": "code",
   "execution_count": 47,
   "metadata": {},
   "outputs": [
    {
     "data": {
      "text/plain": [
       "16.132311267360382"
      ]
     },
     "execution_count": 47,
     "metadata": {},
     "output_type": "execute_result"
    }
   ],
   "source": [
    "np.median(differences)"
   ]
  },
  {
   "cell_type": "code",
   "execution_count": 155,
   "metadata": {},
   "outputs": [],
   "source": [
    "import seaborn as sns"
   ]
  },
  {
   "cell_type": "code",
   "execution_count": 157,
   "metadata": {},
   "outputs": [
    {
     "data": {
      "text/plain": [
       "<matplotlib.legend.Legend at 0x7f84a5909dd0>"
      ]
     },
     "execution_count": 157,
     "metadata": {},
     "output_type": "execute_result"
    },
    {
     "data": {
      "image/png": "[encoded data removed]",
      "text/plain": [
       "<Figure size 432x288 with 1 Axes>"
      ]
     },
     "metadata": {
      "needs_background": "light"
     },
     "output_type": "display_data"
    }
   ],
   "source": [
    "plt.hist(differences, density=True, alpha=.5, label='predictions')\n",
    "plt.hist(means, density=True, alpha=.5, label='survey')\n",
    "plt.xlabel('CIE color distance ΔE*ab')\n",
    "plt.legend()"
   ]
  },
  {
   "cell_type": "code",
   "execution_count": null,
   "metadata": {},
   "outputs": [],
   "source": []
  }
 ],
 "metadata": {
  "kernelspec": {
   "display_name": "Python [conda env:colorml2] *",
   "language": "python",
   "name": "conda-env-colorml2-py"
  },
  "language_info": {
   "codemirror_mode": {
    "name": "ipython",
    "version": 3
   },
   "file_extension": ".py",
   "mimetype": "text/x-python",
   "name": "python",
   "nbconvert_exporter": "python",
   "pygments_lexer": "ipython3",
   "version": "3.7.6"
  }
 },
 "nbformat": 4,
 "nbformat_minor": 4
}
