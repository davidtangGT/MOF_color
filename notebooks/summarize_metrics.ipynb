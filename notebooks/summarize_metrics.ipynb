{
 "cells": [
  {
   "cell_type": "markdown",
   "metadata": {},
   "source": [
    "# Take a look at the bootstrapped metrics"
   ]
  },
  {
   "cell_type": "code",
   "execution_count": 2,
   "metadata": {},
   "outputs": [],
   "source": [
    "import pandas as pd \n",
    "import numpy as np \n",
    "\n",
    "import seaborn as sns\n",
    "import matplotlib.pyplot as plt \n",
    "%matplotlib inline"
   ]
  },
  {
   "cell_type": "code",
   "execution_count": 3,
   "metadata": {},
   "outputs": [],
   "source": [
    "df_results = pd.read_csv('../results/model_bootsrapped_results.csv')"
   ]
  },
  {
   "cell_type": "code",
   "execution_count": 5,
   "metadata": {},
   "outputs": [],
   "source": [
    "df_mean = pd.read_csv('../results/mean_bootsrapped_results.csv')"
   ]
  },
  {
   "cell_type": "code",
   "execution_count": 6,
   "metadata": {},
   "outputs": [],
   "source": [
    "df_median = pd.read_csv('../results/median_bootsrapped_results.csv')"
   ]
  },
  {
   "cell_type": "code",
   "execution_count": 7,
   "metadata": {},
   "outputs": [
    {
     "data": {
      "text/html": [
       "<div>\n",
       "<style scoped>\n",
       "    .dataframe tbody tr th:only-of-type {\n",
       "        vertical-align: middle;\n",
       "    }\n",
       "\n",
       "    .dataframe tbody tr th {\n",
       "        vertical-align: top;\n",
       "    }\n",
       "\n",
       "    .dataframe thead th {\n",
       "        text-align: right;\n",
       "    }\n",
       "</style>\n",
       "<table border=\"1\" class=\"dataframe\">\n",
       "  <thead>\n",
       "    <tr style=\"text-align: right;\">\n",
       "      <th></th>\n",
       "      <th>r2</th>\n",
       "      <th>mae</th>\n",
       "      <th>mse</th>\n",
       "      <th>mdae</th>\n",
       "      <th>median_delta_e</th>\n",
       "      <th>mean_delta_e</th>\n",
       "    </tr>\n",
       "  </thead>\n",
       "  <tbody>\n",
       "    <tr>\n",
       "      <th>count</th>\n",
       "      <td>5000.000000</td>\n",
       "      <td>5000.000000</td>\n",
       "      <td>5000.000000</td>\n",
       "      <td>5000.000000</td>\n",
       "      <td>5000.000000</td>\n",
       "      <td>5000.000000</td>\n",
       "    </tr>\n",
       "    <tr>\n",
       "      <th>mean</th>\n",
       "      <td>-0.309609</td>\n",
       "      <td>0.239101</td>\n",
       "      <td>0.172991</td>\n",
       "      <td>0.031527</td>\n",
       "      <td>11.964449</td>\n",
       "      <td>28.612249</td>\n",
       "    </tr>\n",
       "    <tr>\n",
       "      <th>std</th>\n",
       "      <td>0.021764</td>\n",
       "      <td>0.009049</td>\n",
       "      <td>0.007676</td>\n",
       "      <td>0.007278</td>\n",
       "      <td>3.673638</td>\n",
       "      <td>0.823581</td>\n",
       "    </tr>\n",
       "    <tr>\n",
       "      <th>min</th>\n",
       "      <td>-0.394471</td>\n",
       "      <td>0.208596</td>\n",
       "      <td>0.146116</td>\n",
       "      <td>0.026144</td>\n",
       "      <td>10.065196</td>\n",
       "      <td>25.584624</td>\n",
       "    </tr>\n",
       "    <tr>\n",
       "      <th>25%</th>\n",
       "      <td>-0.323962</td>\n",
       "      <td>0.232990</td>\n",
       "      <td>0.167742</td>\n",
       "      <td>0.026144</td>\n",
       "      <td>10.065196</td>\n",
       "      <td>28.038107</td>\n",
       "    </tr>\n",
       "    <tr>\n",
       "      <th>50%</th>\n",
       "      <td>-0.308852</td>\n",
       "      <td>0.238995</td>\n",
       "      <td>0.172926</td>\n",
       "      <td>0.026144</td>\n",
       "      <td>10.065196</td>\n",
       "      <td>28.605860</td>\n",
       "    </tr>\n",
       "    <tr>\n",
       "      <th>75%</th>\n",
       "      <td>-0.294478</td>\n",
       "      <td>0.245250</td>\n",
       "      <td>0.178170</td>\n",
       "      <td>0.039216</td>\n",
       "      <td>10.065196</td>\n",
       "      <td>29.178396</td>\n",
       "    </tr>\n",
       "    <tr>\n",
       "      <th>max</th>\n",
       "      <td>-0.241404</td>\n",
       "      <td>0.270085</td>\n",
       "      <td>0.200326</td>\n",
       "      <td>0.056209</td>\n",
       "      <td>27.503301</td>\n",
       "      <td>32.154241</td>\n",
       "    </tr>\n",
       "  </tbody>\n",
       "</table>\n",
       "</div>"
      ],
      "text/plain": [
       "                r2          mae          mse         mdae  median_delta_e  \\\n",
       "count  5000.000000  5000.000000  5000.000000  5000.000000     5000.000000   \n",
       "mean     -0.309609     0.239101     0.172991     0.031527       11.964449   \n",
       "std       0.021764     0.009049     0.007676     0.007278        3.673638   \n",
       "min      -0.394471     0.208596     0.146116     0.026144       10.065196   \n",
       "25%      -0.323962     0.232990     0.167742     0.026144       10.065196   \n",
       "50%      -0.308852     0.238995     0.172926     0.026144       10.065196   \n",
       "75%      -0.294478     0.245250     0.178170     0.039216       10.065196   \n",
       "max      -0.241404     0.270085     0.200326     0.056209       27.503301   \n",
       "\n",
       "       mean_delta_e  \n",
       "count   5000.000000  \n",
       "mean      28.612249  \n",
       "std        0.823581  \n",
       "min       25.584624  \n",
       "25%       28.038107  \n",
       "50%       28.605860  \n",
       "75%       29.178396  \n",
       "max       32.154241  "
      ]
     },
     "execution_count": 7,
     "metadata": {},
     "output_type": "execute_result"
    }
   ],
   "source": [
    "df_median.describe()"
   ]
  },
  {
   "cell_type": "code",
   "execution_count": 8,
   "metadata": {},
   "outputs": [
    {
     "data": {
      "text/html": [
       "<div>\n",
       "<style scoped>\n",
       "    .dataframe tbody tr th:only-of-type {\n",
       "        vertical-align: middle;\n",
       "    }\n",
       "\n",
       "    .dataframe tbody tr th {\n",
       "        vertical-align: top;\n",
       "    }\n",
       "\n",
       "    .dataframe thead th {\n",
       "        text-align: right;\n",
       "    }\n",
       "</style>\n",
       "<table border=\"1\" class=\"dataframe\">\n",
       "  <thead>\n",
       "    <tr style=\"text-align: right;\">\n",
       "      <th></th>\n",
       "      <th>r2</th>\n",
       "      <th>mae</th>\n",
       "      <th>mse</th>\n",
       "      <th>mdae</th>\n",
       "      <th>median_delta_e</th>\n",
       "      <th>mean_delta_e</th>\n",
       "    </tr>\n",
       "  </thead>\n",
       "  <tbody>\n",
       "    <tr>\n",
       "      <th>count</th>\n",
       "      <td>5000.000000</td>\n",
       "      <td>5000.000000</td>\n",
       "      <td>5000.000000</td>\n",
       "      <td>5000.000000</td>\n",
       "      <td>5000.000000</td>\n",
       "      <td>5000.000000</td>\n",
       "    </tr>\n",
       "    <tr>\n",
       "      <th>mean</th>\n",
       "      <td>-0.001557</td>\n",
       "      <td>0.312619</td>\n",
       "      <td>0.131295</td>\n",
       "      <td>0.226624</td>\n",
       "      <td>20.205102</td>\n",
       "      <td>30.243022</td>\n",
       "    </tr>\n",
       "    <tr>\n",
       "      <th>std</th>\n",
       "      <td>0.001450</td>\n",
       "      <td>0.004318</td>\n",
       "      <td>0.003686</td>\n",
       "      <td>0.001713</td>\n",
       "      <td>2.217248</td>\n",
       "      <td>0.466470</td>\n",
       "    </tr>\n",
       "    <tr>\n",
       "      <th>min</th>\n",
       "      <td>-0.015163</td>\n",
       "      <td>0.295464</td>\n",
       "      <td>0.116602</td>\n",
       "      <td>0.225949</td>\n",
       "      <td>19.173710</td>\n",
       "      <td>28.397520</td>\n",
       "    </tr>\n",
       "    <tr>\n",
       "      <th>25%</th>\n",
       "      <td>-0.002129</td>\n",
       "      <td>0.309699</td>\n",
       "      <td>0.128792</td>\n",
       "      <td>0.225949</td>\n",
       "      <td>19.173710</td>\n",
       "      <td>29.930906</td>\n",
       "    </tr>\n",
       "    <tr>\n",
       "      <th>50%</th>\n",
       "      <td>-0.001127</td>\n",
       "      <td>0.312572</td>\n",
       "      <td>0.131203</td>\n",
       "      <td>0.225949</td>\n",
       "      <td>19.173710</td>\n",
       "      <td>30.245186</td>\n",
       "    </tr>\n",
       "    <tr>\n",
       "      <th>75%</th>\n",
       "      <td>-0.000529</td>\n",
       "      <td>0.315563</td>\n",
       "      <td>0.133756</td>\n",
       "      <td>0.225949</td>\n",
       "      <td>19.173710</td>\n",
       "      <td>30.541071</td>\n",
       "    </tr>\n",
       "    <tr>\n",
       "      <th>max</th>\n",
       "      <td>-0.000004</td>\n",
       "      <td>0.329224</td>\n",
       "      <td>0.144976</td>\n",
       "      <td>0.251439</td>\n",
       "      <td>29.171411</td>\n",
       "      <td>32.078628</td>\n",
       "    </tr>\n",
       "  </tbody>\n",
       "</table>\n",
       "</div>"
      ],
      "text/plain": [
       "                r2          mae          mse         mdae  median_delta_e  \\\n",
       "count  5000.000000  5000.000000  5000.000000  5000.000000     5000.000000   \n",
       "mean     -0.001557     0.312619     0.131295     0.226624       20.205102   \n",
       "std       0.001450     0.004318     0.003686     0.001713        2.217248   \n",
       "min      -0.015163     0.295464     0.116602     0.225949       19.173710   \n",
       "25%      -0.002129     0.309699     0.128792     0.225949       19.173710   \n",
       "50%      -0.001127     0.312572     0.131203     0.225949       19.173710   \n",
       "75%      -0.000529     0.315563     0.133756     0.225949       19.173710   \n",
       "max      -0.000004     0.329224     0.144976     0.251439       29.171411   \n",
       "\n",
       "       mean_delta_e  \n",
       "count   5000.000000  \n",
       "mean      30.243022  \n",
       "std        0.466470  \n",
       "min       28.397520  \n",
       "25%       29.930906  \n",
       "50%       30.245186  \n",
       "75%       30.541071  \n",
       "max       32.078628  "
      ]
     },
     "execution_count": 8,
     "metadata": {},
     "output_type": "execute_result"
    }
   ],
   "source": [
    "df_mean.describe()"
   ]
  },
  {
   "cell_type": "code",
   "execution_count": 9,
   "metadata": {},
   "outputs": [],
   "source": [
    "maes =   {'model': ['GBDT'] * len(df_results) + ['mean dummy'] * len(df_mean) + ['median dummy'] * len(df_median),\n",
    "          'mae': list(df_results['mae']) + list(df_mean['mae']) + list(df_median['mae'])\n",
    "         }"
   ]
  },
  {
   "cell_type": "code",
   "execution_count": 10,
   "metadata": {},
   "outputs": [],
   "source": [
    "delta_es =   {'model': ['GBDT'] * len(df_results) + ['mean dummy'] * len(df_mean) + ['median dummy'] * len(df_median),\n",
    "          'es': list(df_results['median_delta_e']) + list(df_mean['median_delta_e']) + list(df_median['median_delta_e'])\n",
    "         }"
   ]
  },
  {
   "cell_type": "code",
   "execution_count": 11,
   "metadata": {},
   "outputs": [],
   "source": [
    "delta_r2 =   {'model': ['GBDT'] * len(df_results) + ['mean dummy'] * len(df_mean) + ['median dummy'] * len(df_median),\n",
    "          'r2': list(df_results['r2']) + list(df_mean['r2']) + list(df_median['r2'])\n",
    "         }"
   ]
  },
  {
   "cell_type": "code",
   "execution_count": 12,
   "metadata": {},
   "outputs": [],
   "source": [
    "df_mae = pd.DataFrame(maes)"
   ]
  },
  {
   "cell_type": "code",
   "execution_count": 13,
   "metadata": {},
   "outputs": [],
   "source": [
    "df_es = pd.DataFrame(delta_es)"
   ]
  },
  {
   "cell_type": "code",
   "execution_count": 14,
   "metadata": {},
   "outputs": [],
   "source": [
    "df_r2 = pd.DataFrame(delta_r2)"
   ]
  },
  {
   "cell_type": "code",
   "execution_count": 22,
   "metadata": {
    "scrolled": true
   },
   "outputs": [
    {
     "name": "stderr",
     "output_type": "stream",
     "text": [
      "/Users/kevinmaikjablonka/opt/miniconda3/envs/colorml2/lib/python3.7/site-packages/ipykernel_launcher.py:7: MatplotlibDeprecationWarning: \n",
      "The set_smart_bounds function was deprecated in Matplotlib 3.2 and will be removed two minor releases later.\n",
      "  import sys\n",
      "/Users/kevinmaikjablonka/opt/miniconda3/envs/colorml2/lib/python3.7/site-packages/ipykernel_launcher.py:8: MatplotlibDeprecationWarning: \n",
      "The set_smart_bounds function was deprecated in Matplotlib 3.2 and will be removed two minor releases later.\n",
      "  \n"
     ]
    },
    {
     "data": {
      "image/png": "[encoded data removed]",
      "text/plain": [
       "<Figure size 432x576 with 3 Axes>"
      ]
     },
     "metadata": {
      "needs_background": "light"
     },
     "output_type": "display_data"
    }
   ],
   "source": [
    "fig, ax = plt.subplots(3,1, figsize=(6,8))\n",
    "\n",
    "\n",
    "for a in ax:\n",
    "    a.spines['top'].set_color('none')\n",
    "    a.spines['right'].set_color('none')\n",
    "    a.spines['left'].set_smart_bounds(True)\n",
    "    a.spines['bottom'].set_smart_bounds(True)\n",
    "\n",
    "sns.violinplot(data=df_mae, x='model', y='mae', ax=ax[0], scale='width')\n",
    "sns.violinplot(data=df_es, x='model', y='es', ax=ax[1], scale='width')\n",
    "sns.violinplot(data=df_r2, x='model', y='r2', ax=ax[2], scale='width')\n",
    "\n",
    "ax[1].set_xlabel('regressor')\n",
    "ax[0].set_ylabel('mean absolute error')\n",
    "ax[1].set_ylabel(r'$\\Delta E^*_{ab}$')\n",
    "ax[2].set_ylabel(r'$r^2$ score')\n",
    "\n",
    "fig.tight_layout()\n",
    "\n",
    "fig.savefig('../results/metrics_bootsrapped.pdf', bbox_inches='tight')"
   ]
  },
  {
   "cell_type": "code",
   "execution_count": 26,
   "metadata": {},
   "outputs": [
    {
     "data": {
      "text/plain": [
       "0.5710940885489546"
      ]
     },
     "execution_count": 26,
     "metadata": {},
     "output_type": "execute_result"
    }
   ],
   "source": [
    "np.percentile(df_results['r2'], 95)"
   ]
  },
  {
   "cell_type": "code",
   "execution_count": 27,
   "metadata": {},
   "outputs": [
    {
     "data": {
      "text/plain": [
       "0.4967550797531707"
      ]
     },
     "execution_count": 27,
     "metadata": {},
     "output_type": "execute_result"
    }
   ],
   "source": [
    "np.percentile(df_results['r2'], 5)"
   ]
  },
  {
   "cell_type": "code",
   "execution_count": 38,
   "metadata": {},
   "outputs": [
    {
     "data": {
      "text/plain": [
       "16.835198997875906"
      ]
     },
     "execution_count": 38,
     "metadata": {},
     "output_type": "execute_result"
    }
   ],
   "source": [
    "df_results['mean_delta_e'].median()"
   ]
  },
  {
   "cell_type": "code",
   "execution_count": 34,
   "metadata": {},
   "outputs": [
    {
     "data": {
      "text/plain": [
       "-0.0015568588120349976"
      ]
     },
     "execution_count": 34,
     "metadata": {},
     "output_type": "execute_result"
    }
   ],
   "source": [
    "df_mean['r2'].mean()"
   ]
  },
  {
   "cell_type": "code",
   "execution_count": 35,
   "metadata": {},
   "outputs": [
    {
     "data": {
      "text/plain": [
       "-0.0001468861250421819"
      ]
     },
     "execution_count": 35,
     "metadata": {},
     "output_type": "execute_result"
    }
   ],
   "source": [
    "np.percentile(df_mean['r2'], 95)"
   ]
  },
  {
   "cell_type": "code",
   "execution_count": 36,
   "metadata": {},
   "outputs": [
    {
     "data": {
      "text/plain": [
       "-0.004435873880890011"
      ]
     },
     "execution_count": 36,
     "metadata": {},
     "output_type": "execute_result"
    }
   ],
   "source": [
    "np.percentile(df_mean['r2'], 5)"
   ]
  },
  {
   "cell_type": "code",
   "execution_count": 39,
   "metadata": {},
   "outputs": [
    {
     "data": {
      "text/plain": [
       "15.868903507514442"
      ]
     },
     "execution_count": 39,
     "metadata": {},
     "output_type": "execute_result"
    }
   ],
   "source": [
    "np.percentile(df_results['mean_delta_e'], 5)"
   ]
  },
  {
   "cell_type": "code",
   "execution_count": 40,
   "metadata": {},
   "outputs": [
    {
     "data": {
      "text/plain": [
       "17.837790694812472"
      ]
     },
     "execution_count": 40,
     "metadata": {},
     "output_type": "execute_result"
    }
   ],
   "source": [
    "np.percentile(df_results['mean_delta_e'], 95)"
   ]
  },
  {
   "cell_type": "code",
   "execution_count": 50,
   "metadata": {},
   "outputs": [
    {
     "data": {
      "text/plain": [
       "28.61224900065459"
      ]
     },
     "execution_count": 50,
     "metadata": {},
     "output_type": "execute_result"
    }
   ],
   "source": [
    "df_median['mean_delta_e'].mean()"
   ]
  },
  {
   "cell_type": "code",
   "execution_count": null,
   "metadata": {},
   "outputs": [],
   "source": []
  }
 ],
 "metadata": {
  "kernelspec": {
   "display_name": "Python [conda env:colorml2] *",
   "language": "python",
   "name": "conda-env-colorml2-py"
  },
  "language_info": {
   "codemirror_mode": {
    "name": "ipython",
    "version": 3
   },
   "file_extension": ".py",
   "mimetype": "text/x-python",
   "name": "python",
   "nbconvert_exporter": "python",
   "pygments_lexer": "ipython3",
   "version": "3.7.6"
  }
 },
 "nbformat": 4,
 "nbformat_minor": 4
}
