{
 "cells": [
  {
   "cell_type": "markdown",
   "metadata": {},
   "source": [
    "# Take a look at the bootstrapped metrics"
   ]
  },
  {
   "cell_type": "code",
   "execution_count": 3,
   "metadata": {},
   "outputs": [],
   "source": [
    "import pandas as pd \n",
    "import numpy as np \n",
    "\n",
    "import seaborn as sns\n",
    "import matplotlib.pyplot as plt \n",
    "%matplotlib inline"
   ]
  },
  {
   "cell_type": "code",
   "execution_count": 4,
   "metadata": {},
   "outputs": [],
   "source": [
    "df_results = pd.read_csv('../results/results_lightgbm.csv')"
   ]
  },
  {
   "cell_type": "code",
   "execution_count": 13,
   "metadata": {},
   "outputs": [],
   "source": [
    "df_mean = pd.read_csv('../results/results_mean_dummy.csv')"
   ]
  },
  {
   "cell_type": "code",
   "execution_count": 14,
   "metadata": {},
   "outputs": [],
   "source": [
    "df_median = pd.read_csv('../results/results_median_dummy.csv')"
   ]
  },
  {
   "cell_type": "code",
   "execution_count": 15,
   "metadata": {},
   "outputs": [
    {
     "data": {
      "text/html": [
       "<div>\n",
       "<style scoped>\n",
       "    .dataframe tbody tr th:only-of-type {\n",
       "        vertical-align: middle;\n",
       "    }\n",
       "\n",
       "    .dataframe tbody tr th {\n",
       "        vertical-align: top;\n",
       "    }\n",
       "\n",
       "    .dataframe thead th {\n",
       "        text-align: right;\n",
       "    }\n",
       "</style>\n",
       "<table border=\"1\" class=\"dataframe\">\n",
       "  <thead>\n",
       "    <tr style=\"text-align: right;\">\n",
       "      <th></th>\n",
       "      <th>r2</th>\n",
       "      <th>mae</th>\n",
       "      <th>mse</th>\n",
       "      <th>mdae</th>\n",
       "      <th>median_delta_e</th>\n",
       "      <th>mean_delta_e</th>\n",
       "    </tr>\n",
       "  </thead>\n",
       "  <tbody>\n",
       "    <tr>\n",
       "      <th>0</th>\n",
       "      <td>-0.399401</td>\n",
       "      <td>0.265633</td>\n",
       "      <td>0.187768</td>\n",
       "      <td>0.051634</td>\n",
       "      <td>25.701850</td>\n",
       "      <td>29.198581</td>\n",
       "    </tr>\n",
       "    <tr>\n",
       "      <th>1</th>\n",
       "      <td>-0.404005</td>\n",
       "      <td>0.273148</td>\n",
       "      <td>0.196610</td>\n",
       "      <td>0.056209</td>\n",
       "      <td>27.503301</td>\n",
       "      <td>30.282299</td>\n",
       "    </tr>\n",
       "    <tr>\n",
       "      <th>2</th>\n",
       "      <td>-0.388212</td>\n",
       "      <td>0.265136</td>\n",
       "      <td>0.189733</td>\n",
       "      <td>0.051634</td>\n",
       "      <td>20.115557</td>\n",
       "      <td>29.622106</td>\n",
       "    </tr>\n",
       "    <tr>\n",
       "      <th>3</th>\n",
       "      <td>-0.402876</td>\n",
       "      <td>0.276002</td>\n",
       "      <td>0.200859</td>\n",
       "      <td>0.054575</td>\n",
       "      <td>27.503301</td>\n",
       "      <td>29.521307</td>\n",
       "    </tr>\n",
       "    <tr>\n",
       "      <th>4</th>\n",
       "      <td>-0.326920</td>\n",
       "      <td>0.242345</td>\n",
       "      <td>0.169424</td>\n",
       "      <td>0.039869</td>\n",
       "      <td>18.061254</td>\n",
       "      <td>26.203001</td>\n",
       "    </tr>\n",
       "  </tbody>\n",
       "</table>\n",
       "</div>"
      ],
      "text/plain": [
       "         r2       mae       mse      mdae  median_delta_e  mean_delta_e\n",
       "0 -0.399401  0.265633  0.187768  0.051634       25.701850     29.198581\n",
       "1 -0.404005  0.273148  0.196610  0.056209       27.503301     30.282299\n",
       "2 -0.388212  0.265136  0.189733  0.051634       20.115557     29.622106\n",
       "3 -0.402876  0.276002  0.200859  0.054575       27.503301     29.521307\n",
       "4 -0.326920  0.242345  0.169424  0.039869       18.061254     26.203001"
      ]
     },
     "execution_count": 15,
     "metadata": {},
     "output_type": "execute_result"
    }
   ],
   "source": [
    "df_median.head()"
   ]
  },
  {
   "cell_type": "code",
   "execution_count": 37,
   "metadata": {},
   "outputs": [],
   "source": [
    "maes =   {'model': ['GBDT'] * len(df_results) + ['mean dummy'] * len(df_mean) + ['median dummy'] * len(df_median),\n",
    "          'mae': list(df_results['mae']) + list(df_mean['mae']) + list(df_median['mae'])\n",
    "         }"
   ]
  },
  {
   "cell_type": "code",
   "execution_count": 38,
   "metadata": {},
   "outputs": [],
   "source": [
    "delta_es =   {'model': ['GBDT'] * len(df_results) + ['mean dummy'] * len(df_mean) + ['median dummy'] * len(df_median),\n",
    "          'es': list(df_results['median_delta_e']) + list(df_mean['median_delta_e']) + list(df_median['median_delta_e'])\n",
    "         }"
   ]
  },
  {
   "cell_type": "code",
   "execution_count": 48,
   "metadata": {},
   "outputs": [],
   "source": [
    "delta_r2 =   {'model': ['GBDT'] * len(df_results) + ['mean dummy'] * len(df_mean) + ['median dummy'] * len(df_median),\n",
    "          'r2': list(df_results['r2']) + list(df_mean['r2']) + list(df_median['r2'])\n",
    "         }"
   ]
  },
  {
   "cell_type": "code",
   "execution_count": 39,
   "metadata": {},
   "outputs": [],
   "source": [
    "df_mae = pd.DataFrame(maes)"
   ]
  },
  {
   "cell_type": "code",
   "execution_count": 40,
   "metadata": {},
   "outputs": [],
   "source": [
    "df_es = pd.DataFrame(delta_es)"
   ]
  },
  {
   "cell_type": "code",
   "execution_count": 50,
   "metadata": {},
   "outputs": [],
   "source": [
    "df_r2 = pd.DataFrame(delta_r2)"
   ]
  },
  {
   "cell_type": "code",
   "execution_count": 58,
   "metadata": {
    "scrolled": true
   },
   "outputs": [
    {
     "name": "stderr",
     "output_type": "stream",
     "text": [
      "/Users/kevinmaikjablonka/opt/miniconda3/envs/colorml2/lib/python3.7/site-packages/ipykernel_launcher.py:7: MatplotlibDeprecationWarning: \n",
      "The set_smart_bounds function was deprecated in Matplotlib 3.2 and will be removed two minor releases later.\n",
      "  import sys\n",
      "/Users/kevinmaikjablonka/opt/miniconda3/envs/colorml2/lib/python3.7/site-packages/ipykernel_launcher.py:8: MatplotlibDeprecationWarning: \n",
      "The set_smart_bounds function was deprecated in Matplotlib 3.2 and will be removed two minor releases later.\n",
      "  \n"
     ]
    },
    {
     "data": {
      "image/png": "[encoded data removed]",
      "text/plain": [
       "<Figure size 432x576 with 3 Axes>"
      ]
     },
     "metadata": {
      "needs_background": "light"
     },
     "output_type": "display_data"
    }
   ],
   "source": [
    "fig, ax = plt.subplots(3,1, figsize=(6,8))\n",
    "\n",
    "\n",
    "for a in ax:\n",
    "    a.spines['top'].set_color('none')\n",
    "    a.spines['right'].set_color('none')\n",
    "    a.spines['left'].set_smart_bounds(True)\n",
    "    a.spines['bottom'].set_smart_bounds(True)\n",
    "\n",
    "sns.boxenplot(data=df_mae, x='model', y='mae', ax=ax[0])\n",
    "sns.boxenplot(data=df_es, x='model', y='es', ax=ax[1])\n",
    "sns.boxenplot(data=df_r2, x='model', y='r2', ax=ax[2])\n",
    "\n",
    "ax[1].set_xlabel('regressor')\n",
    "ax[0].set_ylabel('mean absolute error')\n",
    "ax[1].set_ylabel(r'$\\Delta E^*_{ab}$')\n",
    "ax[2].set_ylabel(r'$r^2$ score')\n",
    "\n",
    "fig.tight_layout()\n",
    "\n",
    "fig.savefig('../results/metrics_bootsrapped.pdf', bbox_inches='tight')"
   ]
  },
  {
   "cell_type": "code",
   "execution_count": 82,
   "metadata": {},
   "outputs": [
    {
     "data": {
      "text/plain": [
       "14.325039800601662"
      ]
     },
     "execution_count": 82,
     "metadata": {},
     "output_type": "execute_result"
    }
   ],
   "source": [
    "np.percentile(df_results['median_delta_e'], 95)"
   ]
  },
  {
   "cell_type": "code",
   "execution_count": 83,
   "metadata": {},
   "outputs": [
    {
     "data": {
      "text/plain": [
       "11.698265867580194"
      ]
     },
     "execution_count": 83,
     "metadata": {},
     "output_type": "execute_result"
    }
   ],
   "source": [
    "np.percentile(df_results['median_delta_e'], 5)"
   ]
  },
  {
   "cell_type": "code",
   "execution_count": 84,
   "metadata": {},
   "outputs": [
    {
     "data": {
      "text/plain": [
       "12.948571938128222"
      ]
     },
     "execution_count": 84,
     "metadata": {},
     "output_type": "execute_result"
    }
   ],
   "source": [
    "df_results['median_delta_e'].mean()"
   ]
  },
  {
   "cell_type": "code",
   "execution_count": null,
   "metadata": {},
   "outputs": [],
   "source": []
  }
 ],
 "metadata": {
  "kernelspec": {
   "display_name": "Python [conda env:colorml2] *",
   "language": "python",
   "name": "conda-env-colorml2-py"
  },
  "language_info": {
   "codemirror_mode": {
    "name": "ipython",
    "version": 3
   },
   "file_extension": ".py",
   "mimetype": "text/x-python",
   "name": "python",
   "nbconvert_exporter": "python",
   "pygments_lexer": "ipython3",
   "version": "3.7.6"
  }
 },
 "nbformat": 4,
 "nbformat_minor": 4
}
