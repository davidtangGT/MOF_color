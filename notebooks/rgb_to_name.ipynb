{
 "cells": [
  {
   "cell_type": "markdown",
   "metadata": {},
   "source": [
    "# Map RGB to name"
   ]
  },
  {
   "cell_type": "code",
   "execution_count": 1,
   "metadata": {},
   "outputs": [],
   "source": [
    "import pandas as pd"
   ]
  },
  {
   "cell_type": "code",
   "execution_count": 37,
   "metadata": {},
   "outputs": [],
   "source": [
    "df = pd.read_csv('../data/development_set.csv')"
   ]
  },
  {
   "cell_type": "code",
   "execution_count": 38,
   "metadata": {},
   "outputs": [
    {
     "data": {
      "text/html": [
       "<div>\n",
       "<style scoped>\n",
       "    .dataframe tbody tr th:only-of-type {\n",
       "        vertical-align: middle;\n",
       "    }\n",
       "\n",
       "    .dataframe tbody tr th {\n",
       "        vertical-align: top;\n",
       "    }\n",
       "\n",
       "    .dataframe thead th {\n",
       "        text-align: right;\n",
       "    }\n",
       "</style>\n",
       "<table border=\"1\" class=\"dataframe\">\n",
       "  <thead>\n",
       "    <tr style=\"text-align: right;\">\n",
       "      <th></th>\n",
       "      <th>Unnamed: 0</th>\n",
       "      <th>mc_CRY-chi-0-all</th>\n",
       "      <th>mc_CRY-chi-1-all</th>\n",
       "      <th>mc_CRY-chi-2-all</th>\n",
       "      <th>mc_CRY-chi-3-all</th>\n",
       "      <th>mc_CRY-Z-0-all</th>\n",
       "      <th>mc_CRY-Z-1-all</th>\n",
       "      <th>mc_CRY-Z-2-all</th>\n",
       "      <th>mc_CRY-Z-3-all</th>\n",
       "      <th>mc_CRY-I-0-all</th>\n",
       "      <th>...</th>\n",
       "      <th>sum-D_func-alpha-1-all</th>\n",
       "      <th>sum-D_func-alpha-2-all</th>\n",
       "      <th>sum-D_func-alpha-3-all</th>\n",
       "      <th>color_cleaned</th>\n",
       "      <th>refcode</th>\n",
       "      <th>color_string</th>\n",
       "      <th>delta_t_seconds</th>\n",
       "      <th>r</th>\n",
       "      <th>g</th>\n",
       "      <th>b</th>\n",
       "    </tr>\n",
       "  </thead>\n",
       "  <tbody>\n",
       "    <tr>\n",
       "      <th>0</th>\n",
       "      <td>564</td>\n",
       "      <td>2.722500</td>\n",
       "      <td>24.552000</td>\n",
       "      <td>26.053500</td>\n",
       "      <td>53.666250</td>\n",
       "      <td>900.0</td>\n",
       "      <td>1035.000000</td>\n",
       "      <td>1110.000000</td>\n",
       "      <td>2670.000000</td>\n",
       "      <td>1.0</td>\n",
       "      <td>...</td>\n",
       "      <td>-20.8</td>\n",
       "      <td>-24.0</td>\n",
       "      <td>-48.0</td>\n",
       "      <td>colorless</td>\n",
       "      <td>ATOWOW</td>\n",
       "      <td>colorless</td>\n",
       "      <td>23.274056</td>\n",
       "      <td>232.0</td>\n",
       "      <td>234.0</td>\n",
       "      <td>244.0</td>\n",
       "    </tr>\n",
       "    <tr>\n",
       "      <th>1</th>\n",
       "      <td>3192</td>\n",
       "      <td>3.610000</td>\n",
       "      <td>21.786667</td>\n",
       "      <td>16.276667</td>\n",
       "      <td>64.080667</td>\n",
       "      <td>841.0</td>\n",
       "      <td>773.333333</td>\n",
       "      <td>2010.666667</td>\n",
       "      <td>2281.333333</td>\n",
       "      <td>1.0</td>\n",
       "      <td>...</td>\n",
       "      <td>145.6</td>\n",
       "      <td>54.8</td>\n",
       "      <td>136.8</td>\n",
       "      <td>blue</td>\n",
       "      <td>PEDMER</td>\n",
       "      <td>blue</td>\n",
       "      <td>19.723303</td>\n",
       "      <td>12.0</td>\n",
       "      <td>26.0</td>\n",
       "      <td>224.0</td>\n",
       "    </tr>\n",
       "    <tr>\n",
       "      <th>2</th>\n",
       "      <td>3228</td>\n",
       "      <td>2.115933</td>\n",
       "      <td>21.312000</td>\n",
       "      <td>21.624000</td>\n",
       "      <td>29.506133</td>\n",
       "      <td>2843.0</td>\n",
       "      <td>1902.000000</td>\n",
       "      <td>1836.000000</td>\n",
       "      <td>2701.333333</td>\n",
       "      <td>1.0</td>\n",
       "      <td>...</td>\n",
       "      <td>-48.0</td>\n",
       "      <td>-48.0</td>\n",
       "      <td>-88.2</td>\n",
       "      <td>blue</td>\n",
       "      <td>QUPZAC</td>\n",
       "      <td>blue</td>\n",
       "      <td>19.723303</td>\n",
       "      <td>12.0</td>\n",
       "      <td>26.0</td>\n",
       "      <td>224.0</td>\n",
       "    </tr>\n",
       "    <tr>\n",
       "      <th>3</th>\n",
       "      <td>2237</td>\n",
       "      <td>2.856100</td>\n",
       "      <td>27.716000</td>\n",
       "      <td>25.857000</td>\n",
       "      <td>48.198800</td>\n",
       "      <td>2304.0</td>\n",
       "      <td>1824.000000</td>\n",
       "      <td>1728.000000</td>\n",
       "      <td>2400.000000</td>\n",
       "      <td>1.0</td>\n",
       "      <td>...</td>\n",
       "      <td>-58.8</td>\n",
       "      <td>3.2</td>\n",
       "      <td>-4.8</td>\n",
       "      <td>colorless</td>\n",
       "      <td>EBISEQ</td>\n",
       "      <td>colorless</td>\n",
       "      <td>23.274056</td>\n",
       "      <td>232.0</td>\n",
       "      <td>234.0</td>\n",
       "      <td>244.0</td>\n",
       "    </tr>\n",
       "    <tr>\n",
       "      <th>4</th>\n",
       "      <td>1393</td>\n",
       "      <td>1.210000</td>\n",
       "      <td>22.704000</td>\n",
       "      <td>8.415000</td>\n",
       "      <td>7.260000</td>\n",
       "      <td>4225.0</td>\n",
       "      <td>3120.000000</td>\n",
       "      <td>1170.000000</td>\n",
       "      <td>195.000000</td>\n",
       "      <td>1.0</td>\n",
       "      <td>...</td>\n",
       "      <td>0.0</td>\n",
       "      <td>0.0</td>\n",
       "      <td>0.0</td>\n",
       "      <td>colorless</td>\n",
       "      <td>RUGHEI</td>\n",
       "      <td>colorless</td>\n",
       "      <td>23.274056</td>\n",
       "      <td>232.0</td>\n",
       "      <td>234.0</td>\n",
       "      <td>244.0</td>\n",
       "    </tr>\n",
       "  </tbody>\n",
       "</table>\n",
       "<p>5 rows × 342 columns</p>\n",
       "</div>"
      ],
      "text/plain": [
       "   Unnamed: 0  mc_CRY-chi-0-all  mc_CRY-chi-1-all  mc_CRY-chi-2-all  \\\n",
       "0         564          2.722500         24.552000         26.053500   \n",
       "1        3192          3.610000         21.786667         16.276667   \n",
       "2        3228          2.115933         21.312000         21.624000   \n",
       "3        2237          2.856100         27.716000         25.857000   \n",
       "4        1393          1.210000         22.704000          8.415000   \n",
       "\n",
       "   mc_CRY-chi-3-all  mc_CRY-Z-0-all  mc_CRY-Z-1-all  mc_CRY-Z-2-all  \\\n",
       "0         53.666250           900.0     1035.000000     1110.000000   \n",
       "1         64.080667           841.0      773.333333     2010.666667   \n",
       "2         29.506133          2843.0     1902.000000     1836.000000   \n",
       "3         48.198800          2304.0     1824.000000     1728.000000   \n",
       "4          7.260000          4225.0     3120.000000     1170.000000   \n",
       "\n",
       "   mc_CRY-Z-3-all  mc_CRY-I-0-all  ...  sum-D_func-alpha-1-all  \\\n",
       "0     2670.000000             1.0  ...                   -20.8   \n",
       "1     2281.333333             1.0  ...                   145.6   \n",
       "2     2701.333333             1.0  ...                   -48.0   \n",
       "3     2400.000000             1.0  ...                   -58.8   \n",
       "4      195.000000             1.0  ...                     0.0   \n",
       "\n",
       "   sum-D_func-alpha-2-all  sum-D_func-alpha-3-all  color_cleaned  refcode  \\\n",
       "0                   -24.0                   -48.0      colorless   ATOWOW   \n",
       "1                    54.8                   136.8           blue   PEDMER   \n",
       "2                   -48.0                   -88.2           blue   QUPZAC   \n",
       "3                     3.2                    -4.8      colorless   EBISEQ   \n",
       "4                     0.0                     0.0      colorless   RUGHEI   \n",
       "\n",
       "   color_string  delta_t_seconds      r      g      b  \n",
       "0     colorless        23.274056  232.0  234.0  244.0  \n",
       "1          blue        19.723303   12.0   26.0  224.0  \n",
       "2          blue        19.723303   12.0   26.0  224.0  \n",
       "3     colorless        23.274056  232.0  234.0  244.0  \n",
       "4     colorless        23.274056  232.0  234.0  244.0  \n",
       "\n",
       "[5 rows x 342 columns]"
      ]
     },
     "execution_count": 38,
     "metadata": {},
     "output_type": "execute_result"
    }
   ],
   "source": [
    "df.head()"
   ]
  },
  {
   "cell_type": "code",
   "execution_count": 39,
   "metadata": {},
   "outputs": [],
   "source": [
    "FEATURES = ['r', 'g', 'b']"
   ]
  },
  {
   "cell_type": "code",
   "execution_count": 43,
   "metadata": {},
   "outputs": [],
   "source": [
    "TARGET = 'color_cleaned'"
   ]
  },
  {
   "cell_type": "code",
   "execution_count": 44,
   "metadata": {},
   "outputs": [],
   "source": [
    "df.dropna(subset=FEATURES + [TARGET], inplace=True)"
   ]
  },
  {
   "cell_type": "code",
   "execution_count": 45,
   "metadata": {},
   "outputs": [],
   "source": [
    "from sklearn.neighbors import KNeighborsClassifier"
   ]
  },
  {
   "cell_type": "code",
   "execution_count": 46,
   "metadata": {},
   "outputs": [],
   "source": [
    "from sklearn.model_selection import train_test_split\n",
    "from sklearn.preprocessing import LabelEncoder"
   ]
  },
  {
   "cell_type": "code",
   "execution_count": 47,
   "metadata": {},
   "outputs": [
    {
     "data": {
      "text/plain": [
       "LabelEncoder()"
      ]
     },
     "execution_count": 47,
     "metadata": {},
     "output_type": "execute_result"
    }
   ],
   "source": [
    "le = LabelEncoder()\n",
    "\n",
    "le.fit(df[TARGET])"
   ]
  },
  {
   "cell_type": "code",
   "execution_count": 48,
   "metadata": {},
   "outputs": [],
   "source": [
    "df_train, df_test = train_test_split(df, train_size=0.8)"
   ]
  },
  {
   "cell_type": "code",
   "execution_count": 49,
   "metadata": {},
   "outputs": [],
   "source": [
    "knn = KNeighborsClassifier()"
   ]
  },
  {
   "cell_type": "code",
   "execution_count": 50,
   "metadata": {},
   "outputs": [
    {
     "data": {
      "text/plain": [
       "KNeighborsClassifier()"
      ]
     },
     "execution_count": 50,
     "metadata": {},
     "output_type": "execute_result"
    }
   ],
   "source": [
    "knn.fit(df_train[FEATURES], le.transform(df_train[TARGET]))"
   ]
  },
  {
   "cell_type": "code",
   "execution_count": 51,
   "metadata": {},
   "outputs": [
    {
     "data": {
      "text/plain": [
       "0.984619140625"
      ]
     },
     "execution_count": 51,
     "metadata": {},
     "output_type": "execute_result"
    }
   ],
   "source": [
    "knn.score(df_train[FEATURES], le.transform(df_train[TARGET]))"
   ]
  },
  {
   "cell_type": "code",
   "execution_count": 52,
   "metadata": {},
   "outputs": [
    {
     "data": {
      "text/plain": [
       "0.97265625"
      ]
     },
     "execution_count": 52,
     "metadata": {},
     "output_type": "execute_result"
    }
   ],
   "source": [
    "knn.score(df_test[FEATURES], le.transform(df_test[TARGET]))"
   ]
  },
  {
   "cell_type": "code",
   "execution_count": 55,
   "metadata": {},
   "outputs": [],
   "source": [
    "import joblib"
   ]
  },
  {
   "cell_type": "code",
   "execution_count": 56,
   "metadata": {},
   "outputs": [
    {
     "data": {
      "text/plain": [
       "['knn_map_rgb_string.joblib']"
      ]
     },
     "execution_count": 56,
     "metadata": {},
     "output_type": "execute_result"
    }
   ],
   "source": [
    "joblib.dump(knn, 'knn_map_rgb_string.joblib')"
   ]
  },
  {
   "cell_type": "code",
   "execution_count": 57,
   "metadata": {},
   "outputs": [
    {
     "data": {
      "text/plain": [
       "['labelencoder.joblib']"
      ]
     },
     "execution_count": 57,
     "metadata": {},
     "output_type": "execute_result"
    }
   ],
   "source": [
    "joblib.dump(le, 'labelencoder.joblib')"
   ]
  },
  {
   "cell_type": "code",
   "execution_count": null,
   "metadata": {},
   "outputs": [],
   "source": []
  }
 ],
 "metadata": {
  "kernelspec": {
   "display_name": "Python [conda env:colorml2] *",
   "language": "python",
   "name": "conda-env-colorml2-py"
  },
  "language_info": {
   "codemirror_mode": {
    "name": "ipython",
    "version": 3
   },
   "file_extension": ".py",
   "mimetype": "text/x-python",
   "name": "python",
   "nbconvert_exporter": "python",
   "pygments_lexer": "ipython3",
   "version": "3.7.6"
  }
 },
 "nbformat": 4,
 "nbformat_minor": 4
}
