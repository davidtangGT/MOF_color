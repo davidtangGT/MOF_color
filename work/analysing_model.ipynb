{
 "cells": [
  {
   "cell_type": "code",
   "execution_count": 198,
   "metadata": {},
   "outputs": [],
   "source": [
    "import joblib\n",
    "import pandas as pd\n",
    "import sys\n",
    "sys.path.append('../')\n",
    "from sklearn.preprocessing import StandardScaler\n",
    "from colorml.utils import mapping_to_target_range, get_timestamp_string, plot_predictions, huber_fn, mapping_to_target_range_sig, read_pickle, augment_data\n",
    "from colorml.descriptornames import * "
   ]
  },
  {
   "cell_type": "code",
   "execution_count": 270,
   "metadata": {},
   "outputs": [],
   "source": [
    "scaler = joblib.load('2020513gpoutnoise/scaler.joblib')\n",
    "vt = joblib.load('2020513gpoutnoise/vt.joblib')\n",
    "sfs = joblib.load('2020513gpoutnoise/sfs.joblib')"
   ]
  },
  {
   "cell_type": "code",
   "execution_count": 271,
   "metadata": {},
   "outputs": [],
   "source": [
    "df_train = pd.read_csv('../data/development_set.csv')\n",
    "df_test = pd.read_csv('../data/holdout_set.csv')"
   ]
  },
  {
   "cell_type": "code",
   "execution_count": 272,
   "metadata": {},
   "outputs": [],
   "source": [
    "CHEMICAL_FEATURES = (\n",
    "        metalcenter_descriptors\n",
    "        + functionalgroup_descriptors\n",
    "        + linker_descriptors\n",
    "        + mol_desc\n",
    "        + summed_functionalgroup_descriptors\n",
    "        + summed_linker_descriptors\n",
    "        + summed_metalcenter_descriptors\n",
    "    )"
   ]
  },
  {
   "cell_type": "code",
   "execution_count": 273,
   "metadata": {},
   "outputs": [],
   "source": [
    "X_train = df_train[CHEMICAL_FEATURES]\n",
    "X_test = df_test[CHEMICAL_FEATURES]"
   ]
  },
  {
   "cell_type": "code",
   "execution_count": 274,
   "metadata": {},
   "outputs": [],
   "source": [
    "df_chris = pd.read_csv('../notebooks/chris_descriptors.csv')\n",
    "df_new = pd.read_csv('../notebooks/new_descriptors.csv')"
   ]
  },
  {
   "cell_type": "code",
   "execution_count": 275,
   "metadata": {},
   "outputs": [],
   "source": [
    "X_chris = df_chris[CHEMICAL_FEATURES]\n",
    "X_new = df_new[CHEMICAL_FEATURES]"
   ]
  },
  {
   "cell_type": "code",
   "execution_count": 276,
   "metadata": {},
   "outputs": [],
   "source": [
    "yscaler = StandardScaler()\n",
    "y_train = yscaler.fit_transform(df_train[['r', 'g', 'b']])\n",
    "y_test = yscaler.transform(df_test[['r', 'g', 'b']])"
   ]
  },
  {
   "cell_type": "code",
   "execution_count": 212,
   "metadata": {
    "scrolled": true
   },
   "outputs": [
    {
     "data": {
      "text/plain": [
       "(<Figure size 432x288 with 1 Axes>,\n",
       " <matplotlib.axes._subplots.AxesSubplot at 0x1a3c5b6710>)"
      ]
     },
     "execution_count": 212,
     "metadata": {},
     "output_type": "execute_result"
    },
    {
     "data": {
      "image/png": "[encoded data removed]",
      "text/plain": [
       "<Figure size 432x288 with 1 Axes>"
      ]
     },
     "metadata": {
      "needs_background": "light"
     },
     "output_type": "display_data"
    }
   ],
   "source": [
    "from mlxtend.plotting import plot_sequential_feature_selection as plot_sfs\n",
    "\n",
    "plot_sfs(sfs.get_metric_dict())"
   ]
  },
  {
   "cell_type": "code",
   "execution_count": 286,
   "metadata": {},
   "outputs": [
    {
     "data": {
      "text/plain": [
       "{'feature_idx': (0, 4, 5, 114, 137, 139, 176, 178, 188, 190),\n",
       " 'cv_scores': array([-0.10149103, -0.09171885, -0.09519617, -0.09692281, -0.11977126]),\n",
       " 'avg_score': -0.1010200242918804,\n",
       " 'feature_names': ('0',\n",
       "  '4',\n",
       "  '5',\n",
       "  '114',\n",
       "  '137',\n",
       "  '139',\n",
       "  '176',\n",
       "  '178',\n",
       "  '188',\n",
       "  '190'),\n",
       " 'ci_bound': 0.012711352680391422,\n",
       " 'std_dev': 0.00988986423177354,\n",
       " 'std_err': 0.00494493211588677}"
      ]
     },
     "execution_count": 286,
     "metadata": {},
     "output_type": "execute_result"
    }
   ],
   "source": [
    "sfs.get_metric_dict()[10]"
   ]
  },
  {
   "cell_type": "code",
   "execution_count": 277,
   "metadata": {},
   "outputs": [],
   "source": [
    "X_train = vt.transform(X_train)\n",
    "X_test = vt.transform(X_test)\n",
    "X_chris = vt.transform(X_chris)\n",
    "X_new = vt.transform(X_new)\n",
    "\n",
    "X_train = scaler.transform(X_train)\n",
    "X_test = scaler.transform(X_test)\n",
    "X_chris = scaler.transform(X_chris)\n",
    "X_new = scaler.transform(X_new)"
   ]
  },
  {
   "cell_type": "code",
   "execution_count": 278,
   "metadata": {},
   "outputs": [],
   "source": [
    "feat = [0,\n",
    "  4,\n",
    "  5,\n",
    "  34,\n",
    "  36,\n",
    "  45,\n",
    "  47,\n",
    "  56,\n",
    "  72,\n",
    "  74,\n",
    "  84,\n",
    "  114,\n",
    "  137,\n",
    "  139,\n",
    "  149,\n",
    "  151,\n",
    "  176,\n",
    "  178,\n",
    "  188,\n",
    "  190]"
   ]
  },
  {
   "cell_type": "code",
   "execution_count": 279,
   "metadata": {},
   "outputs": [],
   "source": [
    "X_train = X_train[:, feat]\n",
    "X_test = X_test[:, feat]\n",
    "X_chris = X_chris[:, feat]\n",
    "X_new = X_new[:, feat]"
   ]
  },
  {
   "cell_type": "code",
   "execution_count": 280,
   "metadata": {},
   "outputs": [],
   "source": [
    "name_train = df_train['color_cleaned']\n",
    "name_test = df_test['color_cleaned']"
   ]
  },
  {
   "cell_type": "code",
   "execution_count": 281,
   "metadata": {},
   "outputs": [],
   "source": [
    "from sklearn.gaussian_process.kernels import RBF, WhiteKernel, Matern, ConstantKernel, RationalQuadratic"
   ]
  },
  {
   "cell_type": "code",
   "execution_count": 282,
   "metadata": {},
   "outputs": [],
   "source": [
    "gp = sfs.estimator"
   ]
  },
  {
   "cell_type": "code",
   "execution_count": 283,
   "metadata": {},
   "outputs": [
    {
     "data": {
      "text/plain": [
       "GaussianProcessRegressor(alpha=1e-10, copy_X_train=True,\n",
       "                         kernel=RationalQuadratic(alpha=1, length_scale=0.1) + WhiteKernel(noise_level=0.01),\n",
       "                         n_restarts_optimizer=30, normalize_y=True,\n",
       "                         optimizer='fmin_l_bfgs_b', random_state=None)"
      ]
     },
     "execution_count": 283,
     "metadata": {},
     "output_type": "execute_result"
    }
   ],
   "source": [
    "gp.n_restarts_optimizer = 30\n",
    "gp.kernel = RationalQuadratic(length_scale=0.1, length_scale_bounds=(1e-6,.5)) + WhiteKernel(0.01, (1e-3, .8e-1))\n",
    "gp.fit(X_train, y_train)"
   ]
  },
  {
   "cell_type": "code",
   "execution_count": 242,
   "metadata": {},
   "outputs": [
    {
     "data": {
      "text/plain": [
       "RationalQuadratic(alpha=0.0406, length_scale=1.12e-05) + WhiteKernel(noise_level=0.08)"
      ]
     },
     "execution_count": 242,
     "metadata": {},
     "output_type": "execute_result"
    }
   ],
   "source": [
    "gp.kernel_"
   ]
  },
  {
   "cell_type": "code",
   "execution_count": null,
   "metadata": {},
   "outputs": [],
   "source": []
  },
  {
   "cell_type": "code",
   "execution_count": 234,
   "metadata": {},
   "outputs": [],
   "source": [
    "predictions = gp.predict(X_test)\n",
    "\n"
   ]
  },
  {
   "cell_type": "code",
   "execution_count": 87,
   "metadata": {},
   "outputs": [
    {
     "data": {
      "text/plain": [
       "['best_model_so_for_rq_2.joblib']"
      ]
     },
     "execution_count": 87,
     "metadata": {},
     "output_type": "execute_result"
    }
   ],
   "source": [
    "joblib.dump(gp, 'best_model_so_for_rq_2.joblib')"
   ]
  },
  {
   "cell_type": "code",
   "execution_count": 220,
   "metadata": {},
   "outputs": [],
   "source": [
    "predictions = gp.predict(X_test, return_std=True)"
   ]
  },
  {
   "cell_type": "code",
   "execution_count": 287,
   "metadata": {},
   "outputs": [
    {
     "name": "stderr",
     "output_type": "stream",
     "text": [
      "../colorml/utils.py:159: UserWarning: This figure includes Axes that are not compatible with tight_layout, so results might be incorrect.\n",
      "  fig.tight_layout()\n"
     ]
    },
    {
     "data": {
      "image/png": "[encoded data removed]",
      "text/plain": [
       "<Figure size 345.6x1152 with 1 Axes>"
      ]
     },
     "metadata": {
      "needs_background": "light"
     },
     "output_type": "display_data"
    }
   ],
   "source": [
    "plot_predictions(yscaler.inverse_transform(predictions), yscaler.inverse_transform(y_test),  name_test.values,  sample=20)"
   ]
  },
  {
   "cell_type": "code",
   "execution_count": 289,
   "metadata": {},
   "outputs": [],
   "source": [
    "from sklearn.metrics import r2_score, mean_absolute_error, mean_squared_error\n",
    "def get_metrics(y_true, y_predicted):\n",
    "    r2 = r2_score(y_true, y_predicted)\n",
    "    mae = mean_absolute_error(y_true, y_predicted)\n",
    "    mse = mean_squared_error(y_true, y_predicted)\n",
    "    \n",
    "    return {\n",
    "        'r2': r2,\n",
    "        'mae': mae,\n",
    "        'mse': mse\n",
    "    }"
   ]
  },
  {
   "cell_type": "code",
   "execution_count": 290,
   "metadata": {},
   "outputs": [
    {
     "data": {
      "text/plain": [
       "{'r2': 0.4254127751703806, 'mae': 0.5277814106223865, 'mse': 0.594657552413356}"
      ]
     },
     "execution_count": 290,
     "metadata": {},
     "output_type": "execute_result"
    }
   ],
   "source": [
    "get_metrics(y_test, predictions)"
   ]
  },
  {
   "cell_type": "code",
   "execution_count": 224,
   "metadata": {},
   "outputs": [],
   "source": [
    "samples = gp.sample_y(X_test[0:1], 200)"
   ]
  },
  {
   "cell_type": "code",
   "execution_count": 225,
   "metadata": {},
   "outputs": [],
   "source": [
    "import matplotlib.pyplot as plt \n",
    "%matplotlib inline\n",
    "\n",
    "import seaborn as sns"
   ]
  },
  {
   "cell_type": "code",
   "execution_count": 226,
   "metadata": {},
   "outputs": [
    {
     "data": {
      "text/plain": [
       "<matplotlib.axes._subplots.AxesSubplot at 0x1a3a7030d0>"
      ]
     },
     "execution_count": 226,
     "metadata": {},
     "output_type": "execute_result"
    },
    {
     "data": {
      "image/png": "[encoded data removed]",
      "text/plain": [
       "<Figure size 432x288 with 1 Axes>"
      ]
     },
     "metadata": {
      "needs_background": "light"
     },
     "output_type": "display_data"
    }
   ],
   "source": [
    "sns.distplot((samples[0][0] + 0.5) * 255 )"
   ]
  },
  {
   "cell_type": "code",
   "execution_count": 227,
   "metadata": {},
   "outputs": [
    {
     "data": {
      "text/plain": [
       "<matplotlib.axes._subplots.AxesSubplot at 0x1a3a5fdc10>"
      ]
     },
     "execution_count": 227,
     "metadata": {},
     "output_type": "execute_result"
    },
    {
     "data": {
      "image/png": "[encoded data removed]",
      "text/plain": [
       "<Figure size 432x288 with 1 Axes>"
      ]
     },
     "metadata": {
      "needs_background": "light"
     },
     "output_type": "display_data"
    }
   ],
   "source": [
    "sns.distplot((samples[0][1] + 0.5) * 255 )"
   ]
  },
  {
   "cell_type": "code",
   "execution_count": 256,
   "metadata": {},
   "outputs": [],
   "source": [
    "chris_predict = gp.predict(X_chris)\n",
    "new_predict = gp.predict(X_new)"
   ]
  },
  {
   "cell_type": "code",
   "execution_count": 237,
   "metadata": {},
   "outputs": [
    {
     "data": {
      "text/plain": [
       "array([[ 0.2942583 ,  0.27497884,  0.26036616],\n",
       "       [-0.16903178, -0.1917214 , -0.38944439],\n",
       "       [ 0.29429402,  0.27494908,  0.26030513]])"
      ]
     },
     "execution_count": 237,
     "metadata": {},
     "output_type": "execute_result"
    }
   ],
   "source": [
    "chris_predict"
   ]
  },
  {
   "cell_type": "code",
   "execution_count": 257,
   "metadata": {},
   "outputs": [
    {
     "name": "stderr",
     "output_type": "stream",
     "text": [
      "../colorml/utils.py:159: UserWarning: This figure includes Axes that are not compatible with tight_layout, so results might be incorrect.\n",
      "  fig.tight_layout()\n"
     ]
    },
    {
     "data": {
      "image/png": "[encoded data removed]",
      "text/plain": [
       "<Figure size 345.6x1152 with 1 Axes>"
      ]
     },
     "metadata": {
      "needs_background": "light"
     },
     "output_type": "display_data"
    }
   ],
   "source": [
    "plot_predictions(yscaler.inverse_transform(chris_predict), yscaler.inverse_transform(chris_predict), df_chris['name'])"
   ]
  },
  {
   "cell_type": "code",
   "execution_count": 258,
   "metadata": {},
   "outputs": [
    {
     "name": "stderr",
     "output_type": "stream",
     "text": [
      "../colorml/utils.py:159: UserWarning: This figure includes Axes that are not compatible with tight_layout, so results might be incorrect.\n",
      "  fig.tight_layout()\n"
     ]
    },
    {
     "data": {
      "image/png": "[encoded data removed]",
      "text/plain": [
       "<Figure size 345.6x1152 with 1 Axes>"
      ]
     },
     "metadata": {
      "needs_background": "light"
     },
     "output_type": "display_data"
    }
   ],
   "source": [
    "plot_predictions(yscaler.inverse_transform(new_predict), yscaler.inverse_transform(new_predict), df_new['name'])"
   ]
  },
  {
   "cell_type": "code",
   "execution_count": 266,
   "metadata": {},
   "outputs": [
    {
     "data": {
      "text/plain": [
       "['Unnamed: 0',\n",
       " 'mc_CRY-chi-0-all',\n",
       " 'mc_CRY-chi-1-all',\n",
       " 'mc_CRY-chi-2-all',\n",
       " 'mc_CRY-chi-3-all',\n",
       " 'mc_CRY-Z-0-all',\n",
       " 'mc_CRY-Z-1-all',\n",
       " 'mc_CRY-Z-2-all',\n",
       " 'mc_CRY-Z-3-all',\n",
       " 'mc_CRY-I-0-all',\n",
       " 'mc_CRY-I-1-all',\n",
       " 'mc_CRY-I-2-all',\n",
       " 'mc_CRY-I-3-all',\n",
       " 'mc_CRY-T-0-all',\n",
       " 'mc_CRY-T-1-all',\n",
       " 'mc_CRY-T-2-all',\n",
       " 'mc_CRY-T-3-all',\n",
       " 'mc_CRY-S-0-all',\n",
       " 'mc_CRY-S-1-all',\n",
       " 'mc_CRY-S-2-all',\n",
       " 'mc_CRY-S-3-all',\n",
       " 'D_mc_CRY-chi-0-all',\n",
       " 'D_mc_CRY-chi-1-all',\n",
       " 'D_mc_CRY-chi-2-all',\n",
       " 'D_mc_CRY-chi-3-all',\n",
       " 'D_mc_CRY-Z-0-all',\n",
       " 'D_mc_CRY-Z-1-all',\n",
       " 'D_mc_CRY-Z-2-all',\n",
       " 'D_mc_CRY-Z-3-all',\n",
       " 'D_mc_CRY-I-0-all',\n",
       " 'D_mc_CRY-I-1-all',\n",
       " 'D_mc_CRY-I-2-all',\n",
       " 'D_mc_CRY-I-3-all',\n",
       " 'D_mc_CRY-T-0-all',\n",
       " 'D_mc_CRY-T-1-all',\n",
       " 'D_mc_CRY-T-2-all',\n",
       " 'D_mc_CRY-T-3-all',\n",
       " 'D_mc_CRY-S-0-all',\n",
       " 'D_mc_CRY-S-1-all',\n",
       " 'D_mc_CRY-S-2-all',\n",
       " 'D_mc_CRY-S-3-all',\n",
       " 'func-chi-0-all',\n",
       " 'func-chi-1-all',\n",
       " 'func-chi-2-all',\n",
       " 'func-chi-3-all',\n",
       " 'func-Z-0-all',\n",
       " 'func-Z-1-all',\n",
       " 'func-Z-2-all',\n",
       " 'func-Z-3-all',\n",
       " 'func-I-0-all',\n",
       " 'func-I-1-all',\n",
       " 'func-I-2-all',\n",
       " 'func-I-3-all',\n",
       " 'func-T-0-all',\n",
       " 'func-T-1-all',\n",
       " 'func-T-2-all',\n",
       " 'func-T-3-all',\n",
       " 'func-S-0-all',\n",
       " 'func-S-1-all',\n",
       " 'func-S-2-all',\n",
       " 'func-S-3-all',\n",
       " 'func-alpha-0-all',\n",
       " 'func-alpha-1-all',\n",
       " 'func-alpha-2-all',\n",
       " 'func-alpha-3-all',\n",
       " 'D_func-chi-0-all',\n",
       " 'D_func-chi-1-all',\n",
       " 'D_func-chi-2-all',\n",
       " 'D_func-chi-3-all',\n",
       " 'D_func-Z-0-all',\n",
       " 'D_func-Z-1-all',\n",
       " 'D_func-Z-2-all',\n",
       " 'D_func-Z-3-all',\n",
       " 'D_func-I-0-all',\n",
       " 'D_func-I-1-all',\n",
       " 'D_func-I-2-all',\n",
       " 'D_func-I-3-all',\n",
       " 'D_func-T-0-all',\n",
       " 'D_func-T-1-all',\n",
       " 'D_func-T-2-all',\n",
       " 'D_func-T-3-all',\n",
       " 'D_func-S-0-all',\n",
       " 'D_func-S-1-all',\n",
       " 'D_func-S-2-all',\n",
       " 'D_func-S-3-all',\n",
       " 'D_func-alpha-0-all',\n",
       " 'D_func-alpha-1-all',\n",
       " 'D_func-alpha-2-all',\n",
       " 'D_func-alpha-3-all',\n",
       " 'f-lig-chi-0',\n",
       " 'f-lig-chi-1',\n",
       " 'f-lig-chi-2',\n",
       " 'f-lig-chi-3',\n",
       " 'f-lig-Z-0',\n",
       " 'f-lig-Z-1',\n",
       " 'f-lig-Z-2',\n",
       " 'f-lig-Z-3',\n",
       " 'f-lig-I-0',\n",
       " 'f-lig-I-1',\n",
       " 'f-lig-I-2',\n",
       " 'f-lig-I-3',\n",
       " 'f-lig-T-0',\n",
       " 'f-lig-T-1',\n",
       " 'f-lig-T-2',\n",
       " 'f-lig-T-3',\n",
       " 'f-lig-S-0',\n",
       " 'f-lig-S-1',\n",
       " 'f-lig-S-2',\n",
       " 'f-lig-S-3',\n",
       " 'lc-chi-0-all',\n",
       " 'lc-chi-1-all',\n",
       " 'lc-chi-2-all',\n",
       " 'lc-chi-3-all',\n",
       " 'lc-Z-0-all',\n",
       " 'lc-Z-1-all',\n",
       " 'lc-Z-2-all',\n",
       " 'lc-Z-3-all',\n",
       " 'lc-I-0-all',\n",
       " 'lc-I-1-all',\n",
       " 'lc-I-2-all',\n",
       " 'lc-I-3-all',\n",
       " 'lc-T-0-all',\n",
       " 'lc-T-1-all',\n",
       " 'lc-T-2-all',\n",
       " 'lc-T-3-all',\n",
       " 'lc-S-0-all',\n",
       " 'lc-S-1-all',\n",
       " 'lc-S-2-all',\n",
       " 'lc-S-3-all',\n",
       " 'lc-alpha-0-all',\n",
       " 'lc-alpha-1-all',\n",
       " 'lc-alpha-2-all',\n",
       " 'lc-alpha-3-all',\n",
       " 'D_lc-chi-0-all',\n",
       " 'D_lc-chi-1-all',\n",
       " 'D_lc-chi-2-all',\n",
       " 'D_lc-chi-3-all',\n",
       " 'D_lc-Z-0-all',\n",
       " 'D_lc-Z-1-all',\n",
       " 'D_lc-Z-2-all',\n",
       " 'D_lc-Z-3-all',\n",
       " 'D_lc-I-0-all',\n",
       " 'D_lc-I-1-all',\n",
       " 'D_lc-I-2-all',\n",
       " 'D_lc-I-3-all',\n",
       " 'D_lc-T-0-all',\n",
       " 'D_lc-T-1-all',\n",
       " 'D_lc-T-2-all',\n",
       " 'D_lc-T-3-all',\n",
       " 'D_lc-S-0-all',\n",
       " 'D_lc-S-1-all',\n",
       " 'D_lc-S-2-all',\n",
       " 'D_lc-S-3-all',\n",
       " 'D_lc-alpha-0-all',\n",
       " 'D_lc-alpha-1-all',\n",
       " 'D_lc-alpha-2-all',\n",
       " 'D_lc-alpha-3-all',\n",
       " 'primary_amide_sum',\n",
       " 'secondary_amide_sum',\n",
       " 'tertiary_amide_sum',\n",
       " 'ester_sum',\n",
       " 'carbonyl_sum',\n",
       " 'logP_sum',\n",
       " 'MR_sum',\n",
       " 'dbratio_sum',\n",
       " 'aromatic_rings_sum',\n",
       " 'dbonds_sum',\n",
       " 'abonds_sum',\n",
       " 'primary_amide_mean',\n",
       " 'secondary_amide_mean',\n",
       " 'tertiary_amide_mean',\n",
       " 'ester_mean',\n",
       " 'carbonyl_mean',\n",
       " 'logP_mean',\n",
       " 'MR_mean',\n",
       " 'dbratio_mean',\n",
       " 'aromatic_rings_mean',\n",
       " 'dbonds_mean',\n",
       " 'abonds_mean',\n",
       " 'sum-f-lig-chi-0',\n",
       " 'sum-f-lig-chi-1',\n",
       " 'sum-f-lig-chi-2',\n",
       " 'sum-f-lig-chi-3',\n",
       " 'sum-f-lig-Z-0',\n",
       " 'sum-f-lig-Z-1',\n",
       " 'sum-f-lig-Z-2',\n",
       " 'sum-f-lig-Z-3',\n",
       " 'sum-f-lig-I-0',\n",
       " 'sum-f-lig-I-1',\n",
       " 'sum-f-lig-I-2',\n",
       " 'sum-f-lig-I-3',\n",
       " 'sum-f-lig-T-0',\n",
       " 'sum-f-lig-T-1',\n",
       " 'sum-f-lig-T-2',\n",
       " 'sum-f-lig-T-3',\n",
       " 'sum-f-lig-S-0',\n",
       " 'sum-f-lig-S-1',\n",
       " 'sum-f-lig-S-2',\n",
       " 'sum-f-lig-S-3',\n",
       " 'sum-lc-chi-0-all',\n",
       " 'sum-lc-chi-1-all',\n",
       " 'sum-lc-chi-2-all',\n",
       " 'sum-lc-chi-3-all',\n",
       " 'sum-lc-Z-0-all',\n",
       " 'sum-lc-Z-1-all',\n",
       " 'sum-lc-Z-2-all',\n",
       " 'sum-lc-Z-3-all',\n",
       " 'sum-lc-I-0-all',\n",
       " 'sum-lc-I-1-all',\n",
       " 'sum-lc-I-2-all',\n",
       " 'sum-lc-I-3-all',\n",
       " 'sum-lc-T-0-all',\n",
       " 'sum-lc-T-1-all',\n",
       " 'sum-lc-T-2-all',\n",
       " 'sum-lc-T-3-all',\n",
       " 'sum-lc-S-0-all',\n",
       " 'sum-lc-S-1-all',\n",
       " 'sum-lc-S-2-all',\n",
       " 'sum-lc-S-3-all',\n",
       " 'sum-lc-alpha-0-all',\n",
       " 'sum-lc-alpha-1-all',\n",
       " 'sum-lc-alpha-2-all',\n",
       " 'sum-lc-alpha-3-all',\n",
       " 'sum-D_lc-chi-0-all',\n",
       " 'sum-D_lc-chi-1-all',\n",
       " 'sum-D_lc-chi-2-all',\n",
       " 'sum-D_lc-chi-3-all',\n",
       " 'sum-D_lc-Z-0-all',\n",
       " 'sum-D_lc-Z-1-all',\n",
       " 'sum-D_lc-Z-2-all',\n",
       " 'sum-D_lc-Z-3-all',\n",
       " 'sum-D_lc-I-0-all',\n",
       " 'sum-D_lc-I-1-all',\n",
       " 'sum-D_lc-I-2-all',\n",
       " 'sum-D_lc-I-3-all',\n",
       " 'sum-D_lc-T-0-all',\n",
       " 'sum-D_lc-T-1-all',\n",
       " 'sum-D_lc-T-2-all',\n",
       " 'sum-D_lc-T-3-all',\n",
       " 'sum-D_lc-S-0-all',\n",
       " 'sum-D_lc-S-1-all',\n",
       " 'sum-D_lc-S-2-all',\n",
       " 'sum-D_lc-S-3-all',\n",
       " 'sum-D_lc-alpha-0-all',\n",
       " 'sum-D_lc-alpha-1-all',\n",
       " 'sum-D_lc-alpha-2-all',\n",
       " 'sum-D_lc-alpha-3-all',\n",
       " 'sum-mc_CRY-chi-0-all',\n",
       " 'sum-mc_CRY-chi-1-all',\n",
       " 'sum-mc_CRY-chi-2-all',\n",
       " 'sum-mc_CRY-chi-3-all',\n",
       " 'sum-mc_CRY-Z-0-all',\n",
       " 'sum-mc_CRY-Z-1-all',\n",
       " 'sum-mc_CRY-Z-2-all',\n",
       " 'sum-mc_CRY-Z-3-all',\n",
       " 'sum-mc_CRY-I-0-all',\n",
       " 'sum-mc_CRY-I-1-all',\n",
       " 'sum-mc_CRY-I-2-all',\n",
       " 'sum-mc_CRY-I-3-all',\n",
       " 'sum-mc_CRY-T-0-all',\n",
       " 'sum-mc_CRY-T-1-all',\n",
       " 'sum-mc_CRY-T-2-all',\n",
       " 'sum-mc_CRY-T-3-all',\n",
       " 'sum-mc_CRY-S-0-all',\n",
       " 'sum-mc_CRY-S-1-all',\n",
       " 'sum-mc_CRY-S-2-all',\n",
       " 'sum-mc_CRY-S-3-all',\n",
       " 'sum-D_mc_CRY-chi-0-all',\n",
       " 'sum-D_mc_CRY-chi-1-all',\n",
       " 'sum-D_mc_CRY-chi-2-all',\n",
       " 'sum-D_mc_CRY-chi-3-all',\n",
       " 'sum-D_mc_CRY-Z-0-all',\n",
       " 'sum-D_mc_CRY-Z-1-all',\n",
       " 'sum-D_mc_CRY-Z-2-all',\n",
       " 'sum-D_mc_CRY-Z-3-all',\n",
       " 'sum-D_mc_CRY-I-0-all',\n",
       " 'sum-D_mc_CRY-I-1-all',\n",
       " 'sum-D_mc_CRY-I-2-all',\n",
       " 'sum-D_mc_CRY-I-3-all',\n",
       " 'sum-D_mc_CRY-T-0-all',\n",
       " 'sum-D_mc_CRY-T-1-all',\n",
       " 'sum-D_mc_CRY-T-2-all',\n",
       " 'sum-D_mc_CRY-T-3-all',\n",
       " 'sum-D_mc_CRY-S-0-all',\n",
       " 'sum-D_mc_CRY-S-1-all',\n",
       " 'sum-D_mc_CRY-S-2-all',\n",
       " 'sum-D_mc_CRY-S-3-all',\n",
       " 'sum-func-chi-0-all',\n",
       " 'sum-func-chi-1-all',\n",
       " 'sum-func-chi-2-all',\n",
       " 'sum-func-chi-3-all',\n",
       " 'sum-func-Z-0-all',\n",
       " 'sum-func-Z-1-all',\n",
       " 'sum-func-Z-2-all',\n",
       " 'sum-func-Z-3-all',\n",
       " 'sum-func-I-0-all',\n",
       " 'sum-func-I-1-all',\n",
       " 'sum-func-I-2-all',\n",
       " 'sum-func-I-3-all',\n",
       " 'sum-func-T-0-all',\n",
       " 'sum-func-T-1-all',\n",
       " 'sum-func-T-2-all',\n",
       " 'sum-func-T-3-all',\n",
       " 'sum-func-S-0-all',\n",
       " 'sum-func-S-1-all',\n",
       " 'sum-func-S-2-all',\n",
       " 'sum-func-S-3-all',\n",
       " 'sum-func-alpha-0-all',\n",
       " 'sum-func-alpha-1-all',\n",
       " 'sum-func-alpha-2-all',\n",
       " 'sum-func-alpha-3-all',\n",
       " 'sum-D_func-chi-0-all',\n",
       " 'sum-D_func-chi-1-all',\n",
       " 'sum-D_func-chi-2-all',\n",
       " 'sum-D_func-chi-3-all',\n",
       " 'sum-D_func-Z-0-all',\n",
       " 'sum-D_func-Z-1-all',\n",
       " 'sum-D_func-Z-2-all',\n",
       " 'sum-D_func-Z-3-all',\n",
       " 'sum-D_func-I-0-all',\n",
       " 'sum-D_func-I-1-all',\n",
       " 'sum-D_func-I-2-all',\n",
       " 'sum-D_func-I-3-all',\n",
       " 'sum-D_func-T-0-all',\n",
       " 'sum-D_func-T-1-all',\n",
       " 'sum-D_func-T-2-all',\n",
       " 'sum-D_func-T-3-all',\n",
       " 'sum-D_func-S-0-all',\n",
       " 'sum-D_func-S-1-all',\n",
       " 'sum-D_func-S-2-all',\n",
       " 'sum-D_func-S-3-all',\n",
       " 'sum-D_func-alpha-0-all',\n",
       " 'sum-D_func-alpha-1-all',\n",
       " 'sum-D_func-alpha-2-all',\n",
       " 'sum-D_func-alpha-3-all',\n",
       " 'color_cleaned',\n",
       " 'color_string',\n",
       " 'delta_t_seconds',\n",
       " 'r',\n",
       " 'g',\n",
       " 'b']"
      ]
     },
     "execution_count": 266,
     "metadata": {},
     "output_type": "execute_result"
    }
   ],
   "source": []
  },
  {
   "cell_type": "code",
   "execution_count": null,
   "metadata": {},
   "outputs": [],
   "source": []
  }
 ],
 "metadata": {
  "kernelspec": {
   "display_name": "Python [conda env:colorml] *",
   "language": "python",
   "name": "conda-env-colorml-py"
  },
  "language_info": {
   "codemirror_mode": {
    "name": "ipython",
    "version": 3
   },
   "file_extension": ".py",
   "mimetype": "text/x-python",
   "name": "python",
   "nbconvert_exporter": "python",
   "pygments_lexer": "ipython3",
   "version": "3.7.6"
  }
 },
 "nbformat": 4,
 "nbformat_minor": 4
}
